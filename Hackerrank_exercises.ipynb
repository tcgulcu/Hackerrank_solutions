{
 "cells": [
  {
   "cell_type": "code",
   "execution_count": 7,
   "metadata": {},
   "outputs": [],
   "source": [
    "def plusMinus(arr):\n",
    "    # Write your code here\n",
    "    pos=0\n",
    "    neg=0\n",
    "    zero=0\n",
    "    N=len(arr)\n",
    "    for i in range(N):\n",
    "        if(arr[i]>0):\n",
    "            pos=pos+1\n",
    "        elif(arr[i]<0):\n",
    "            neg=neg+1\n",
    "        else:\n",
    "            zero=zero+1\n",
    "    return pos/N\n"
   ]
  },
  {
   "cell_type": "code",
   "execution_count": 8,
   "metadata": {},
   "outputs": [],
   "source": [
    "arr = [-4, 3, -9, 0, 4, 1]"
   ]
  },
  {
   "cell_type": "code",
   "execution_count": 9,
   "metadata": {},
   "outputs": [
    {
     "data": {
      "text/plain": [
       "0.5"
      ]
     },
     "execution_count": 9,
     "metadata": {},
     "output_type": "execute_result"
    }
   ],
   "source": [
    "plusMinus(arr)"
   ]
  },
  {
   "cell_type": "code",
   "execution_count": 13,
   "metadata": {},
   "outputs": [
    {
     "data": {
      "text/plain": [
       "'bcd'"
      ]
     },
     "execution_count": 13,
     "metadata": {},
     "output_type": "execute_result"
    }
   ],
   "source": [
    "s='abcd'\n",
    "L=len(s)\n",
    "\n",
    "k=0\n",
    "if(k==0):\n",
    "    s1=s[1:L]\n",
    "elif(k!=L-1):\n",
    "    s1=s[0:k]+s[(k+1):L]\n",
    "else:\n",
    "    s1=s[0:(L-1)]\n",
    "    \n",
    "s1"
   ]
  },
  {
   "cell_type": "code",
   "execution_count": 15,
   "metadata": {},
   "outputs": [
    {
     "data": {
      "text/plain": [
       "['a', 'b', 'f', 'k']"
      ]
     },
     "execution_count": 15,
     "metadata": {},
     "output_type": "execute_result"
    }
   ],
   "source": [
    "s='kafb'\n",
    "sorted(s)"
   ]
  },
  {
   "cell_type": "code",
   "execution_count": 18,
   "metadata": {},
   "outputs": [
    {
     "data": {
      "text/plain": [
       "[[1, 2], [3, 4]]"
      ]
     },
     "execution_count": 18,
     "metadata": {},
     "output_type": "execute_result"
    }
   ],
   "source": [
    "A=[[1,2],[3,4]]\n",
    "A"
   ]
  },
  {
   "cell_type": "code",
   "execution_count": 19,
   "metadata": {},
   "outputs": [
    {
     "data": {
      "text/plain": [
       "1"
      ]
     },
     "execution_count": 19,
     "metadata": {},
     "output_type": "execute_result"
    }
   ],
   "source": [
    "A[0][0]"
   ]
  },
  {
   "cell_type": "code",
   "execution_count": 20,
   "metadata": {},
   "outputs": [
    {
     "data": {
      "text/plain": [
       "[1, 2]"
      ]
     },
     "execution_count": 20,
     "metadata": {},
     "output_type": "execute_result"
    }
   ],
   "source": [
    "A[0]"
   ]
  },
  {
   "cell_type": "code",
   "execution_count": 21,
   "metadata": {},
   "outputs": [
    {
     "data": {
      "text/plain": [
       "[3, 4]"
      ]
     },
     "execution_count": 21,
     "metadata": {},
     "output_type": "execute_result"
    }
   ],
   "source": [
    "A[1]"
   ]
  },
  {
   "cell_type": "code",
   "execution_count": 23,
   "metadata": {},
   "outputs": [
    {
     "ename": "TypeError",
     "evalue": "list indices must be integers or slices, not tuple",
     "output_type": "error",
     "traceback": [
      "\u001b[0;31m---------------------------------------------------------------------------\u001b[0m",
      "\u001b[0;31mTypeError\u001b[0m                                 Traceback (most recent call last)",
      "\u001b[0;32m<ipython-input-23-db5c79a07ffe>\u001b[0m in \u001b[0;36m<module>\u001b[0;34m\u001b[0m\n\u001b[0;32m----> 1\u001b[0;31m \u001b[0mA\u001b[0m\u001b[0;34m[\u001b[0m\u001b[0;34m:\u001b[0m\u001b[0;34m,\u001b[0m\u001b[0;36m0\u001b[0m\u001b[0;34m]\u001b[0m\u001b[0;34m\u001b[0m\u001b[0;34m\u001b[0m\u001b[0m\n\u001b[0m",
      "\u001b[0;31mTypeError\u001b[0m: list indices must be integers or slices, not tuple"
     ]
    }
   ],
   "source": [
    "A[:,0]"
   ]
  },
  {
   "cell_type": "code",
   "execution_count": 24,
   "metadata": {},
   "outputs": [],
   "source": [
    "column=[]\n",
    "column.append([1])"
   ]
  },
  {
   "cell_type": "code",
   "execution_count": 25,
   "metadata": {},
   "outputs": [
    {
     "data": {
      "text/plain": [
       "[[1]]"
      ]
     },
     "execution_count": 25,
     "metadata": {},
     "output_type": "execute_result"
    }
   ],
   "source": [
    "column"
   ]
  },
  {
   "cell_type": "code",
   "execution_count": 26,
   "metadata": {},
   "outputs": [],
   "source": [
    "column=[]\n",
    "column.append(1)"
   ]
  },
  {
   "cell_type": "code",
   "execution_count": 27,
   "metadata": {},
   "outputs": [
    {
     "data": {
      "text/plain": [
       "[1]"
      ]
     },
     "execution_count": 27,
     "metadata": {},
     "output_type": "execute_result"
    }
   ],
   "source": [
    "column"
   ]
  },
  {
   "cell_type": "code",
   "execution_count": 28,
   "metadata": {},
   "outputs": [
    {
     "data": {
      "text/plain": [
       "[1, 2]"
      ]
     },
     "execution_count": 28,
     "metadata": {},
     "output_type": "execute_result"
    }
   ],
   "source": [
    "column.append(2)\n",
    "column"
   ]
  },
  {
   "cell_type": "code",
   "execution_count": 29,
   "metadata": {},
   "outputs": [
    {
     "data": {
      "text/plain": [
       "[1, 3]"
      ]
     },
     "execution_count": 29,
     "metadata": {},
     "output_type": "execute_result"
    }
   ],
   "source": [
    "column=[]\n",
    "column.append(A[0][0])\n",
    "column.append(A[1][0])\n",
    "column"
   ]
  },
  {
   "cell_type": "code",
   "execution_count": 30,
   "metadata": {},
   "outputs": [
    {
     "name": "stdout",
     "output_type": "stream",
     "text": [
      "[1, 3]\n"
     ]
    }
   ],
   "source": [
    "print(column)"
   ]
  },
  {
   "cell_type": "code",
   "execution_count": 33,
   "metadata": {},
   "outputs": [],
   "source": [
    "q1=[1,2,3,4]\n",
    "q=[4,1,2,3]"
   ]
  },
  {
   "cell_type": "code",
   "execution_count": 34,
   "metadata": {},
   "outputs": [],
   "source": [
    "bribes=0\n",
    "a=len(q)\n",
    "flag=0"
   ]
  },
  {
   "cell_type": "code",
   "execution_count": 35,
   "metadata": {},
   "outputs": [],
   "source": [
    "b=q.index(a)\n",
    "c=q1.index(a)\n",
    "if(b<c):\n",
    "    bribes=bribes+(c-b)\n",
    "    if(c-b>2):\n",
    "        flag=1\n",
    "    q1=q1[:b]+[a]+q1[b:c]+q1[(c+1):]"
   ]
  },
  {
   "cell_type": "code",
   "execution_count": 36,
   "metadata": {},
   "outputs": [
    {
     "data": {
      "text/plain": [
       "[4, 1, 2, 3]"
      ]
     },
     "execution_count": 36,
     "metadata": {},
     "output_type": "execute_result"
    }
   ],
   "source": [
    "q1"
   ]
  },
  {
   "cell_type": "code",
   "execution_count": 37,
   "metadata": {},
   "outputs": [
    {
     "data": {
      "text/plain": [
       "4"
      ]
     },
     "execution_count": 37,
     "metadata": {},
     "output_type": "execute_result"
    }
   ],
   "source": [
    "len(q)"
   ]
  },
  {
   "cell_type": "code",
   "execution_count": 38,
   "metadata": {},
   "outputs": [
    {
     "data": {
      "text/plain": [
       "0"
      ]
     },
     "execution_count": 38,
     "metadata": {},
     "output_type": "execute_result"
    }
   ],
   "source": [
    "q.index(len(q))"
   ]
  },
  {
   "cell_type": "code",
   "execution_count": 39,
   "metadata": {},
   "outputs": [],
   "source": [
    "q1=[0]*len(q)\n",
    "for i in range(len(q)):\n",
    "    q1[i]=i+1"
   ]
  },
  {
   "cell_type": "code",
   "execution_count": 40,
   "metadata": {},
   "outputs": [
    {
     "data": {
      "text/plain": [
       "[1, 2, 3, 4]"
      ]
     },
     "execution_count": 40,
     "metadata": {},
     "output_type": "execute_result"
    }
   ],
   "source": [
    "q1"
   ]
  },
  {
   "cell_type": "code",
   "execution_count": 41,
   "metadata": {},
   "outputs": [],
   "source": [
    "q=[4,1,2,3]"
   ]
  },
  {
   "cell_type": "code",
   "execution_count": 42,
   "metadata": {},
   "outputs": [],
   "source": [
    "q1=[0]*len(q)\n",
    "for i in range(len(q)):\n",
    "    q1[i]=i+1\n",
    "bribes=0\n",
    "a=len(q)\n",
    "flag=0"
   ]
  },
  {
   "cell_type": "code",
   "execution_count": 43,
   "metadata": {},
   "outputs": [],
   "source": [
    "while(q1!=q):\n",
    "        b=q.index(a)\n",
    "        c=q1.index(a)\n",
    "        if(b<c):\n",
    "            bribes=bribes+(c-b)\n",
    "            if(c-b>2):\n",
    "                flag=1\n",
    "            q1=q1[:b]+[a]+q1[b:c]+q1[(c+1):]\n",
    "        a=a-1"
   ]
  },
  {
   "cell_type": "code",
   "execution_count": 45,
   "metadata": {},
   "outputs": [
    {
     "name": "stdout",
     "output_type": "stream",
     "text": [
      "3\n",
      "Too chaotic\n"
     ]
    }
   ],
   "source": [
    "print(bribes)\n",
    "if(flag==1):\n",
    "    print('Too chaotic') "
   ]
  },
  {
   "cell_type": "code",
   "execution_count": 46,
   "metadata": {},
   "outputs": [],
   "source": [
    "q=[2,1,5,3,4]"
   ]
  },
  {
   "cell_type": "code",
   "execution_count": 47,
   "metadata": {},
   "outputs": [],
   "source": [
    "q1=[0]*len(q)\n",
    "for i in range(len(q)):\n",
    "    q1[i]=i+1\n",
    "bribes=0\n",
    "a=len(q)\n",
    "flag=0"
   ]
  },
  {
   "cell_type": "code",
   "execution_count": 48,
   "metadata": {},
   "outputs": [],
   "source": [
    "while(q1!=q):\n",
    "        b=q.index(a)\n",
    "        c=q1.index(a)\n",
    "        if(b<c):\n",
    "            bribes=bribes+(c-b)\n",
    "            if(c-b>2):\n",
    "                flag=1\n",
    "            q1=q1[:b]+[a]+q1[b:c]+q1[(c+1):]\n",
    "        a=a-1"
   ]
  },
  {
   "cell_type": "code",
   "execution_count": 49,
   "metadata": {},
   "outputs": [
    {
     "name": "stdout",
     "output_type": "stream",
     "text": [
      "3\n"
     ]
    }
   ],
   "source": [
    "print(bribes)\n",
    "if(flag==1):\n",
    "    print('Too chaotic') "
   ]
  },
  {
   "cell_type": "code",
   "execution_count": 50,
   "metadata": {},
   "outputs": [],
   "source": [
    "q=[2,5,1,3,4]"
   ]
  },
  {
   "cell_type": "code",
   "execution_count": 53,
   "metadata": {},
   "outputs": [],
   "source": [
    "q1=[0]*len(q)\n",
    "for i in range(len(q)):\n",
    "    q1[i]=i+1\n",
    "bribes=0\n",
    "a=len(q)\n",
    "flag=0"
   ]
  },
  {
   "cell_type": "code",
   "execution_count": 52,
   "metadata": {},
   "outputs": [
    {
     "ename": "ValueError",
     "evalue": "0 is not in list",
     "output_type": "error",
     "traceback": [
      "\u001b[0;31m---------------------------------------------------------------------------\u001b[0m",
      "\u001b[0;31mValueError\u001b[0m                                Traceback (most recent call last)",
      "\u001b[0;32m<ipython-input-52-76928f742ffe>\u001b[0m in \u001b[0;36m<module>\u001b[0;34m\u001b[0m\n\u001b[1;32m      1\u001b[0m \u001b[0;32mwhile\u001b[0m\u001b[0;34m(\u001b[0m\u001b[0mq1\u001b[0m\u001b[0;34m!=\u001b[0m\u001b[0mq\u001b[0m\u001b[0;34m)\u001b[0m\u001b[0;34m:\u001b[0m\u001b[0;34m\u001b[0m\u001b[0;34m\u001b[0m\u001b[0m\n\u001b[0;32m----> 2\u001b[0;31m         \u001b[0mb\u001b[0m\u001b[0;34m=\u001b[0m\u001b[0mq\u001b[0m\u001b[0;34m.\u001b[0m\u001b[0mindex\u001b[0m\u001b[0;34m(\u001b[0m\u001b[0ma\u001b[0m\u001b[0;34m)\u001b[0m\u001b[0;34m\u001b[0m\u001b[0;34m\u001b[0m\u001b[0m\n\u001b[0m\u001b[1;32m      3\u001b[0m         \u001b[0mc\u001b[0m\u001b[0;34m=\u001b[0m\u001b[0mq1\u001b[0m\u001b[0;34m.\u001b[0m\u001b[0mindex\u001b[0m\u001b[0;34m(\u001b[0m\u001b[0ma\u001b[0m\u001b[0;34m)\u001b[0m\u001b[0;34m\u001b[0m\u001b[0;34m\u001b[0m\u001b[0m\n\u001b[1;32m      4\u001b[0m         \u001b[0;32mif\u001b[0m\u001b[0;34m(\u001b[0m\u001b[0mb\u001b[0m\u001b[0;34m<\u001b[0m\u001b[0mc\u001b[0m\u001b[0;34m)\u001b[0m\u001b[0;34m:\u001b[0m\u001b[0;34m\u001b[0m\u001b[0;34m\u001b[0m\u001b[0m\n\u001b[1;32m      5\u001b[0m             \u001b[0mbribes\u001b[0m\u001b[0;34m=\u001b[0m\u001b[0mbribes\u001b[0m\u001b[0;34m+\u001b[0m\u001b[0;34m(\u001b[0m\u001b[0mc\u001b[0m\u001b[0;34m-\u001b[0m\u001b[0mb\u001b[0m\u001b[0;34m)\u001b[0m\u001b[0;34m\u001b[0m\u001b[0;34m\u001b[0m\u001b[0m\n",
      "\u001b[0;31mValueError\u001b[0m: 0 is not in list"
     ]
    }
   ],
   "source": [
    "while(q1!=q):\n",
    "        b=q.index(a)\n",
    "        c=q1.index(a)\n",
    "        if(b<c):\n",
    "            bribes=bribes+(c-b)\n",
    "            if(c-b>2):\n",
    "                flag=1\n",
    "            q1=q1[:b]+[a]+q1[b:c]+q1[(c+1):]\n",
    "        a=a-1"
   ]
  },
  {
   "cell_type": "code",
   "execution_count": 54,
   "metadata": {},
   "outputs": [
    {
     "data": {
      "text/plain": [
       "5"
      ]
     },
     "execution_count": 54,
     "metadata": {},
     "output_type": "execute_result"
    }
   ],
   "source": [
    "a"
   ]
  },
  {
   "cell_type": "code",
   "execution_count": 55,
   "metadata": {},
   "outputs": [
    {
     "name": "stdout",
     "output_type": "stream",
     "text": [
      "Done\n"
     ]
    }
   ],
   "source": [
    "import sys\n",
    "for line in sys.stdin:\n",
    "    if 'Exit' == line.rstrip():\n",
    "        break\n",
    "    print(f'Processing Message from sys.stdin *****{line}*****')\n",
    "print(\"Done\")"
   ]
  },
  {
   "cell_type": "code",
   "execution_count": null,
   "metadata": {},
   "outputs": [],
   "source": [
    "import sys\n",
    "q = []\n",
    "chunk_of_input = sys.stdin.readline()\n",
    "a=int(chunk_of_input)\n",
    "for i in range(a):\n",
    "    bstr=sys.stdin.readline()\n",
    "    b=int(bstr[0])\n",
    "    if(b==2):\n",
    "        q=q[1:(len(q))]\n",
    "        continue\n",
    "    if(b==3):\n",
    "        print(q[0])\n",
    "        continue\n",
    "    if(b==1):\n",
    "        #sys.stdin.readline(1)\n",
    "        c=int(bstr[2:])\n",
    "        q=q+[c]"
   ]
  },
  {
   "cell_type": "code",
   "execution_count": 58,
   "metadata": {},
   "outputs": [
    {
     "data": {
      "text/plain": [
       "range(3, 0)"
      ]
     },
     "execution_count": 58,
     "metadata": {},
     "output_type": "execute_result"
    }
   ],
   "source": [
    "range(3,0)"
   ]
  },
  {
   "cell_type": "code",
   "execution_count": 61,
   "metadata": {},
   "outputs": [
    {
     "data": {
      "text/plain": [
       "'cd'"
      ]
     },
     "execution_count": 61,
     "metadata": {},
     "output_type": "execute_result"
    }
   ],
   "source": [
    "s='abcd'\n",
    "s[2:]"
   ]
  },
  {
   "cell_type": "code",
   "execution_count": 62,
   "metadata": {},
   "outputs": [],
   "source": [
    "ops=[]\n",
    "ops=ops+[s]"
   ]
  },
  {
   "cell_type": "code",
   "execution_count": 63,
   "metadata": {},
   "outputs": [
    {
     "data": {
      "text/plain": [
       "['abcd']"
      ]
     },
     "execution_count": 63,
     "metadata": {},
     "output_type": "execute_result"
    }
   ],
   "source": [
    "ops"
   ]
  },
  {
   "cell_type": "code",
   "execution_count": 64,
   "metadata": {},
   "outputs": [],
   "source": [
    "ops=ops+['efg']"
   ]
  },
  {
   "cell_type": "code",
   "execution_count": 65,
   "metadata": {},
   "outputs": [
    {
     "data": {
      "text/plain": [
       "['abcd', 'efg']"
      ]
     },
     "execution_count": 65,
     "metadata": {},
     "output_type": "execute_result"
    }
   ],
   "source": [
    "ops"
   ]
  },
  {
   "cell_type": "code",
   "execution_count": 66,
   "metadata": {},
   "outputs": [
    {
     "data": {
      "text/plain": [
       "'efg'"
      ]
     },
     "execution_count": 66,
     "metadata": {},
     "output_type": "execute_result"
    }
   ],
   "source": [
    "ops[1]"
   ]
  },
  {
   "cell_type": "code",
   "execution_count": 67,
   "metadata": {},
   "outputs": [
    {
     "data": {
      "text/plain": [
       "'f'"
      ]
     },
     "execution_count": 67,
     "metadata": {},
     "output_type": "execute_result"
    }
   ],
   "source": [
    "a=ops[1]\n",
    "a[1]"
   ]
  },
  {
   "cell_type": "code",
   "execution_count": 68,
   "metadata": {},
   "outputs": [
    {
     "data": {
      "text/plain": [
       "'fg'"
      ]
     },
     "execution_count": 68,
     "metadata": {},
     "output_type": "execute_result"
    }
   ],
   "source": [
    "s='1 fg'\n",
    "s[2:]"
   ]
  },
  {
   "cell_type": "code",
   "execution_count": 69,
   "metadata": {},
   "outputs": [
    {
     "data": {
      "text/plain": [
       "' fg'"
      ]
     },
     "execution_count": 69,
     "metadata": {},
     "output_type": "execute_result"
    }
   ],
   "source": [
    "s[1:]"
   ]
  },
  {
   "cell_type": "code",
   "execution_count": 70,
   "metadata": {},
   "outputs": [
    {
     "data": {
      "text/plain": [
       "''"
      ]
     },
     "execution_count": 70,
     "metadata": {},
     "output_type": "execute_result"
    }
   ],
   "source": [
    "s[0:0]"
   ]
  },
  {
   "cell_type": "code",
   "execution_count": 72,
   "metadata": {},
   "outputs": [
    {
     "name": "stdout",
     "output_type": "stream",
     "text": [
      "a\n"
     ]
    }
   ],
   "source": [
    "if(s[0:0]==\"\"):\n",
    "    print('a')\n"
   ]
  },
  {
   "cell_type": "code",
   "execution_count": 73,
   "metadata": {},
   "outputs": [
    {
     "data": {
      "text/plain": [
       "0"
      ]
     },
     "execution_count": 73,
     "metadata": {},
     "output_type": "execute_result"
    }
   ],
   "source": [
    "len(s[0:0])"
   ]
  },
  {
   "cell_type": "code",
   "execution_count": 85,
   "metadata": {},
   "outputs": [],
   "source": [
    "ops=['1 abc','3 3','2 3','1 xy','3 2','4','4','3 1']"
   ]
  },
  {
   "cell_type": "code",
   "execution_count": 88,
   "metadata": {},
   "outputs": [],
   "source": [
    "ops=['1 ewcgpjfh','1 igqsbqyp','1 qsdliigcj','4','3 15','1 iilmgp','2 8','4','2 18','1 scwhors']"
   ]
  },
  {
   "cell_type": "code",
   "execution_count": 89,
   "metadata": {},
   "outputs": [],
   "source": [
    "s_hist=[]\n",
    "s=\"\""
   ]
  },
  {
   "cell_type": "code",
   "execution_count": 90,
   "metadata": {},
   "outputs": [
    {
     "name": "stdout",
     "output_type": "stream",
     "text": [
      "e\n"
     ]
    }
   ],
   "source": [
    "for line in ops:\n",
    "    b=int(line[0])\n",
    "    if(b==1):\n",
    "        s=s+line[2:]\n",
    "        s_hist=s_hist+[s]\n",
    "    if(b==2):\n",
    "        c=line[2]\n",
    "        c=int(c)\n",
    "        if(c==len(s)):\n",
    "            s=\"\"\n",
    "        else:\n",
    "            s=s[0:(len(s)-c)]\n",
    "        s_hist=s_hist+[s]       \n",
    "    if(b==3):\n",
    "        d=line[2]\n",
    "        d=int(d)\n",
    "        print(s[d-1])\n",
    "    if(b==4):\n",
    "        s=s_hist[len(s_hist)-2]\n",
    "        s_hist=s_hist[:(len(s_hist)-1)]   "
   ]
  },
  {
   "cell_type": "code",
   "execution_count": null,
   "metadata": {},
   "outputs": [],
   "source": [
    "import sys\n",
    "s_hist=[\"\"]\n",
    "s=\"\"\n",
    "chunk_of_input = sys.stdin.readline()\n",
    "a=int(chunk_of_input)\n",
    "for i in range(a):\n",
    "    bstr=sys.stdin.readline()\n",
    "    if(i!=(a-1)):\n",
    "        bstr=bstr[0:(len(bstr)-1)]\n",
    "        #del bstr[len(bstr)-1]\n",
    "    b=int(bstr[0])\n",
    "    if(b==1):\n",
    "        s=s+bstr[2:]\n",
    "        #s_hist=s_hist+[s]\n",
    "        s_hist.append(s)\n",
    "    elif(b==2):\n",
    "        c=bstr[2:]\n",
    "        c=int(c)\n",
    "        if(c==len(s)):\n",
    "            s=\"\"\n",
    "        else:\n",
    "            s=s[0:(len(s)-c)]\n",
    "        #s_hist=s_hist+[s]\n",
    "        s_hist.append(s)       \n",
    "    elif(b==3):\n",
    "        d=bstr[2:]\n",
    "        d=int(d)\n",
    "        print(s[d-1])\n",
    "    elif(b==4):\n",
    "        s=s_hist[len(s_hist)-2]\n",
    "        #s_hist=s_hist[:(len(s_hist)-1)]\n",
    "        del s_hist[len(s_hist)-1]"
   ]
  },
  {
   "cell_type": "code",
   "execution_count": 92,
   "metadata": {},
   "outputs": [],
   "source": [
    "def recurs(n):\n",
    "    if(n==0):\n",
    "        return 0\n",
    "    if(n==1):\n",
    "        return 1\n",
    "    if(n==2):\n",
    "        return 2\n",
    "    if(n==3):\n",
    "        return 3\n",
    "    if(n==4):\n",
    "        return 7\n",
    "    else:\n",
    "        return recurs(n-1)+recurs(n-2)+recurs(n-3)+recurs(n-4)"
   ]
  },
  {
   "cell_type": "code",
   "execution_count": 93,
   "metadata": {},
   "outputs": [
    {
     "data": {
      "text/plain": [
       "345"
      ]
     },
     "execution_count": 93,
     "metadata": {},
     "output_type": "execute_result"
    }
   ],
   "source": [
    "recurs(10)"
   ]
  },
  {
   "cell_type": "code",
   "execution_count": 94,
   "metadata": {},
   "outputs": [],
   "source": [
    "import math\n",
    "N=pow(10,9)+7"
   ]
  },
  {
   "cell_type": "code",
   "execution_count": 95,
   "metadata": {},
   "outputs": [
    {
     "data": {
      "text/plain": [
       "1000000007"
      ]
     },
     "execution_count": 95,
     "metadata": {},
     "output_type": "execute_result"
    }
   ],
   "source": [
    "N"
   ]
  },
  {
   "cell_type": "code",
   "execution_count": 96,
   "metadata": {},
   "outputs": [
    {
     "data": {
      "text/plain": [
       "2401"
      ]
     },
     "execution_count": 96,
     "metadata": {},
     "output_type": "execute_result"
    }
   ],
   "source": [
    "7**4"
   ]
  },
  {
   "cell_type": "code",
   "execution_count": 337,
   "metadata": {},
   "outputs": [],
   "source": [
    "def bfs(n, m, edges, s):\n",
    "    # Write your code here\n",
    "    cnt=0\n",
    "    dist=[0]*(n-1)\n",
    "    edge_rem=edges\n",
    "    target=[s]\n",
    "    t=1\n",
    "    while(cnt<m and (t==1 or inc>0)):\n",
    "        inc=0\n",
    "        target_temp=[]\n",
    "        k=0\n",
    "        k2=len(edge_rem)\n",
    "        while(k<k2):\n",
    "            row=edge_rem[k]\n",
    "            if(row[0] in target):\n",
    "                inc=inc+1\n",
    "                k2=k2-1\n",
    "                edge_rem.remove(row)\n",
    "                target_temp.append(row[1])\n",
    "                if(row[1]<s):\n",
    "                    dist[row[1]-1]=6*t\n",
    "                else:\n",
    "                    dist[row[1]-2]=6*t\n",
    "            elif(row[1] in target):\n",
    "                inc=inc+1\n",
    "                k2=k2-1\n",
    "                edge_rem.remove(row)\n",
    "                target_temp.append(row[0])\n",
    "                if(row[0]<s):\n",
    "                    dist[row[0]-1]=6*t\n",
    "                else:\n",
    "                    dist[row[0]-2]=6*t\n",
    "            else:\n",
    "                k=k+1\n",
    "        cnt=cnt+inc\n",
    "        target=target_temp\n",
    "        t=t+1\n",
    "    for k in range(n-1):\n",
    "        if(dist[k]==0):\n",
    "            dist[k]=-1\n",
    "    return dist"
   ]
  },
  {
   "cell_type": "code",
   "execution_count": 338,
   "metadata": {},
   "outputs": [],
   "source": [
    "n=4\n",
    "m=2\n",
    "edges=[[1,2],[1,3]]\n",
    "s=1"
   ]
  },
  {
   "cell_type": "code",
   "execution_count": 339,
   "metadata": {},
   "outputs": [
    {
     "data": {
      "text/plain": [
       "[6, 6, -1]"
      ]
     },
     "execution_count": 339,
     "metadata": {},
     "output_type": "execute_result"
    }
   ],
   "source": [
    "bfs(n,m,edges,s)"
   ]
  },
  {
   "cell_type": "code",
   "execution_count": 295,
   "metadata": {},
   "outputs": [
    {
     "data": {
      "text/plain": [
       "[[1, 2], [1, 3]]"
      ]
     },
     "execution_count": 295,
     "metadata": {},
     "output_type": "execute_result"
    }
   ],
   "source": [
    "edges"
   ]
  },
  {
   "cell_type": "code",
   "execution_count": null,
   "metadata": {},
   "outputs": [],
   "source": [
    "2\n",
    "4 2\n",
    "1 2\n",
    "1 3\n",
    "1\n",
    "3 1\n",
    "2 3\n",
    "2"
   ]
  },
  {
   "cell_type": "code",
   "execution_count": null,
   "metadata": {},
   "outputs": [],
   "source": [
    "def noPrefix(words):\n",
    "    # Write your code here\n",
    "    dic={}\n",
    "    dic1={}\n",
    "    W=len(words)\n",
    "    for w in words:\n",
    "        a=len(w)\n",
    "        if(a in dic1):\n",
    "            dic1[a]=dic1[a]+1\n",
    "        else:\n",
    "            dic1[a]=1\n",
    "            \n",
    "    for j in range(W):\n",
    "        for a in dic1.keys():\n",
    "            w=words[j]\n",
    "            l=len(w)\n",
    "            if(a<=l):\n",
    "                w_tr=w[:a]\n",
    "                if(w_tr in dic):\n",
    "                    dic[w_tr]=dic[w_tr]+[j]\n",
    "                else:\n",
    "                    dic[w_tr]=[j]\n",
    "                if(a==l):\n",
    "                    dic[w_tr]=dic[w_tr]+[-1]\n",
    "                temp=dic[w_tr]\n",
    "                if(len(temp)>=3 and -1 in temp):\n",
    "                    print('BAD SET')\n",
    "                    print(w)\n",
    "                    return\n",
    "    print('GOOD SET')\n",
    "    return"
   ]
  },
  {
   "cell_type": "code",
   "execution_count": null,
   "metadata": {},
   "outputs": [],
   "source": [
    "void miniMaxSum(vector<int> arr) {\n",
    "    long int s;\n",
    "    long int a;\n",
    "    long int b;\n",
    "    s=accumulate(arr.begin(),arr.end(),static_cast<long int>(0));\n",
    "    a=*std::min_element(arr.begin(),arr.end());\n",
    "    b=*std::max_element(arr.begin(),arr.end());\n",
    "    long int c=s-b;\n",
    "    long int d=s-a;\n",
    "    cout<<c<<\" \"<<d;\n",
    "\n",
    "}"
   ]
  },
  {
   "cell_type": "code",
   "execution_count": null,
   "metadata": {},
   "outputs": [],
   "source": [
    "string timeConversion(string s) {\n",
    "    int L=s.length();\n",
    "    string a=\"12\";\n",
    "    if(a.compare(s.substr(0,2))==0){\n",
    "        if(s[L-2]=='P')\n",
    "            return s.substr(0,L-2);\n",
    "        else\n",
    "            return \"00\"+s.substr(2,L-4); \n",
    "    }\n",
    "    else{\n",
    "        if(s[L-2]=='A')\n",
    "            return s.substr(0,L-2);\n",
    "        else{\n",
    "            int a=stoi(s.substr(0,2));\n",
    "            a=a+12;\n",
    "            return to_string(a)+s.substr(2,L-4);\n",
    "        }\n",
    "    }\n",
    "    \n",
    "}"
   ]
  },
  {
   "cell_type": "code",
   "execution_count": null,
   "metadata": {},
   "outputs": [],
   "source": [
    "vector<int> matchingStrings(vector<string> strings, vector<string> queries) {\n",
    "map<string,int> dict;\n",
    "int N=strings.size();\n",
    "int i;\n",
    "for(i=0;i<N;i++){\n",
    "    if(dict.find(strings[i])!=dict.end())\n",
    "        dict[strings[i]]=dict[strings[i]]+1;\n",
    "    else \n",
    "        dict[strings[i]]=1;\n",
    "}\n",
    "vector<int> results;\n",
    "int M=queries.size();\n",
    "for(i=0;i<M;i++){\n",
    "    if(dict.find(queries[i])!=dict.end())\n",
    "        results.push_back(dict[queries[i]]);\n",
    "    else\n",
    "        results.push_back(0);\n",
    "}\n",
    "return results;\n",
    "}"
   ]
  },
  {
   "cell_type": "code",
   "execution_count": null,
   "metadata": {},
   "outputs": [],
   "source": [
    "int lonelyinteger(vector<int> a) {\n",
    "map<int,int> dict;\n",
    "int N=a.size();\n",
    "int i;\n",
    "vector<int> b=a;\n",
    "for(i=0;i<N;i++){\n",
    "    if(dict.find(a[i])!=dict.end()){\n",
    "        dict[a[i]]=dict[a[i]]+1;\n",
    "        remove(b.begin(),b.end(),a[i]);\n",
    "    }\n",
    "    else\n",
    "        dict[a[i]]=1;\n",
    "}\n",
    "return b[0];\n",
    "}"
   ]
  },
  {
   "cell_type": "code",
   "execution_count": null,
   "metadata": {},
   "outputs": [],
   "source": [
    "vector<int> countingSort(vector<int> arr) {\n",
    "vector<int> a(100,0);\n",
    "int N=arr.size();\n",
    "int i;\n",
    "for(i=0;i<N;i++)\n",
    "    a[arr[i]]=a[arr[i]]+1;\n",
    "return a;\n",
    "}"
   ]
  },
  {
   "cell_type": "code",
   "execution_count": null,
   "metadata": {},
   "outputs": [],
   "source": [
    "string pangrams(string s) {\n",
    "    int N=s.size();\n",
    "    int i;\n",
    "    char c;\n",
    "    map<char,int> dict;\n",
    "    for(i=0;i<N;i++){\n",
    "        if(s[i]!=' '){\n",
    "        c=s[i];\n",
    "        c=putchar(tolower(c));\n",
    "        dict[c]=1;\n",
    "        }\n",
    "        if(dict.size()==26)\n",
    "            return \"pangram\";\n",
    "    }\n",
    "    return \"not pangram\";     \n",
    "}"
   ]
  },
  {
   "cell_type": "code",
   "execution_count": null,
   "metadata": {},
   "outputs": [],
   "source": [
    "string twoArrays(int k, vector<int> A, vector<int> B) {\n",
    "    sort(A.begin(),A.end());\n",
    "    sort(B.begin(),B.end());\n",
    "    reverse(B.begin(),B.end());\n",
    "    int N=A.size();\n",
    "    int i;\n",
    "    for(i=0;i<N;i++){\n",
    "        if(A[i]+B[i]<k)\n",
    "            return \"NO\";\n",
    "    }\n",
    "    return \"YES\";\n",
    "}"
   ]
  },
  {
   "cell_type": "code",
   "execution_count": 1,
   "metadata": {},
   "outputs": [
    {
     "data": {
      "text/plain": [
       "4"
      ]
     },
     "execution_count": 1,
     "metadata": {},
     "output_type": "execute_result"
    }
   ],
   "source": [
    "a=[4]\n",
    "sum(a)"
   ]
  },
  {
   "cell_type": "code",
   "execution_count": 2,
   "metadata": {},
   "outputs": [
    {
     "data": {
      "text/plain": [
       "range(0, 0)"
      ]
     },
     "execution_count": 2,
     "metadata": {},
     "output_type": "execute_result"
    }
   ],
   "source": [
    "range(0)"
   ]
  },
  {
   "cell_type": "code",
   "execution_count": 3,
   "metadata": {},
   "outputs": [],
   "source": [
    "for a in range(0):\n",
    "    print(a)"
   ]
  },
  {
   "cell_type": "code",
   "execution_count": null,
   "metadata": {},
   "outputs": [],
   "source": [
    "int birthday(vector<int> s, int d, int m) {\n",
    "    int N=s.size();\n",
    "    int cnt=0;\n",
    "    int i;\n",
    "    vector<int> s1;\n",
    "    if(m>N)\n",
    "        return 0;\n",
    "    else{\n",
    "        for(i=0;i<N-m+1;i++){\n",
    "            if(accumulate(s.begin()+i,s.begin()+i+m,0)==d)\n",
    "                cnt=cnt+1;\n",
    "        }\n",
    "        return cnt;\n",
    "    }\n",
    "}"
   ]
  },
  {
   "cell_type": "code",
   "execution_count": 4,
   "metadata": {},
   "outputs": [
    {
     "data": {
      "text/plain": [
       "2"
      ]
     },
     "execution_count": 4,
     "metadata": {},
     "output_type": "execute_result"
    }
   ],
   "source": [
    "int(2.5)"
   ]
  },
  {
   "cell_type": "code",
   "execution_count": 5,
   "metadata": {},
   "outputs": [
    {
     "data": {
      "text/plain": [
       "3"
      ]
     },
     "execution_count": 5,
     "metadata": {},
     "output_type": "execute_result"
    }
   ],
   "source": [
    "int(3.5)"
   ]
  },
  {
   "cell_type": "code",
   "execution_count": null,
   "metadata": {},
   "outputs": [],
   "source": [
    "int sockMerchant(int n, vector<int> ar) {\n",
    "    map<int,int> dict;\n",
    "    int i;\n",
    "    vector<int> a;\n",
    "    for(i=0;i<n;i++){\n",
    "        if(dict.find(ar[i])!=dict.end())\n",
    "            dict[ar[i]]=dict[ar[i]]+1;\n",
    "        else {\n",
    "            dict[ar[i]]=1;\n",
    "            a.push_back(ar[i]);\n",
    "        }\n",
    "    }\n",
    "    int s=0;\n",
    "    int N=a.size();\n",
    "    for(i=0;i<N;i++)\n",
    "        s=s+int(dict[a[i]]/2);\n",
    "    return s;\n",
    "}"
   ]
  },
  {
   "cell_type": "code",
   "execution_count": 6,
   "metadata": {},
   "outputs": [
    {
     "data": {
      "text/plain": [
       "2"
      ]
     },
     "execution_count": 6,
     "metadata": {},
     "output_type": "execute_result"
    }
   ],
   "source": [
    "min([2,3])"
   ]
  },
  {
   "cell_type": "code",
   "execution_count": null,
   "metadata": {},
   "outputs": [],
   "source": [
    "int pageCount(int n, int p) {\n",
    "    vector<double> a{ceil(double(p-1)/2),ceil(double(n-1)/2)-ceil(double(p-1)/2)};\n",
    "    double b;\n",
    "    b=*min_element(a.begin(),a.end());\n",
    "    return int(b);\n",
    "   \n",
    "}"
   ]
  },
  {
   "cell_type": "code",
   "execution_count": null,
   "metadata": {},
   "outputs": [],
   "source": [
    "string caesarCipher(string s, int k) {\n",
    "    string out=\"\";\n",
    "    vector<char> alph{'a','b','c','d','e','f','g','h','i','j','k','l','m','n','o','p','q','r','s','t','u','v','w','x','y','z'};\n",
    "    vector<char> Alph{'A','B','C','D','E','F','G','H','I','J','K','L','M','N','O','P','Q','R','S','T','U','V','W','X','Y','Z'};\n",
    "    int N=s.size();\n",
    "    int i;\n",
    "    int c;\n",
    "    int b;\n",
    "    vector <int> itr;\n",
    "    for(i=0;i<N;i++){\n",
    "        if(find(alph.begin(),alph.end(),s[i])!=alph.end()){\n",
    "            b=distance(alph.begin(),find(alph.begin(),alph.end(),s[i]));\n",
    "            c=(b+k)%26;\n",
    "            out=out+alph[c];\n",
    "        }\n",
    "        else if(find(Alph.begin(),Alph.end(),s[i])!=Alph.end()){\n",
    "            b=distance(Alph.begin(),find(Alph.begin(),Alph.end(),s[i]));\n",
    "            c=(b+k)%26;\n",
    "            out=out+Alph[c];\n",
    "        }\n",
    "        else {\n",
    "            out=out+s[i];\n",
    "        }\n",
    "    }\n",
    "    return out;\n",
    "}"
   ]
  },
  {
   "cell_type": "code",
   "execution_count": null,
   "metadata": {},
   "outputs": [],
   "source": [
    "int maxMin(int k, vector<int> arr) {\n",
    "    int N=arr.size();\n",
    "    sort(arr.begin(),arr.end());\n",
    "    int s=arr[k-1]-arr[0];\n",
    "    int i;\n",
    "    for(i=0;i<N-k+1;i++){\n",
    "        if(arr[i+k-1]-arr[i]<s)\n",
    "            s=arr[i+k-1]-arr[i];\n",
    "    }\n",
    "    return s;\n",
    "}"
   ]
  },
  {
   "cell_type": "code",
   "execution_count": 7,
   "metadata": {},
   "outputs": [],
   "source": [
    "arr=[[0]*5]"
   ]
  },
  {
   "cell_type": "code",
   "execution_count": 8,
   "metadata": {},
   "outputs": [
    {
     "data": {
      "text/plain": [
       "[[0, 0, 0, 0, 0]]"
      ]
     },
     "execution_count": 8,
     "metadata": {},
     "output_type": "execute_result"
    }
   ],
   "source": [
    "arr"
   ]
  },
  {
   "cell_type": "code",
   "execution_count": null,
   "metadata": {},
   "outputs": [],
   "source": [
    "vector<int> dynamicArray(int n, vector<vector<int>> queries) {\n",
    "    int lastAnswer=0;\n",
    "    map<int,vector<int>> dict;\n",
    "    vector<int> res;\n",
    "    vector<int> q;\n",
    "    vector<int> v;\n",
    "    int a,b,x,y,idx,c,M;\n",
    "    int N=queries.size();\n",
    "    int i;\n",
    "    for(i=0;i<N;i++){\n",
    "        q=queries[i];\n",
    "        a=q[0];\n",
    "        x=q[1];\n",
    "        y=q[2];\n",
    "        if(a==1){\n",
    "            b=x^lastAnswer;\n",
    "            idx=b%n;\n",
    "            dict[idx].push_back(y);\n",
    "        }\n",
    "        else {\n",
    "            b=x^lastAnswer;\n",
    "            idx=b%n;\n",
    "            v=dict[idx];\n",
    "            M=v.size();\n",
    "            c=y%M;\n",
    "            lastAnswer=v[c];\n",
    "            res.push_back(lastAnswer);\n",
    "        }\n",
    "    }\n",
    "    return res;\n",
    "}"
   ]
  },
  {
   "cell_type": "code",
   "execution_count": 13,
   "metadata": {},
   "outputs": [
    {
     "ename": "AttributeError",
     "evalue": "'str' object has no attribute 'sort'",
     "output_type": "error",
     "traceback": [
      "\u001b[0;31m---------------------------------------------------------------------------\u001b[0m",
      "\u001b[0;31mAttributeError\u001b[0m                            Traceback (most recent call last)",
      "\u001b[0;32m<ipython-input-13-06d6741345eb>\u001b[0m in \u001b[0;36m<module>\u001b[0;34m\u001b[0m\n\u001b[1;32m      1\u001b[0m \u001b[0ms\u001b[0m\u001b[0;34m=\u001b[0m\u001b[0;34m'afckd'\u001b[0m\u001b[0;34m\u001b[0m\u001b[0;34m\u001b[0m\u001b[0m\n\u001b[0;32m----> 2\u001b[0;31m \u001b[0ms\u001b[0m\u001b[0;34m.\u001b[0m\u001b[0msort\u001b[0m\u001b[0;34m(\u001b[0m\u001b[0;34m)\u001b[0m\u001b[0;34m\u001b[0m\u001b[0;34m\u001b[0m\u001b[0m\n\u001b[0m",
      "\u001b[0;31mAttributeError\u001b[0m: 'str' object has no attribute 'sort'"
     ]
    }
   ],
   "source": [
    "s='afckd'\n",
    "s.sort()"
   ]
  },
  {
   "cell_type": "code",
   "execution_count": 14,
   "metadata": {},
   "outputs": [],
   "source": [
    "s=['a','f','c','k','d']\n",
    "s.sort()"
   ]
  },
  {
   "cell_type": "code",
   "execution_count": 15,
   "metadata": {},
   "outputs": [
    {
     "data": {
      "text/plain": [
       "['a', 'c', 'd', 'f', 'k']"
      ]
     },
     "execution_count": 15,
     "metadata": {},
     "output_type": "execute_result"
    }
   ],
   "source": [
    "s"
   ]
  },
  {
   "cell_type": "code",
   "execution_count": null,
   "metadata": {},
   "outputs": [],
   "source": [
    "string gridChallenge(vector<string> grid) {\n",
    "    int m=grid.size();\n",
    "    int n=grid[0].size();\n",
    "    int i;\n",
    "    int j;\n",
    "    string g;\n",
    "    vector<char> column;\n",
    "    vector<char> column1;\n",
    "    for(i=0;i<m;i++){\n",
    "        g=grid[i];\n",
    "        sort(g.begin(),g.end());\n",
    "        grid[i]=g;\n",
    "    }\n",
    "    for(j=0;j<n;j++){\n",
    "        column={};\n",
    "        for(i=0;i<m;i++)\n",
    "            column.push_back(grid[i][j]);\n",
    "        column1=column;\n",
    "        sort(column.begin(),column.end());\n",
    "        if(column!=column1)\n",
    "            return \"NO\";\n",
    "    }\n",
    "    return \"YES\";\n",
    "}"
   ]
  },
  {
   "cell_type": "code",
   "execution_count": 16,
   "metadata": {},
   "outputs": [
    {
     "data": {
      "text/plain": [
       "584575.0"
      ]
     },
     "execution_count": 16,
     "metadata": {},
     "output_type": "execute_result"
    }
   ],
   "source": [
    "4092025/7"
   ]
  },
  {
   "cell_type": "code",
   "execution_count": 17,
   "metadata": {},
   "outputs": [
    {
     "data": {
      "text/plain": [
       "4092025"
      ]
     },
     "execution_count": 17,
     "metadata": {},
     "output_type": "execute_result"
    }
   ],
   "source": [
    "584575*7"
   ]
  },
  {
   "cell_type": "code",
   "execution_count": null,
   "metadata": {},
   "outputs": [],
   "source": [
    "string balancedSums(vector<int> arr) {\n",
    "    int N=arr.size();\n",
    "    if(N==1)\n",
    "        return \"YES\";\n",
    "    else {\n",
    "    int s=0;\n",
    "    int i;\n",
    "    int S=accumulate(arr.begin(),arr.end(),0);\n",
    "    for(i=0;i<N;i++){\n",
    "        if(2*s+arr[i]==S)\n",
    "            return \"YES\";\n",
    "        s=s+arr[i];\n",
    "    }\n",
    "    return \"NO\";\n",
    "    }\n",
    "}"
   ]
  },
  {
   "cell_type": "code",
   "execution_count": 1,
   "metadata": {},
   "outputs": [
    {
     "data": {
      "text/plain": [
       "7.044394119358453"
      ]
     },
     "execution_count": 1,
     "metadata": {},
     "output_type": "execute_result"
    }
   ],
   "source": [
    "import math\n",
    "math.log2(132)"
   ]
  },
  {
   "cell_type": "code",
   "execution_count": 2,
   "metadata": {},
   "outputs": [
    {
     "data": {
      "text/plain": [
       "7"
      ]
     },
     "execution_count": 2,
     "metadata": {},
     "output_type": "execute_result"
    }
   ],
   "source": [
    "int(math.log2(132))"
   ]
  },
  {
   "cell_type": "code",
   "execution_count": 3,
   "metadata": {},
   "outputs": [
    {
     "data": {
      "text/plain": [
       "7.994353436858858"
      ]
     },
     "execution_count": 3,
     "metadata": {},
     "output_type": "execute_result"
    }
   ],
   "source": [
    "math.log2(255)"
   ]
  },
  {
   "cell_type": "code",
   "execution_count": 4,
   "metadata": {},
   "outputs": [
    {
     "data": {
      "text/plain": [
       "7"
      ]
     },
     "execution_count": 4,
     "metadata": {},
     "output_type": "execute_result"
    }
   ],
   "source": [
    "int(math.log2(255))"
   ]
  },
  {
   "cell_type": "code",
   "execution_count": 5,
   "metadata": {},
   "outputs": [
    {
     "name": "stdout",
     "output_type": "stream",
     "text": [
      "ok\n"
     ]
    }
   ],
   "source": [
    "if(int(math.log2(256))==math.log2(256)):\n",
    "    print('ok')"
   ]
  },
  {
   "cell_type": "code",
   "execution_count": 6,
   "metadata": {},
   "outputs": [
    {
     "data": {
      "text/plain": [
       "30.53967079951679"
      ]
     },
     "execution_count": 6,
     "metadata": {},
     "output_type": "execute_result"
    }
   ],
   "source": [
    "math.log2(1560834904)"
   ]
  },
  {
   "cell_type": "code",
   "execution_count": null,
   "metadata": {},
   "outputs": [],
   "source": [
    "string counterGame(long n) {\n",
    "    if(n==1)\n",
    "        return \"Richard\";\n",
    "    int play_index=0;\n",
    "    long double a;\n",
    "    long m;\n",
    "    int b;\n",
    "    int i;\n",
    "    while(1){\n",
    "        b=log2l(n);  \n",
    "        if(pow(2,b)==n){\n",
    "            if(b%2==1 && play_index==0)\n",
    "                return \"Louise\";\n",
    "            else if(b%2==0 && play_index==0)\n",
    "                return \"Richard\";\n",
    "            else if(b%2==1 && play_index==1)\n",
    "                return \"Richard\";\n",
    "            else if(b%2==0 && play_index==1)\n",
    "                return \"Louise\";\n",
    "        }\n",
    "        else {\n",
    "        m=pow(2,b);\n",
    "        n=n-m;\n",
    "        play_index=1-play_index;\n",
    "        }    \n",
    "    }\n",
    "}"
   ]
  },
  {
   "cell_type": "code",
   "execution_count": null,
   "metadata": {},
   "outputs": [],
   "source": [
    "long sumXor(long n) {\n",
    "    int cnt=0;\n",
    "    long rem=n;\n",
    "    int s;\n",
    "    while(rem>0){\n",
    "        s=rem%2;\n",
    "        if(s==0)\n",
    "            cnt=cnt+1;\n",
    "        rem=rem-s;\n",
    "        rem=rem/2;\n",
    "    }\n",
    "    return long(pow(2,cnt));\n",
    "\n",
    "}"
   ]
  },
  {
   "cell_type": "code",
   "execution_count": 7,
   "metadata": {},
   "outputs": [
    {
     "data": {
      "text/plain": [
       "'ab'"
      ]
     },
     "execution_count": 7,
     "metadata": {},
     "output_type": "execute_result"
    }
   ],
   "source": [
    "s='abcd'\n",
    "s[:2]"
   ]
  },
  {
   "cell_type": "code",
   "execution_count": 8,
   "metadata": {},
   "outputs": [
    {
     "data": {
      "text/plain": [
       "'abdefgh'"
      ]
     },
     "execution_count": 8,
     "metadata": {},
     "output_type": "execute_result"
    }
   ],
   "source": [
    "s='abcdefgh'\n",
    "s1=s[:2]+s[3:]\n",
    "s1"
   ]
  },
  {
   "cell_type": "code",
   "execution_count": 9,
   "metadata": {},
   "outputs": [
    {
     "data": {
      "text/plain": [
       "'abcd'"
      ]
     },
     "execution_count": 9,
     "metadata": {},
     "output_type": "execute_result"
    }
   ],
   "source": [
    "s[0:4]"
   ]
  },
  {
   "cell_type": "code",
   "execution_count": 10,
   "metadata": {},
   "outputs": [
    {
     "data": {
      "text/plain": [
       "'efgh'"
      ]
     },
     "execution_count": 10,
     "metadata": {},
     "output_type": "execute_result"
    }
   ],
   "source": [
    "s[4:]"
   ]
  },
  {
   "cell_type": "code",
   "execution_count": 11,
   "metadata": {},
   "outputs": [
    {
     "name": "stdout",
     "output_type": "stream",
     "text": [
      "1\n",
      "2\n",
      "3\n",
      "4\n"
     ]
    }
   ],
   "source": [
    "for i in range(1,5):\n",
    "    print(i)"
   ]
  },
  {
   "cell_type": "code",
   "execution_count": 12,
   "metadata": {},
   "outputs": [
    {
     "data": {
      "text/plain": [
       "'abcdefgh'"
      ]
     },
     "execution_count": 12,
     "metadata": {},
     "output_type": "execute_result"
    }
   ],
   "source": [
    "s"
   ]
  },
  {
   "cell_type": "code",
   "execution_count": 13,
   "metadata": {},
   "outputs": [
    {
     "ename": "AttributeError",
     "evalue": "'str' object has no attribute 'pop'",
     "output_type": "error",
     "traceback": [
      "\u001b[0;31m---------------------------------------------------------------------------\u001b[0m",
      "\u001b[0;31mAttributeError\u001b[0m                            Traceback (most recent call last)",
      "\u001b[0;32m<ipython-input-13-deaa7a3e24c6>\u001b[0m in \u001b[0;36m<module>\u001b[0;34m\u001b[0m\n\u001b[0;32m----> 1\u001b[0;31m \u001b[0ms\u001b[0m\u001b[0;34m.\u001b[0m\u001b[0mpop\u001b[0m\u001b[0;34m(\u001b[0m\u001b[0;36m2\u001b[0m\u001b[0;34m)\u001b[0m\u001b[0;34m\u001b[0m\u001b[0;34m\u001b[0m\u001b[0m\n\u001b[0m",
      "\u001b[0;31mAttributeError\u001b[0m: 'str' object has no attribute 'pop'"
     ]
    }
   ],
   "source": [
    "s.pop(2)"
   ]
  },
  {
   "cell_type": "code",
   "execution_count": 14,
   "metadata": {},
   "outputs": [
    {
     "data": {
      "text/plain": [
       "'f'"
      ]
     },
     "execution_count": 14,
     "metadata": {},
     "output_type": "execute_result"
    }
   ],
   "source": [
    "s[~2]"
   ]
  },
  {
   "cell_type": "code",
   "execution_count": 19,
   "metadata": {},
   "outputs": [
    {
     "data": {
      "text/plain": [
       "'abcdefg'"
      ]
     },
     "execution_count": 19,
     "metadata": {},
     "output_type": "execute_result"
    }
   ],
   "source": [
    "s[:-1]"
   ]
  },
  {
   "cell_type": "code",
   "execution_count": 20,
   "metadata": {},
   "outputs": [],
   "source": [
    "a='0'*3"
   ]
  },
  {
   "cell_type": "code",
   "execution_count": 21,
   "metadata": {},
   "outputs": [
    {
     "data": {
      "text/plain": [
       "'000'"
      ]
     },
     "execution_count": 21,
     "metadata": {},
     "output_type": "execute_result"
    }
   ],
   "source": [
    "a"
   ]
  },
  {
   "cell_type": "code",
   "execution_count": 24,
   "metadata": {},
   "outputs": [],
   "source": [
    "B=[a]*5"
   ]
  },
  {
   "cell_type": "code",
   "execution_count": 25,
   "metadata": {},
   "outputs": [
    {
     "data": {
      "text/plain": [
       "['000', '000', '000', '000', '000']"
      ]
     },
     "execution_count": 25,
     "metadata": {},
     "output_type": "execute_result"
    }
   ],
   "source": [
    "B"
   ]
  },
  {
   "cell_type": "code",
   "execution_count": 27,
   "metadata": {},
   "outputs": [
    {
     "data": {
      "text/plain": [
       "'0'"
      ]
     },
     "execution_count": 27,
     "metadata": {},
     "output_type": "execute_result"
    }
   ],
   "source": [
    "B[3][2]"
   ]
  },
  {
   "cell_type": "code",
   "execution_count": 28,
   "metadata": {},
   "outputs": [
    {
     "ename": "TypeError",
     "evalue": "'str' object does not support item assignment",
     "output_type": "error",
     "traceback": [
      "\u001b[0;31m---------------------------------------------------------------------------\u001b[0m",
      "\u001b[0;31mTypeError\u001b[0m                                 Traceback (most recent call last)",
      "\u001b[0;32m<ipython-input-28-2fc2f5dff473>\u001b[0m in \u001b[0;36m<module>\u001b[0;34m\u001b[0m\n\u001b[0;32m----> 1\u001b[0;31m \u001b[0mB\u001b[0m\u001b[0;34m[\u001b[0m\u001b[0;36m3\u001b[0m\u001b[0;34m]\u001b[0m\u001b[0;34m[\u001b[0m\u001b[0;36m2\u001b[0m\u001b[0;34m]\u001b[0m\u001b[0;34m=\u001b[0m\u001b[0;34m'a'\u001b[0m\u001b[0;34m\u001b[0m\u001b[0;34m\u001b[0m\u001b[0m\n\u001b[0m",
      "\u001b[0;31mTypeError\u001b[0m: 'str' object does not support item assignment"
     ]
    }
   ],
   "source": [
    "B[3][2]='a'"
   ]
  },
  {
   "cell_type": "code",
   "execution_count": 29,
   "metadata": {},
   "outputs": [
    {
     "data": {
      "text/plain": [
       "[['0', '0', '0'],\n",
       " ['0', '0', '0'],\n",
       " ['0', '0', '0'],\n",
       " ['0', '0', '0'],\n",
       " ['0', '0', '0']]"
      ]
     },
     "execution_count": 29,
     "metadata": {},
     "output_type": "execute_result"
    }
   ],
   "source": [
    "a=['0']*3\n",
    "B=[a]*5\n",
    "B"
   ]
  },
  {
   "cell_type": "code",
   "execution_count": null,
   "metadata": {},
   "outputs": [],
   "source": [
    "vector<string> NewGrid(vector<string> grid){\n",
    "    int r=grid.size();\n",
    "    int c=grid[0].size();\n",
    "    char B[r][c];\n",
    "    int i;\n",
    "    int j;\n",
    "    for(i=0;i<r;i++){\n",
    "        for(j=0;j<c;j++){\n",
    "            B[i][j]='O';\n",
    "        }\n",
    "    }\n",
    "    for(i=0;i<r;i++){\n",
    "        for(j=0;j<c;j++){\n",
    "            if(grid[i][j]=='O'){\n",
    "                B[i][j]='.';\n",
    "                if(i>=1)\n",
    "                 B[i-1][j]='.';\n",
    "                if(i<r-1)\n",
    "                    B[i+1][j]='.';\n",
    "                if(j>=1)\n",
    "                    B[i][j-1]='.';\n",
    "                if(j<c-1)\n",
    "                    B[i][j+1]='.';                   \n",
    "            }\n",
    "         }\n",
    "    }   \n",
    "    vector<string> D;\n",
    "    for(i=0;i<r;i++)\n",
    "        D.push_back(\"\");\n",
    "    for(i=0;i<r;i++){\n",
    "        for(j=0;j<c;j++){\n",
    "            D[i]=D[i]+B[i][j];\n",
    "        }\n",
    "    }\n",
    "    return D;\n",
    "    \n",
    "}\n",
    "\n",
    "vector<string> bomberMan(int n, vector<string> grid) {\n",
    "    if(n==0 || n==1)\n",
    "        return grid;\n",
    "    int r=grid.size();\n",
    "    int c=grid[0].size();\n",
    "    int i;\n",
    "    int j;\n",
    "    if(n%2==0){\n",
    "        vector<string> B;\n",
    "        for(i=0;i<r;i++){\n",
    "            string s=\"\";\n",
    "            for(j=0;j<c;j++)\n",
    "                s=s+'O';\n",
    "            B.push_back(s); \n",
    "        }\n",
    "        return B;              \n",
    "    }\n",
    "    else {\n",
    "        int k=int((n-1)/2);\n",
    "        vector <vector<string>> listB;\n",
    "        listB.push_back(grid);\n",
    "        for(i=0;i<k;i++){\n",
    "            grid=NewGrid(grid);\n",
    "            if(find(listB.begin(),listB.end(),grid)!=listB.end())\n",
    "                break;\n",
    "            else {\n",
    "                listB.push_back(grid);\n",
    "            }\n",
    "        }\n",
    "        if(i==k)\n",
    "            return grid;\n",
    "        else {\n",
    "            int b=find(listB.begin(),listB.end(),grid)-listB.begin();\n",
    "            int T=(i+1)-b;\n",
    "            int c=(k-b)%T;\n",
    "            return listB[b+c];\n",
    "        }\n",
    "    }    \n",
    "}\n"
   ]
  },
  {
   "cell_type": "code",
   "execution_count": 30,
   "metadata": {},
   "outputs": [],
   "source": [
    "for i in range(5,1):\n",
    "    print(i)"
   ]
  },
  {
   "cell_type": "code",
   "execution_count": 31,
   "metadata": {},
   "outputs": [
    {
     "data": {
      "text/plain": [
       "[True]"
      ]
     },
     "execution_count": 31,
     "metadata": {},
     "output_type": "execute_result"
    }
   ],
   "source": [
    "A=[i in range(5)]\n",
    "A"
   ]
  },
  {
   "cell_type": "code",
   "execution_count": 32,
   "metadata": {},
   "outputs": [],
   "source": [
    "A=range(5)"
   ]
  },
  {
   "cell_type": "code",
   "execution_count": 33,
   "metadata": {},
   "outputs": [
    {
     "data": {
      "text/plain": [
       "range(0, 5)"
      ]
     },
     "execution_count": 33,
     "metadata": {},
     "output_type": "execute_result"
    }
   ],
   "source": [
    "A"
   ]
  },
  {
   "cell_type": "code",
   "execution_count": 34,
   "metadata": {},
   "outputs": [
    {
     "data": {
      "text/plain": [
       "0"
      ]
     },
     "execution_count": 34,
     "metadata": {},
     "output_type": "execute_result"
    }
   ],
   "source": [
    "A[0]"
   ]
  },
  {
   "cell_type": "code",
   "execution_count": 35,
   "metadata": {},
   "outputs": [
    {
     "data": {
      "text/plain": [
       "4"
      ]
     },
     "execution_count": 35,
     "metadata": {},
     "output_type": "execute_result"
    }
   ],
   "source": [
    "A[4]"
   ]
  },
  {
   "cell_type": "code",
   "execution_count": 36,
   "metadata": {},
   "outputs": [],
   "source": [
    "A=A[::-1]"
   ]
  },
  {
   "cell_type": "code",
   "execution_count": 37,
   "metadata": {},
   "outputs": [
    {
     "name": "stdout",
     "output_type": "stream",
     "text": [
      "range(4, -1, -1)\n"
     ]
    }
   ],
   "source": [
    "print(A)"
   ]
  },
  {
   "cell_type": "code",
   "execution_count": 38,
   "metadata": {},
   "outputs": [
    {
     "data": {
      "text/plain": [
       "4"
      ]
     },
     "execution_count": 38,
     "metadata": {},
     "output_type": "execute_result"
    }
   ],
   "source": [
    "A[0]"
   ]
  },
  {
   "cell_type": "code",
   "execution_count": 39,
   "metadata": {},
   "outputs": [
    {
     "data": {
      "text/plain": [
       "0"
      ]
     },
     "execution_count": 39,
     "metadata": {},
     "output_type": "execute_result"
    }
   ],
   "source": [
    "A[4]"
   ]
  },
  {
   "cell_type": "code",
   "execution_count": 42,
   "metadata": {},
   "outputs": [
    {
     "name": "stdout",
     "output_type": "stream",
     "text": [
      "5\n",
      "4\n",
      "3\n",
      "2\n",
      "1\n"
     ]
    }
   ],
   "source": [
    "A=range(5,0,-1)\n",
    "for a in A:\n",
    "    print(a)"
   ]
  },
  {
   "cell_type": "code",
   "execution_count": 43,
   "metadata": {},
   "outputs": [
    {
     "name": "stdout",
     "output_type": "stream",
     "text": [
      "1\n",
      "2\n",
      "3\n",
      "4\n"
     ]
    }
   ],
   "source": [
    "A=range(1,5)\n",
    "for a in A:\n",
    "    print(a)"
   ]
  },
  {
   "cell_type": "code",
   "execution_count": 44,
   "metadata": {},
   "outputs": [
    {
     "data": {
      "text/plain": [
       "[1, 2, 3, 4]"
      ]
     },
     "execution_count": 44,
     "metadata": {},
     "output_type": "execute_result"
    }
   ],
   "source": [
    "A=[ i for i in range(1,5)]\n",
    "A"
   ]
  },
  {
   "cell_type": "code",
   "execution_count": 45,
   "metadata": {},
   "outputs": [
    {
     "data": {
      "text/plain": [
       "{1, 2, 3, 4}"
      ]
     },
     "execution_count": 45,
     "metadata": {},
     "output_type": "execute_result"
    }
   ],
   "source": [
    "set(A)"
   ]
  },
  {
   "cell_type": "code",
   "execution_count": 46,
   "metadata": {},
   "outputs": [
    {
     "data": {
      "text/plain": [
       "4"
      ]
     },
     "execution_count": 46,
     "metadata": {},
     "output_type": "execute_result"
    }
   ],
   "source": [
    "len(A)"
   ]
  },
  {
   "cell_type": "code",
   "execution_count": null,
   "metadata": {},
   "outputs": [],
   "source": [
    "void minimumBribes(vector<int> q) {\n",
    "    int N=q.size();\n",
    "    int swap=0;\n",
    "    int i;\n",
    "    int b;\n",
    "    int j;\n",
    "    int inc;\n",
    "    for(i=1;i<N+1;i++){\n",
    "        b=find(q.begin(),q.end(),i)-q.begin();\n",
    "        if(b<N-1){\n",
    "            vector<int> first={q.begin()+b+1,q.end()};\n",
    "            int inc=first.size();\n",
    "            for(j=i+1;j<N+1;j++){\n",
    "                if(find(first.begin(),first.end(),j)!=first.end())\n",
    "                    inc=inc-1;\n",
    "            }\n",
    "            swap=swap+inc;\n",
    "            if(inc>2){\n",
    "                cout<<\"Too chaotic\"<<\"\\n\";\n",
    "                return;\n",
    "            }        \n",
    "        }\n",
    "    }\n",
    "    cout<<swap<<\"\\n\";\n",
    "    return;    \n",
    "}"
   ]
  },
  {
   "cell_type": "code",
   "execution_count": 48,
   "metadata": {},
   "outputs": [],
   "source": [
    "s=\"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\""
   ]
  },
  {
   "cell_type": "code",
   "execution_count": 50,
   "metadata": {},
   "outputs": [],
   "source": [
    "dic={}\n",
    "for a in s:\n",
    "    if a in dic:\n",
    "        dic[a]=dic[a]+1\n",
    "    else:\n",
    "        dic[a]=1\n",
    "val=dic.values()\n",
    "val=list(val)"
   ]
  },
  {
   "cell_type": "code",
   "execution_count": 51,
   "metadata": {},
   "outputs": [
    {
     "data": {
      "text/plain": [
       "[4000,\n",
       " 4000,\n",
       " 4000,\n",
       " 4000,\n",
       " 4000,\n",
       " 4000,\n",
       " 4000,\n",
       " 4000,\n",
       " 4000,\n",
       " 4000,\n",
       " 4000,\n",
       " 4000,\n",
       " 4000,\n",
       " 4000,\n",
       " 4000,\n",
       " 4000,\n",
       " 4000,\n",
       " 4000,\n",
       " 4000,\n",
       " 4000,\n",
       " 4000,\n",
       " 4000,\n",
       " 4000,\n",
       " 4000,\n",
       " 4000]"
      ]
     },
     "execution_count": 51,
     "metadata": {},
     "output_type": "execute_result"
    }
   ],
   "source": [
    "val"
   ]
  },
  {
   "cell_type": "code",
   "execution_count": null,
   "metadata": {},
   "outputs": [],
   "source": [
    "string isValid(string s) {\n",
    "    map<char,int> dic;\n",
    "    int N=s.size();\n",
    "    int i;\n",
    "    for(i=0;i<N;i++){\n",
    "        if(dic.find(s[i])!=dic.end())\n",
    "            dic[s[i]]=dic[s[i]]+1;\n",
    "        else {\n",
    "        dic[s[i]]=1;\n",
    "        }\n",
    "    }\n",
    "    vector<int> val;\n",
    "    for(auto const& it:dic)\n",
    "        val.push_back(it.second);\n",
    "    if(val.size()==1)\n",
    "        return \"YES\";\n",
    "    if(find(val.begin(),val.end(),1)!=val.end()){\n",
    "        val.erase(find(val.begin(),val.end(),1));\n",
    "        if(*max_element(val.begin(),val.end())-*min_element(val.begin(),val.end())==0)\n",
    "        return \"YES\";\n",
    "        val.push_back(1);\n",
    "    }\n",
    "    if(*max_element(val.begin(),val.end())-*min_element(val.begin(),val.end())>1)\n",
    "        return \"NO\";\n",
    "    int a=*max_element(val.begin(),val.end());\n",
    "    val.erase(find(val.begin(),val.end(),a));\n",
    "    if(max_element(val.begin(),val.end())-min_element(val.begin(),val.end())==0)\n",
    "        return \"YES\";\n",
    "    val.push_back(a);\n",
    "    a=*min_element(val.begin(),val.end());\n",
    "    val.erase(find(val.begin(),val.end(),a));\n",
    "    if(max_element(val.begin(),val.end())-min_element(val.begin(),val.end())==0)\n",
    "        return \"YES\";\n",
    "        \n",
    "    return \"NO\";   \n",
    "}"
   ]
  },
  {
   "cell_type": "code",
   "execution_count": 52,
   "metadata": {},
   "outputs": [],
   "source": [
    "ranked=[1,1,2,2,3]"
   ]
  },
  {
   "cell_type": "code",
   "execution_count": 53,
   "metadata": {},
   "outputs": [
    {
     "data": {
      "text/plain": [
       "{1, 2, 3}"
      ]
     },
     "execution_count": 53,
     "metadata": {},
     "output_type": "execute_result"
    }
   ],
   "source": [
    "ranked=set(ranked)\n",
    "ranked"
   ]
  },
  {
   "cell_type": "code",
   "execution_count": 66,
   "metadata": {},
   "outputs": [],
   "source": [
    "ranked=[100,100,50,40,40,20,10]\n",
    "player=[50,101]"
   ]
  },
  {
   "cell_type": "code",
   "execution_count": null,
   "metadata": {},
   "outputs": [],
   "source": [
    "vector<int> climbingLeaderboard(vector<int> ranked, vector<int> player) {\n",
    "    int M=ranked.size();\n",
    "    vector<int> ranked2={};\n",
    "    int i;\n",
    "    int s;\n",
    "    int tmp;\n",
    "    int inc;\n",
    "    int flag;\n",
    "    ranked2.push_back(ranked[0]);\n",
    "    for(i=1;i<M;i++){\n",
    "        if(ranked[i]!=ranked[i-1])\n",
    "            ranked2.push_back(ranked[i]);\n",
    "    }\n",
    "    int N=ranked2.size();\n",
    "    int a=N;\n",
    "    vector<int> result;\n",
    "    int n=player.size();\n",
    "    int j;\n",
    "    vector<int> flag_hist;\n",
    "    vector<int> tmp_hist;\n",
    "    for(i=0;i<n;i++){\n",
    "        s=player[i];\n",
    "        if(i>=1 && s==player[i-1]){\n",
    "            result.push_back(a+1);\n",
    "            continue;\n",
    "        }\n",
    "        flag_hist.clear();\n",
    "        tmp_hist.clear();\n",
    "        double flag1=0;\n",
    "        if(a==0){\n",
    "            result.push_back(1);\n",
    "            continue;\n",
    "        }\n",
    "        if(a==1){\n",
    "            if(ranked2[0]<=s){\n",
    "                a=0;\n",
    "                result.push_back(1);\n",
    "                continue;\n",
    "            }\n",
    "            else if(ranked2[0]>s and ranked2[1]<=s){\n",
    "                a=1;\n",
    "                result.push_back(2);\n",
    "                continue;\n",
    "            }\n",
    "        }\n",
    "        tmp=int(((double) a)/2);\n",
    "        inc=int(((double) a)/2);\n",
    "        while(int(flag1)!=1){\n",
    "            if(ranked2[tmp]>s){\n",
    "                flag=0;\n",
    "                if(inc==1){\n",
    "                    flag1=flag1+0.5;\n",
    "                    flag_hist.push_back(flag);\n",
    "                    tmp_hist.push_back(tmp);\n",
    "                    tmp=tmp+1;\n",
    "                }\n",
    "                else{\n",
    "                    tmp=int(tmp+((double)inc)/2);\n",
    "                    inc=ceil(((double)inc)/2);\n",
    "                }\n",
    "            }\n",
    "            else if(ranked2[tmp]<s){\n",
    "                flag=1;\n",
    "                if(inc==1){\n",
    "                    flag1=flag1+0.5;\n",
    "                    flag_hist.push_back(flag);\n",
    "                    tmp_hist.push_back(tmp);\n",
    "                    tmp=tmp-1;\n",
    "                }\n",
    "                else{\n",
    "                    tmp=int(tmp-((double)inc)/2);\n",
    "                    inc=ceil(((double)inc)/2);\n",
    "                }      \n",
    "            }\n",
    "            else{\n",
    "                result.push_back(tmp+1);\n",
    "                a=tmp;\n",
    "                flag=2;\n",
    "                break;\n",
    "            }   \n",
    "        }\n",
    "        if(flag==2){\n",
    "            continue;\n",
    "        }\n",
    "        else if(flag_hist[0]==1 && flag_hist[1]==0){\n",
    "            a=tmp_hist[0];\n",
    "            result.push_back(a+1);\n",
    "        }\n",
    "        else if(flag_hist[0]==0 && flag_hist[1]==1){\n",
    "            a=tmp_hist[1];\n",
    "            result.push_back(a+1);\n",
    "        }\n",
    "        else if(flag_hist[0]==0 && flag_hist[1]==0){\n",
    "            result.push_back(a+1);\n",
    "        }\n",
    "        else if(flag_hist[0]==1 && flag_hist[1]==1){\n",
    "            a=0;\n",
    "            result.push_back(1);\n",
    "        }         \n",
    "    }\n",
    "    return result;\n",
    "}"
   ]
  },
  {
   "cell_type": "code",
   "execution_count": 1,
   "metadata": {},
   "outputs": [
    {
     "ename": "TypeError",
     "evalue": "'<' not supported between instances of 'complex' and 'int'",
     "output_type": "error",
     "traceback": [
      "\u001b[0;31m---------------------------------------------------------------------------\u001b[0m",
      "\u001b[0;31mTypeError\u001b[0m                                 Traceback (most recent call last)",
      "\u001b[0;32m<ipython-input-1-da88e2e0ce89>\u001b[0m in \u001b[0;36m<module>\u001b[0;34m\u001b[0m\n\u001b[1;32m      1\u001b[0m \u001b[0mY\u001b[0m\u001b[0;34m=\u001b[0m\u001b[0;34m[\u001b[0m\u001b[0;36m2\u001b[0m\u001b[0;34m,\u001b[0m\u001b[0;36m5J\u001b[0m\u001b[0;34m,\u001b[0m\u001b[0;36m6\u001b[0m\u001b[0;34m]\u001b[0m\u001b[0;34m\u001b[0m\u001b[0;34m\u001b[0m\u001b[0m\n\u001b[0;32m----> 2\u001b[0;31m \u001b[0mY\u001b[0m\u001b[0;34m.\u001b[0m\u001b[0msort\u001b[0m\u001b[0;34m(\u001b[0m\u001b[0;34m)\u001b[0m\u001b[0;34m\u001b[0m\u001b[0;34m\u001b[0m\u001b[0m\n\u001b[0m\u001b[1;32m      3\u001b[0m \u001b[0mY\u001b[0m\u001b[0;34m\u001b[0m\u001b[0;34m\u001b[0m\u001b[0m\n",
      "\u001b[0;31mTypeError\u001b[0m: '<' not supported between instances of 'complex' and 'int'"
     ]
    }
   ],
   "source": [
    "Y=[2,5J,6]\n",
    "Y.sort()\n",
    "Y"
   ]
  },
  {
   "cell_type": "code",
   "execution_count": 2,
   "metadata": {},
   "outputs": [
    {
     "data": {
      "text/plain": [
       "[0, 2, 3, 4, 5]"
      ]
     },
     "execution_count": 2,
     "metadata": {},
     "output_type": "execute_result"
    }
   ],
   "source": [
    "a=[1,2,3,4,5]\n",
    "b=a\n",
    "b[0]=0\n",
    "a"
   ]
  },
  {
   "cell_type": "code",
   "execution_count": 3,
   "metadata": {},
   "outputs": [],
   "source": [
    "d={40:'john', 50:'peter'}"
   ]
  },
  {
   "cell_type": "code",
   "execution_count": 4,
   "metadata": {},
   "outputs": [],
   "source": [
    "s=[1,2,'e']"
   ]
  },
  {
   "cell_type": "code",
   "execution_count": 5,
   "metadata": {},
   "outputs": [
    {
     "data": {
      "text/plain": [
       "[]"
      ]
     },
     "execution_count": 5,
     "metadata": {},
     "output_type": "execute_result"
    }
   ],
   "source": [
    "import re\n",
    "result=re.findall('Welcome to Turing','Welcome',1)\n",
    "result"
   ]
  },
  {
   "cell_type": "code",
   "execution_count": 6,
   "metadata": {},
   "outputs": [
    {
     "name": "stdout",
     "output_type": "stream",
     "text": [
      "[]\n"
     ]
    }
   ],
   "source": [
    "print(result)"
   ]
  },
  {
   "cell_type": "code",
   "execution_count": 7,
   "metadata": {},
   "outputs": [
    {
     "name": "stdout",
     "output_type": "stream",
     "text": [
      "['t', 'u', 'r', 'i', 'n', 'g']\n"
     ]
    }
   ],
   "source": [
    "print([i.lower() for i in 'TURING'])"
   ]
  },
  {
   "cell_type": "code",
   "execution_count": 8,
   "metadata": {},
   "outputs": [
    {
     "name": "stdout",
     "output_type": "stream",
     "text": [
      "[2, 3, 4]\n"
     ]
    }
   ],
   "source": [
    "data=[1,2,3]\n",
    "def incr(x):\n",
    "    return x+1\n",
    "print(list(map(incr,data)))"
   ]
  },
  {
   "cell_type": "code",
   "execution_count": 9,
   "metadata": {},
   "outputs": [
    {
     "name": "stdout",
     "output_type": "stream",
     "text": [
      "True\n"
     ]
    }
   ],
   "source": [
    "print(set([1,2,6,12])==set([12,2,6,1]))"
   ]
  },
  {
   "cell_type": "code",
   "execution_count": 10,
   "metadata": {},
   "outputs": [
    {
     "name": "stdout",
     "output_type": "stream",
     "text": [
      "Welcome to Turing\n"
     ]
    }
   ],
   "source": [
    "class hello:\n",
    "    def __init__(self, a='Welcome to '):\n",
    "        self.a=a\n",
    "    def welcome(self,x):\n",
    "        print(self.a+x)\n",
    "\n",
    "h=hello()\n",
    "h.welcome('Turing')\n",
    "        "
   ]
  },
  {
   "cell_type": "code",
   "execution_count": 12,
   "metadata": {},
   "outputs": [],
   "source": [
    "data=['a','b','c','d']\n"
   ]
  },
  {
   "cell_type": "code",
   "execution_count": 16,
   "metadata": {},
   "outputs": [
    {
     "ename": "TypeError",
     "evalue": "copy() takes no arguments (1 given)",
     "output_type": "error",
     "traceback": [
      "\u001b[0;31m---------------------------------------------------------------------------\u001b[0m",
      "\u001b[0;31mTypeError\u001b[0m                                 Traceback (most recent call last)",
      "\u001b[0;32m<ipython-input-16-058237c5db62>\u001b[0m in \u001b[0;36m<module>\u001b[0;34m\u001b[0m\n\u001b[0;32m----> 1\u001b[0;31m \u001b[0ma\u001b[0m\u001b[0;34m.\u001b[0m\u001b[0mcopy\u001b[0m\u001b[0;34m(\u001b[0m\u001b[0mdata\u001b[0m\u001b[0;34m)\u001b[0m\u001b[0;34m\u001b[0m\u001b[0;34m\u001b[0m\u001b[0m\n\u001b[0m",
      "\u001b[0;31mTypeError\u001b[0m: copy() takes no arguments (1 given)"
     ]
    }
   ],
   "source": [
    "a.copy(data)"
   ]
  },
  {
   "cell_type": "code",
   "execution_count": 18,
   "metadata": {},
   "outputs": [
    {
     "name": "stdout",
     "output_type": "stream",
     "text": [
      "Welcome-to-Turing\n"
     ]
    }
   ],
   "source": [
    "array=['Welcome','to','Turing']\n",
    "print(\"-\".join(array))"
   ]
  },
  {
   "cell_type": "code",
   "execution_count": 19,
   "metadata": {},
   "outputs": [
    {
     "data": {
      "text/plain": [
       "'abcd'"
      ]
     },
     "execution_count": 19,
     "metadata": {},
     "output_type": "execute_result"
    }
   ],
   "source": [
    "alp='abcd'\n",
    "for i in range(len(alp)):\n",
    "    alp[i].upper()\n",
    "alp"
   ]
  },
  {
   "cell_type": "code",
   "execution_count": 20,
   "metadata": {},
   "outputs": [
    {
     "ename": "ValueError",
     "evalue": "cannot switch from automatic field numbering to manual field specification",
     "output_type": "error",
     "traceback": [
      "\u001b[0;31m---------------------------------------------------------------------------\u001b[0m",
      "\u001b[0;31mValueError\u001b[0m                                Traceback (most recent call last)",
      "\u001b[0;32m<ipython-input-20-a8f8e23f2f19>\u001b[0m in \u001b[0;36m<module>\u001b[0;34m\u001b[0m\n\u001b[0;32m----> 1\u001b[0;31m \u001b[0;34m'the {} side {1} {2}'\u001b[0m\u001b[0;34m.\u001b[0m\u001b[0mformat\u001b[0m\u001b[0;34m(\u001b[0m\u001b[0;34m'b'\u001b[0m\u001b[0;34m,\u001b[0m\u001b[0;34m'o'\u001b[0m\u001b[0;34m,\u001b[0m\u001b[0;34m'li'\u001b[0m\u001b[0;34m)\u001b[0m\u001b[0;34m\u001b[0m\u001b[0;34m\u001b[0m\u001b[0m\n\u001b[0m",
      "\u001b[0;31mValueError\u001b[0m: cannot switch from automatic field numbering to manual field specification"
     ]
    }
   ],
   "source": [
    "'the {} side {1} {2}'.format('b','o','li')"
   ]
  },
  {
   "cell_type": "code",
   "execution_count": 22,
   "metadata": {},
   "outputs": [],
   "source": [
    "import pandas as pd\n",
    "data=pd.read_csv('cardio_base.csv')"
   ]
  },
  {
   "cell_type": "code",
   "execution_count": 23,
   "metadata": {},
   "outputs": [
    {
     "data": {
      "text/html": [
       "<div>\n",
       "<style scoped>\n",
       "    .dataframe tbody tr th:only-of-type {\n",
       "        vertical-align: middle;\n",
       "    }\n",
       "\n",
       "    .dataframe tbody tr th {\n",
       "        vertical-align: top;\n",
       "    }\n",
       "\n",
       "    .dataframe thead th {\n",
       "        text-align: right;\n",
       "    }\n",
       "</style>\n",
       "<table border=\"1\" class=\"dataframe\">\n",
       "  <thead>\n",
       "    <tr style=\"text-align: right;\">\n",
       "      <th></th>\n",
       "      <th>id</th>\n",
       "      <th>age</th>\n",
       "      <th>gender</th>\n",
       "      <th>height</th>\n",
       "      <th>weight</th>\n",
       "      <th>ap_hi</th>\n",
       "      <th>ap_lo</th>\n",
       "      <th>cholesterol</th>\n",
       "      <th>smoke</th>\n",
       "    </tr>\n",
       "  </thead>\n",
       "  <tbody>\n",
       "    <tr>\n",
       "      <th>0</th>\n",
       "      <td>0</td>\n",
       "      <td>18393</td>\n",
       "      <td>2</td>\n",
       "      <td>168</td>\n",
       "      <td>62.0</td>\n",
       "      <td>110</td>\n",
       "      <td>80</td>\n",
       "      <td>1</td>\n",
       "      <td>0</td>\n",
       "    </tr>\n",
       "    <tr>\n",
       "      <th>1</th>\n",
       "      <td>1</td>\n",
       "      <td>20228</td>\n",
       "      <td>1</td>\n",
       "      <td>156</td>\n",
       "      <td>85.0</td>\n",
       "      <td>140</td>\n",
       "      <td>90</td>\n",
       "      <td>3</td>\n",
       "      <td>0</td>\n",
       "    </tr>\n",
       "    <tr>\n",
       "      <th>2</th>\n",
       "      <td>2</td>\n",
       "      <td>18857</td>\n",
       "      <td>1</td>\n",
       "      <td>165</td>\n",
       "      <td>64.0</td>\n",
       "      <td>130</td>\n",
       "      <td>70</td>\n",
       "      <td>3</td>\n",
       "      <td>0</td>\n",
       "    </tr>\n",
       "    <tr>\n",
       "      <th>3</th>\n",
       "      <td>3</td>\n",
       "      <td>17623</td>\n",
       "      <td>2</td>\n",
       "      <td>169</td>\n",
       "      <td>82.0</td>\n",
       "      <td>150</td>\n",
       "      <td>100</td>\n",
       "      <td>1</td>\n",
       "      <td>0</td>\n",
       "    </tr>\n",
       "    <tr>\n",
       "      <th>4</th>\n",
       "      <td>4</td>\n",
       "      <td>17474</td>\n",
       "      <td>1</td>\n",
       "      <td>156</td>\n",
       "      <td>56.0</td>\n",
       "      <td>100</td>\n",
       "      <td>60</td>\n",
       "      <td>1</td>\n",
       "      <td>0</td>\n",
       "    </tr>\n",
       "  </tbody>\n",
       "</table>\n",
       "</div>"
      ],
      "text/plain": [
       "   id    age  gender  height  weight  ap_hi  ap_lo  cholesterol  smoke\n",
       "0   0  18393       2     168    62.0    110     80            1      0\n",
       "1   1  20228       1     156    85.0    140     90            3      0\n",
       "2   2  18857       1     165    64.0    130     70            3      0\n",
       "3   3  17623       2     169    82.0    150    100            1      0\n",
       "4   4  17474       1     156    56.0    100     60            1      0"
      ]
     },
     "execution_count": 23,
     "metadata": {},
     "output_type": "execute_result"
    }
   ],
   "source": [
    "data.head()"
   ]
  },
  {
   "cell_type": "code",
   "execution_count": 25,
   "metadata": {},
   "outputs": [
    {
     "name": "stdout",
     "output_type": "stream",
     "text": [
      "(70000, 9)\n"
     ]
    }
   ],
   "source": [
    "print(data.shape)"
   ]
  },
  {
   "cell_type": "code",
   "execution_count": 26,
   "metadata": {},
   "outputs": [
    {
     "name": "stdout",
     "output_type": "stream",
     "text": [
      "Index(['id', 'age', 'gender', 'height', 'weight', 'ap_hi', 'ap_lo',\n",
      "       'cholesterol', 'smoke'],\n",
      "      dtype='object')\n"
     ]
    }
   ],
   "source": [
    "print(data.columns)"
   ]
  },
  {
   "cell_type": "code",
   "execution_count": 27,
   "metadata": {},
   "outputs": [
    {
     "data": {
      "text/plain": [
       "200.0"
      ]
     },
     "execution_count": 27,
     "metadata": {},
     "output_type": "execute_result"
    }
   ],
   "source": [
    "max(data.weight)"
   ]
  },
  {
   "cell_type": "code",
   "execution_count": 28,
   "metadata": {},
   "outputs": [
    {
     "data": {
      "text/plain": [
       "10.0"
      ]
     },
     "execution_count": 28,
     "metadata": {},
     "output_type": "execute_result"
    }
   ],
   "source": [
    "min(data.weight)"
   ]
  },
  {
   "cell_type": "code",
   "execution_count": 29,
   "metadata": {},
   "outputs": [
    {
     "data": {
      "text/plain": [
       "age\n",
       "10798     92.0\n",
       "10859     59.0\n",
       "10878     59.0\n",
       "10964     59.0\n",
       "14275    105.0\n",
       "         ...  \n",
       "23687     55.0\n",
       "23690     63.0\n",
       "23692     68.0\n",
       "23701     75.0\n",
       "23713     75.0\n",
       "Name: weight, Length: 8076, dtype: float64"
      ]
     },
     "execution_count": 29,
     "metadata": {},
     "output_type": "execute_result"
    }
   ],
   "source": [
    "data.groupby('age')['weight'].mean()"
   ]
  },
  {
   "cell_type": "code",
   "execution_count": 30,
   "metadata": {},
   "outputs": [
    {
     "data": {
      "text/plain": [
       "165.0"
      ]
     },
     "execution_count": 30,
     "metadata": {},
     "output_type": "execute_result"
    }
   ],
   "source": [
    "max(data.groupby('age')['weight'].mean())"
   ]
  },
  {
   "cell_type": "code",
   "execution_count": 31,
   "metadata": {},
   "outputs": [
    {
     "data": {
      "text/plain": [
       "11.0"
      ]
     },
     "execution_count": 31,
     "metadata": {},
     "output_type": "execute_result"
    }
   ],
   "source": [
    "min(data.groupby('age')['weight'].mean())"
   ]
  },
  {
   "cell_type": "code",
   "execution_count": 32,
   "metadata": {},
   "outputs": [],
   "source": [
    "data['new_age']=round(data['age']/365)"
   ]
  },
  {
   "cell_type": "code",
   "execution_count": 33,
   "metadata": {},
   "outputs": [
    {
     "data": {
      "text/plain": [
       "new_age\n",
       "30.0    67.250000\n",
       "39.0    73.633985\n",
       "40.0    71.452852\n",
       "41.0    72.883812\n",
       "42.0    72.074009\n",
       "43.0    73.456522\n",
       "44.0    73.483468\n",
       "45.0    74.083223\n",
       "46.0    73.481083\n",
       "47.0    74.029443\n",
       "48.0    74.597079\n",
       "49.0    73.549008\n",
       "50.0    73.577710\n",
       "51.0    74.145957\n",
       "52.0    74.296832\n",
       "53.0    74.043781\n",
       "54.0    74.308550\n",
       "55.0    74.684646\n",
       "56.0    74.843565\n",
       "57.0    74.206956\n",
       "58.0    74.957103\n",
       "59.0    75.171734\n",
       "60.0    74.677918\n",
       "61.0    75.082637\n",
       "62.0    74.779272\n",
       "63.0    74.840551\n",
       "64.0    75.412500\n",
       "65.0    73.512784\n",
       "Name: weight, dtype: float64"
      ]
     },
     "execution_count": 33,
     "metadata": {},
     "output_type": "execute_result"
    }
   ],
   "source": [
    "data.groupby('new_age')['weight'].mean()"
   ]
  },
  {
   "cell_type": "code",
   "execution_count": 34,
   "metadata": {},
   "outputs": [
    {
     "data": {
      "text/plain": [
       "75.4125"
      ]
     },
     "execution_count": 34,
     "metadata": {},
     "output_type": "execute_result"
    }
   ],
   "source": [
    "max(data.groupby('new_age')['weight'].mean())"
   ]
  },
  {
   "cell_type": "code",
   "execution_count": 35,
   "metadata": {},
   "outputs": [
    {
     "data": {
      "text/plain": [
       "67.25"
      ]
     },
     "execution_count": 35,
     "metadata": {},
     "output_type": "execute_result"
    }
   ],
   "source": [
    "min(data.groupby('new_age')['weight'].mean())"
   ]
  },
  {
   "cell_type": "code",
   "execution_count": 36,
   "metadata": {},
   "outputs": [
    {
     "data": {
      "text/plain": [
       "0.12137546468401479"
      ]
     },
     "execution_count": 36,
     "metadata": {},
     "output_type": "execute_result"
    }
   ],
   "source": [
    "(75.4125-67.25)/67.25"
   ]
  },
  {
   "cell_type": "code",
   "execution_count": 37,
   "metadata": {},
   "outputs": [
    {
     "data": {
      "text/html": [
       "<div>\n",
       "<style scoped>\n",
       "    .dataframe tbody tr th:only-of-type {\n",
       "        vertical-align: middle;\n",
       "    }\n",
       "\n",
       "    .dataframe tbody tr th {\n",
       "        vertical-align: top;\n",
       "    }\n",
       "\n",
       "    .dataframe thead th {\n",
       "        text-align: right;\n",
       "    }\n",
       "</style>\n",
       "<table border=\"1\" class=\"dataframe\">\n",
       "  <thead>\n",
       "    <tr style=\"text-align: right;\">\n",
       "      <th></th>\n",
       "      <th>id</th>\n",
       "      <th>age</th>\n",
       "      <th>gender</th>\n",
       "      <th>height</th>\n",
       "      <th>weight</th>\n",
       "      <th>ap_hi</th>\n",
       "      <th>ap_lo</th>\n",
       "      <th>cholesterol</th>\n",
       "      <th>smoke</th>\n",
       "      <th>new_age</th>\n",
       "    </tr>\n",
       "  </thead>\n",
       "  <tbody>\n",
       "    <tr>\n",
       "      <th>57858</th>\n",
       "      <td>82567</td>\n",
       "      <td>18804</td>\n",
       "      <td>2</td>\n",
       "      <td>165</td>\n",
       "      <td>10.0</td>\n",
       "      <td>180</td>\n",
       "      <td>1100</td>\n",
       "      <td>2</td>\n",
       "      <td>0</td>\n",
       "      <td>52.0</td>\n",
       "    </tr>\n",
       "  </tbody>\n",
       "</table>\n",
       "</div>"
      ],
      "text/plain": [
       "          id    age  gender  height  weight  ap_hi  ap_lo  cholesterol  smoke  \\\n",
       "57858  82567  18804       2     165    10.0    180   1100            2      0   \n",
       "\n",
       "       new_age  \n",
       "57858     52.0  "
      ]
     },
     "execution_count": 37,
     "metadata": {},
     "output_type": "execute_result"
    }
   ],
   "source": [
    "data[data.weight==min(data.weight)]"
   ]
  },
  {
   "cell_type": "code",
   "execution_count": 40,
   "metadata": {},
   "outputs": [
    {
     "data": {
      "text/plain": [
       "1.429562456506611"
      ]
     },
     "execution_count": 40,
     "metadata": {},
     "output_type": "execute_result"
    }
   ],
   "source": [
    "(data.cholesterol[data.new_age>50]).mean()"
   ]
  },
  {
   "cell_type": "code",
   "execution_count": 41,
   "metadata": {},
   "outputs": [
    {
     "data": {
      "text/plain": [
       "1.3668714285714285"
      ]
     },
     "execution_count": 41,
     "metadata": {},
     "output_type": "execute_result"
    }
   ],
   "source": [
    "(data.cholesterol).mean()"
   ]
  },
  {
   "cell_type": "code",
   "execution_count": 42,
   "metadata": {},
   "outputs": [
    {
     "data": {
      "text/plain": [
       "0.04225352112676056"
      ]
     },
     "execution_count": 42,
     "metadata": {},
     "output_type": "execute_result"
    }
   ],
   "source": [
    "0.06/1.42"
   ]
  },
  {
   "cell_type": "code",
   "execution_count": 43,
   "metadata": {},
   "outputs": [
    {
     "data": {
      "text/plain": [
       "0.017856358444981332"
      ]
     },
     "execution_count": 43,
     "metadata": {},
     "output_type": "execute_result"
    }
   ],
   "source": [
    "(data.smoke[data.gender==1]).mean()"
   ]
  },
  {
   "cell_type": "code",
   "execution_count": 44,
   "metadata": {},
   "outputs": [
    {
     "data": {
      "text/plain": [
       "0.21888026154474868"
      ]
     },
     "execution_count": 44,
     "metadata": {},
     "output_type": "execute_result"
    }
   ],
   "source": [
    "(data.smoke[data.gender==2]).mean()"
   ]
  },
  {
   "cell_type": "code",
   "execution_count": 45,
   "metadata": {},
   "outputs": [
    {
     "data": {
      "text/plain": [
       "12.292134831460674"
      ]
     },
     "execution_count": 45,
     "metadata": {},
     "output_type": "execute_result"
    }
   ],
   "source": [
    "0.2188/0.0178"
   ]
  },
  {
   "cell_type": "code",
   "execution_count": 46,
   "metadata": {},
   "outputs": [
    {
     "data": {
      "text/plain": [
       "45530"
      ]
     },
     "execution_count": 46,
     "metadata": {},
     "output_type": "execute_result"
    }
   ],
   "source": [
    "(data.smoke[data.gender==1]).count()"
   ]
  },
  {
   "cell_type": "code",
   "execution_count": 49,
   "metadata": {},
   "outputs": [],
   "source": [
    "a=list(data.height)"
   ]
  },
  {
   "cell_type": "code",
   "execution_count": 50,
   "metadata": {},
   "outputs": [],
   "source": [
    "a.sort()"
   ]
  },
  {
   "cell_type": "code",
   "execution_count": 51,
   "metadata": {},
   "outputs": [
    {
     "data": {
      "text/plain": [
       "70000"
      ]
     },
     "execution_count": 51,
     "metadata": {},
     "output_type": "execute_result"
    }
   ],
   "source": [
    "len(a)"
   ]
  },
  {
   "cell_type": "code",
   "execution_count": 52,
   "metadata": {},
   "outputs": [
    {
     "data": {
      "text/plain": [
       "55"
      ]
     },
     "execution_count": 52,
     "metadata": {},
     "output_type": "execute_result"
    }
   ],
   "source": [
    "a[0]"
   ]
  },
  {
   "cell_type": "code",
   "execution_count": 53,
   "metadata": {},
   "outputs": [
    {
     "data": {
      "text/plain": [
       "250"
      ]
     },
     "execution_count": 53,
     "metadata": {},
     "output_type": "execute_result"
    }
   ],
   "source": [
    "a[69999]"
   ]
  },
  {
   "cell_type": "code",
   "execution_count": 54,
   "metadata": {},
   "outputs": [
    {
     "data": {
      "text/plain": [
       "184"
      ]
     },
     "execution_count": 54,
     "metadata": {},
     "output_type": "execute_result"
    }
   ],
   "source": [
    "a[69300]"
   ]
  },
  {
   "cell_type": "code",
   "execution_count": 56,
   "metadata": {},
   "outputs": [
    {
     "data": {
      "text/html": [
       "<div>\n",
       "<style scoped>\n",
       "    .dataframe tbody tr th:only-of-type {\n",
       "        vertical-align: middle;\n",
       "    }\n",
       "\n",
       "    .dataframe tbody tr th {\n",
       "        vertical-align: top;\n",
       "    }\n",
       "\n",
       "    .dataframe thead th {\n",
       "        text-align: right;\n",
       "    }\n",
       "</style>\n",
       "<table border=\"1\" class=\"dataframe\">\n",
       "  <thead>\n",
       "    <tr style=\"text-align: right;\">\n",
       "      <th></th>\n",
       "      <th>id</th>\n",
       "      <th>age</th>\n",
       "      <th>gender</th>\n",
       "      <th>height</th>\n",
       "      <th>weight</th>\n",
       "      <th>ap_hi</th>\n",
       "      <th>ap_lo</th>\n",
       "      <th>cholesterol</th>\n",
       "      <th>smoke</th>\n",
       "      <th>new_age</th>\n",
       "    </tr>\n",
       "  </thead>\n",
       "  <tbody>\n",
       "    <tr>\n",
       "      <th>id</th>\n",
       "      <td>1.000000</td>\n",
       "      <td>0.002682</td>\n",
       "      <td>0.003506</td>\n",
       "      <td>-0.001886</td>\n",
       "      <td>-0.001292</td>\n",
       "      <td>0.003258</td>\n",
       "      <td>-0.000238</td>\n",
       "      <td>0.005706</td>\n",
       "      <td>-0.003697</td>\n",
       "      <td>0.002399</td>\n",
       "    </tr>\n",
       "    <tr>\n",
       "      <th>age</th>\n",
       "      <td>0.002682</td>\n",
       "      <td>1.000000</td>\n",
       "      <td>-0.020176</td>\n",
       "      <td>-0.082292</td>\n",
       "      <td>0.061559</td>\n",
       "      <td>0.219087</td>\n",
       "      <td>0.156700</td>\n",
       "      <td>0.140113</td>\n",
       "      <td>-0.047471</td>\n",
       "      <td>0.998048</td>\n",
       "    </tr>\n",
       "    <tr>\n",
       "      <th>gender</th>\n",
       "      <td>0.003506</td>\n",
       "      <td>-0.020176</td>\n",
       "      <td>1.000000</td>\n",
       "      <td>0.533805</td>\n",
       "      <td>0.172480</td>\n",
       "      <td>0.063174</td>\n",
       "      <td>0.066374</td>\n",
       "      <td>-0.035730</td>\n",
       "      <td>0.338135</td>\n",
       "      <td>-0.020697</td>\n",
       "    </tr>\n",
       "    <tr>\n",
       "      <th>height</th>\n",
       "      <td>-0.001886</td>\n",
       "      <td>-0.082292</td>\n",
       "      <td>0.533805</td>\n",
       "      <td>1.000000</td>\n",
       "      <td>0.313569</td>\n",
       "      <td>0.019381</td>\n",
       "      <td>0.030534</td>\n",
       "      <td>-0.058940</td>\n",
       "      <td>0.197632</td>\n",
       "      <td>-0.083634</td>\n",
       "    </tr>\n",
       "    <tr>\n",
       "      <th>weight</th>\n",
       "      <td>-0.001292</td>\n",
       "      <td>0.061559</td>\n",
       "      <td>0.172480</td>\n",
       "      <td>0.313569</td>\n",
       "      <td>1.000000</td>\n",
       "      <td>0.277749</td>\n",
       "      <td>0.254420</td>\n",
       "      <td>0.137908</td>\n",
       "      <td>0.071676</td>\n",
       "      <td>0.062979</td>\n",
       "    </tr>\n",
       "    <tr>\n",
       "      <th>ap_hi</th>\n",
       "      <td>0.003258</td>\n",
       "      <td>0.219087</td>\n",
       "      <td>0.063174</td>\n",
       "      <td>0.019381</td>\n",
       "      <td>0.277749</td>\n",
       "      <td>1.000000</td>\n",
       "      <td>0.735436</td>\n",
       "      <td>0.208722</td>\n",
       "      <td>0.028929</td>\n",
       "      <td>0.220780</td>\n",
       "    </tr>\n",
       "    <tr>\n",
       "      <th>ap_lo</th>\n",
       "      <td>-0.000238</td>\n",
       "      <td>0.156700</td>\n",
       "      <td>0.066374</td>\n",
       "      <td>0.030534</td>\n",
       "      <td>0.254420</td>\n",
       "      <td>0.735436</td>\n",
       "      <td>1.000000</td>\n",
       "      <td>0.167401</td>\n",
       "      <td>0.026172</td>\n",
       "      <td>0.157957</td>\n",
       "    </tr>\n",
       "    <tr>\n",
       "      <th>cholesterol</th>\n",
       "      <td>0.005706</td>\n",
       "      <td>0.140113</td>\n",
       "      <td>-0.035730</td>\n",
       "      <td>-0.058940</td>\n",
       "      <td>0.137908</td>\n",
       "      <td>0.208722</td>\n",
       "      <td>0.167401</td>\n",
       "      <td>1.000000</td>\n",
       "      <td>0.015220</td>\n",
       "      <td>0.141935</td>\n",
       "    </tr>\n",
       "    <tr>\n",
       "      <th>smoke</th>\n",
       "      <td>-0.003697</td>\n",
       "      <td>-0.047471</td>\n",
       "      <td>0.338135</td>\n",
       "      <td>0.197632</td>\n",
       "      <td>0.071676</td>\n",
       "      <td>0.028929</td>\n",
       "      <td>0.026172</td>\n",
       "      <td>0.015220</td>\n",
       "      <td>1.000000</td>\n",
       "      <td>-0.047535</td>\n",
       "    </tr>\n",
       "    <tr>\n",
       "      <th>new_age</th>\n",
       "      <td>0.002399</td>\n",
       "      <td>0.998048</td>\n",
       "      <td>-0.020697</td>\n",
       "      <td>-0.083634</td>\n",
       "      <td>0.062979</td>\n",
       "      <td>0.220780</td>\n",
       "      <td>0.157957</td>\n",
       "      <td>0.141935</td>\n",
       "      <td>-0.047535</td>\n",
       "      <td>1.000000</td>\n",
       "    </tr>\n",
       "  </tbody>\n",
       "</table>\n",
       "</div>"
      ],
      "text/plain": [
       "                   id       age    gender    height    weight     ap_hi  \\\n",
       "id           1.000000  0.002682  0.003506 -0.001886 -0.001292  0.003258   \n",
       "age          0.002682  1.000000 -0.020176 -0.082292  0.061559  0.219087   \n",
       "gender       0.003506 -0.020176  1.000000  0.533805  0.172480  0.063174   \n",
       "height      -0.001886 -0.082292  0.533805  1.000000  0.313569  0.019381   \n",
       "weight      -0.001292  0.061559  0.172480  0.313569  1.000000  0.277749   \n",
       "ap_hi        0.003258  0.219087  0.063174  0.019381  0.277749  1.000000   \n",
       "ap_lo       -0.000238  0.156700  0.066374  0.030534  0.254420  0.735436   \n",
       "cholesterol  0.005706  0.140113 -0.035730 -0.058940  0.137908  0.208722   \n",
       "smoke       -0.003697 -0.047471  0.338135  0.197632  0.071676  0.028929   \n",
       "new_age      0.002399  0.998048 -0.020697 -0.083634  0.062979  0.220780   \n",
       "\n",
       "                ap_lo  cholesterol     smoke   new_age  \n",
       "id          -0.000238     0.005706 -0.003697  0.002399  \n",
       "age          0.156700     0.140113 -0.047471  0.998048  \n",
       "gender       0.066374    -0.035730  0.338135 -0.020697  \n",
       "height       0.030534    -0.058940  0.197632 -0.083634  \n",
       "weight       0.254420     0.137908  0.071676  0.062979  \n",
       "ap_hi        0.735436     0.208722  0.028929  0.220780  \n",
       "ap_lo        1.000000     0.167401  0.026172  0.157957  \n",
       "cholesterol  0.167401     1.000000  0.015220  0.141935  \n",
       "smoke        0.026172     0.015220  1.000000 -0.047535  \n",
       "new_age      0.157957     0.141935 -0.047535  1.000000  "
      ]
     },
     "execution_count": 56,
     "metadata": {},
     "output_type": "execute_result"
    }
   ],
   "source": [
    "data.corr(method='spearman')"
   ]
  },
  {
   "cell_type": "code",
   "execution_count": 57,
   "metadata": {},
   "outputs": [
    {
     "data": {
      "text/plain": [
       "count    70000.000000\n",
       "mean       164.359229\n",
       "std          8.210126\n",
       "min         55.000000\n",
       "25%        159.000000\n",
       "50%        165.000000\n",
       "75%        170.000000\n",
       "max        250.000000\n",
       "Name: height, dtype: float64"
      ]
     },
     "execution_count": 57,
     "metadata": {},
     "output_type": "execute_result"
    }
   ],
   "source": [
    "(data.height).describe()"
   ]
  },
  {
   "cell_type": "code",
   "execution_count": 58,
   "metadata": {},
   "outputs": [
    {
     "data": {
      "text/plain": [
       "180.779481"
      ]
     },
     "execution_count": 58,
     "metadata": {},
     "output_type": "execute_result"
    }
   ],
   "source": [
    "164.359229+2*8.210126"
   ]
  },
  {
   "cell_type": "code",
   "execution_count": 60,
   "metadata": {},
   "outputs": [
    {
     "data": {
      "text/plain": [
       "id             1439\n",
       "age            1439\n",
       "gender         1439\n",
       "height         1439\n",
       "weight         1439\n",
       "ap_hi          1439\n",
       "ap_lo          1439\n",
       "cholesterol    1439\n",
       "smoke          1439\n",
       "new_age        1439\n",
       "dtype: int64"
      ]
     },
     "execution_count": 60,
     "metadata": {},
     "output_type": "execute_result"
    }
   ],
   "source": [
    "(data[data.height>180.77]).count()"
   ]
  },
  {
   "cell_type": "code",
   "execution_count": 61,
   "metadata": {},
   "outputs": [
    {
     "data": {
      "text/plain": [
       "0.020557142857142857"
      ]
     },
     "execution_count": 61,
     "metadata": {},
     "output_type": "execute_result"
    }
   ],
   "source": [
    "1439/70000"
   ]
  },
  {
   "cell_type": "code",
   "execution_count": 62,
   "metadata": {},
   "outputs": [
    {
     "data": {
      "text/plain": [
       "147.938977"
      ]
     },
     "execution_count": 62,
     "metadata": {},
     "output_type": "execute_result"
    }
   ],
   "source": [
    "164.359229-2*8.210126"
   ]
  },
  {
   "cell_type": "code",
   "execution_count": 63,
   "metadata": {},
   "outputs": [
    {
     "data": {
      "text/plain": [
       "id             896\n",
       "age            896\n",
       "gender         896\n",
       "height         896\n",
       "weight         896\n",
       "ap_hi          896\n",
       "ap_lo          896\n",
       "cholesterol    896\n",
       "smoke          896\n",
       "new_age        896\n",
       "dtype: int64"
      ]
     },
     "execution_count": 63,
     "metadata": {},
     "output_type": "execute_result"
    }
   ],
   "source": [
    "(data[data.height<147.93]).count()"
   ]
  },
  {
   "cell_type": "code",
   "execution_count": 64,
   "metadata": {},
   "outputs": [
    {
     "data": {
      "text/plain": [
       "0.033357142857142856"
      ]
     },
     "execution_count": 64,
     "metadata": {},
     "output_type": "execute_result"
    }
   ],
   "source": [
    "(1439+896)/70000"
   ]
  },
  {
   "cell_type": "code",
   "execution_count": 65,
   "metadata": {},
   "outputs": [],
   "source": [
    "data2=pd.read_csv('cardio_alco.csv')"
   ]
  },
  {
   "cell_type": "code",
   "execution_count": 66,
   "metadata": {},
   "outputs": [
    {
     "name": "stdout",
     "output_type": "stream",
     "text": [
      "(56903, 1)\n"
     ]
    }
   ],
   "source": [
    "print(data2.shape)"
   ]
  },
  {
   "cell_type": "code",
   "execution_count": 70,
   "metadata": {},
   "outputs": [
    {
     "data": {
      "text/html": [
       "<div>\n",
       "<style scoped>\n",
       "    .dataframe tbody tr th:only-of-type {\n",
       "        vertical-align: middle;\n",
       "    }\n",
       "\n",
       "    .dataframe tbody tr th {\n",
       "        vertical-align: top;\n",
       "    }\n",
       "\n",
       "    .dataframe thead th {\n",
       "        text-align: right;\n",
       "    }\n",
       "</style>\n",
       "<table border=\"1\" class=\"dataframe\">\n",
       "  <thead>\n",
       "    <tr style=\"text-align: right;\">\n",
       "      <th></th>\n",
       "      <th>id;alco</th>\n",
       "    </tr>\n",
       "  </thead>\n",
       "  <tbody>\n",
       "    <tr>\n",
       "      <th>0</th>\n",
       "      <td>44;0</td>\n",
       "    </tr>\n",
       "    <tr>\n",
       "      <th>1</th>\n",
       "      <td>45;0</td>\n",
       "    </tr>\n",
       "    <tr>\n",
       "      <th>2</th>\n",
       "      <td>46;0</td>\n",
       "    </tr>\n",
       "    <tr>\n",
       "      <th>3</th>\n",
       "      <td>47;0</td>\n",
       "    </tr>\n",
       "    <tr>\n",
       "      <th>4</th>\n",
       "      <td>49;0</td>\n",
       "    </tr>\n",
       "  </tbody>\n",
       "</table>\n",
       "</div>"
      ],
      "text/plain": [
       "  id;alco\n",
       "0    44;0\n",
       "1    45;0\n",
       "2    46;0\n",
       "3    47;0\n",
       "4    49;0"
      ]
     },
     "execution_count": 70,
     "metadata": {},
     "output_type": "execute_result"
    }
   ],
   "source": [
    "data2.head()"
   ]
  },
  {
   "cell_type": "code",
   "execution_count": 67,
   "metadata": {},
   "outputs": [],
   "source": [
    "result = pd.concat([data, data2], axis=1, join=\"inner\")"
   ]
  },
  {
   "cell_type": "code",
   "execution_count": 68,
   "metadata": {},
   "outputs": [
    {
     "name": "stdout",
     "output_type": "stream",
     "text": [
      "(56903, 11)\n"
     ]
    }
   ],
   "source": [
    "print(result.shape)"
   ]
  },
  {
   "cell_type": "code",
   "execution_count": 71,
   "metadata": {},
   "outputs": [
    {
     "data": {
      "text/plain": [
       "id             37348\n",
       "age            37348\n",
       "gender         37348\n",
       "height         37348\n",
       "weight         37348\n",
       "ap_hi          37348\n",
       "ap_lo          37348\n",
       "cholesterol    37348\n",
       "smoke          37348\n",
       "new_age        37348\n",
       "id;alco        37348\n",
       "dtype: int64"
      ]
     },
     "execution_count": 71,
     "metadata": {},
     "output_type": "execute_result"
    }
   ],
   "source": [
    "result[result.new_age>50].count()"
   ]
  },
  {
   "cell_type": "code",
   "execution_count": 72,
   "metadata": {},
   "outputs": [
    {
     "data": {
      "text/plain": [
       "id             45984\n",
       "age            45984\n",
       "gender         45984\n",
       "height         45984\n",
       "weight         45984\n",
       "ap_hi          45984\n",
       "ap_lo          45984\n",
       "cholesterol    45984\n",
       "smoke          45984\n",
       "new_age        45984\n",
       "dtype: int64"
      ]
     },
     "execution_count": 72,
     "metadata": {},
     "output_type": "execute_result"
    }
   ],
   "source": [
    "data[data.new_age>50].count()"
   ]
  },
  {
   "cell_type": "code",
   "execution_count": 74,
   "metadata": {},
   "outputs": [
    {
     "data": {
      "text/html": [
       "<div>\n",
       "<style scoped>\n",
       "    .dataframe tbody tr th:only-of-type {\n",
       "        vertical-align: middle;\n",
       "    }\n",
       "\n",
       "    .dataframe tbody tr th {\n",
       "        vertical-align: top;\n",
       "    }\n",
       "\n",
       "    .dataframe thead th {\n",
       "        text-align: right;\n",
       "    }\n",
       "</style>\n",
       "<table border=\"1\" class=\"dataframe\">\n",
       "  <thead>\n",
       "    <tr style=\"text-align: right;\">\n",
       "      <th></th>\n",
       "      <th>id;alco</th>\n",
       "    </tr>\n",
       "  </thead>\n",
       "  <tbody>\n",
       "    <tr>\n",
       "      <th>0</th>\n",
       "      <td>44;0</td>\n",
       "    </tr>\n",
       "    <tr>\n",
       "      <th>1</th>\n",
       "      <td>45;0</td>\n",
       "    </tr>\n",
       "    <tr>\n",
       "      <th>2</th>\n",
       "      <td>46;0</td>\n",
       "    </tr>\n",
       "    <tr>\n",
       "      <th>3</th>\n",
       "      <td>47;0</td>\n",
       "    </tr>\n",
       "    <tr>\n",
       "      <th>4</th>\n",
       "      <td>49;0</td>\n",
       "    </tr>\n",
       "    <tr>\n",
       "      <th>...</th>\n",
       "      <td>...</td>\n",
       "    </tr>\n",
       "    <tr>\n",
       "      <th>56898</th>\n",
       "      <td>99949;0</td>\n",
       "    </tr>\n",
       "    <tr>\n",
       "      <th>56899</th>\n",
       "      <td>99950;0</td>\n",
       "    </tr>\n",
       "    <tr>\n",
       "      <th>56900</th>\n",
       "      <td>99951;0</td>\n",
       "    </tr>\n",
       "    <tr>\n",
       "      <th>56901</th>\n",
       "      <td>99952;0</td>\n",
       "    </tr>\n",
       "    <tr>\n",
       "      <th>56902</th>\n",
       "      <td>99954;0</td>\n",
       "    </tr>\n",
       "  </tbody>\n",
       "</table>\n",
       "<p>56903 rows × 1 columns</p>\n",
       "</div>"
      ],
      "text/plain": [
       "       id;alco\n",
       "0         44;0\n",
       "1         45;0\n",
       "2         46;0\n",
       "3         47;0\n",
       "4         49;0\n",
       "...        ...\n",
       "56898  99949;0\n",
       "56899  99950;0\n",
       "56900  99951;0\n",
       "56901  99952;0\n",
       "56902  99954;0\n",
       "\n",
       "[56903 rows x 1 columns]"
      ]
     },
     "execution_count": 74,
     "metadata": {},
     "output_type": "execute_result"
    }
   ],
   "source": [
    "data2"
   ]
  },
  {
   "cell_type": "code",
   "execution_count": 81,
   "metadata": {},
   "outputs": [],
   "source": [
    "data2=pd.read_csv('cardio_alco.csv')"
   ]
  },
  {
   "cell_type": "code",
   "execution_count": 82,
   "metadata": {},
   "outputs": [
    {
     "data": {
      "text/html": [
       "<div>\n",
       "<style scoped>\n",
       "    .dataframe tbody tr th:only-of-type {\n",
       "        vertical-align: middle;\n",
       "    }\n",
       "\n",
       "    .dataframe tbody tr th {\n",
       "        vertical-align: top;\n",
       "    }\n",
       "\n",
       "    .dataframe thead th {\n",
       "        text-align: right;\n",
       "    }\n",
       "</style>\n",
       "<table border=\"1\" class=\"dataframe\">\n",
       "  <thead>\n",
       "    <tr style=\"text-align: right;\">\n",
       "      <th></th>\n",
       "      <th>id;alco</th>\n",
       "    </tr>\n",
       "  </thead>\n",
       "  <tbody>\n",
       "    <tr>\n",
       "      <th>0</th>\n",
       "      <td>44;0</td>\n",
       "    </tr>\n",
       "    <tr>\n",
       "      <th>1</th>\n",
       "      <td>45;0</td>\n",
       "    </tr>\n",
       "    <tr>\n",
       "      <th>2</th>\n",
       "      <td>46;0</td>\n",
       "    </tr>\n",
       "    <tr>\n",
       "      <th>3</th>\n",
       "      <td>47;0</td>\n",
       "    </tr>\n",
       "    <tr>\n",
       "      <th>4</th>\n",
       "      <td>49;0</td>\n",
       "    </tr>\n",
       "  </tbody>\n",
       "</table>\n",
       "</div>"
      ],
      "text/plain": [
       "  id;alco\n",
       "0    44;0\n",
       "1    45;0\n",
       "2    46;0\n",
       "3    47;0\n",
       "4    49;0"
      ]
     },
     "execution_count": 82,
     "metadata": {},
     "output_type": "execute_result"
    }
   ],
   "source": [
    "data2.head()"
   ]
  },
  {
   "cell_type": "code",
   "execution_count": 84,
   "metadata": {},
   "outputs": [
    {
     "data": {
      "text/html": [
       "<div>\n",
       "<style scoped>\n",
       "    .dataframe tbody tr th:only-of-type {\n",
       "        vertical-align: middle;\n",
       "    }\n",
       "\n",
       "    .dataframe tbody tr th {\n",
       "        vertical-align: top;\n",
       "    }\n",
       "\n",
       "    .dataframe thead th {\n",
       "        text-align: right;\n",
       "    }\n",
       "</style>\n",
       "<table border=\"1\" class=\"dataframe\">\n",
       "  <thead>\n",
       "    <tr style=\"text-align: right;\">\n",
       "      <th></th>\n",
       "      <th>id;alco</th>\n",
       "    </tr>\n",
       "  </thead>\n",
       "  <tbody>\n",
       "    <tr>\n",
       "      <th>56898</th>\n",
       "      <td>99949;0</td>\n",
       "    </tr>\n",
       "    <tr>\n",
       "      <th>56899</th>\n",
       "      <td>99950;0</td>\n",
       "    </tr>\n",
       "    <tr>\n",
       "      <th>56900</th>\n",
       "      <td>99951;0</td>\n",
       "    </tr>\n",
       "    <tr>\n",
       "      <th>56901</th>\n",
       "      <td>99952;0</td>\n",
       "    </tr>\n",
       "    <tr>\n",
       "      <th>56902</th>\n",
       "      <td>99954;0</td>\n",
       "    </tr>\n",
       "  </tbody>\n",
       "</table>\n",
       "</div>"
      ],
      "text/plain": [
       "       id;alco\n",
       "56898  99949;0\n",
       "56899  99950;0\n",
       "56900  99951;0\n",
       "56901  99952;0\n",
       "56902  99954;0"
      ]
     },
     "execution_count": 84,
     "metadata": {},
     "output_type": "execute_result"
    }
   ],
   "source": [
    "data2.tail()"
   ]
  },
  {
   "cell_type": "code",
   "execution_count": 85,
   "metadata": {},
   "outputs": [],
   "source": [
    "a=list(data2['id;alco'])"
   ]
  },
  {
   "cell_type": "code",
   "execution_count": 87,
   "metadata": {},
   "outputs": [],
   "source": [
    "b=[]"
   ]
  },
  {
   "cell_type": "code",
   "execution_count": 88,
   "metadata": {},
   "outputs": [],
   "source": [
    "for elt in a:\n",
    "    s=elt[:-2]\n",
    "    b.append(int(s))"
   ]
  },
  {
   "cell_type": "code",
   "execution_count": 89,
   "metadata": {
    "collapsed": true
   },
   "outputs": [
    {
     "data": {
      "text/plain": [
       "[44,\n",
       " 45,\n",
       " 46,\n",
       " 47,\n",
       " 49,\n",
       " 51,\n",
       " 52,\n",
       " 53,\n",
       " 54,\n",
       " 56,\n",
       " 57,\n",
       " 58,\n",
       " 59,\n",
       " 60,\n",
       " 61,\n",
       " 62,\n",
       " 63,\n",
       " 64,\n",
       " 65,\n",
       " 66,\n",
       " 67,\n",
       " 68,\n",
       " 69,\n",
       " 70,\n",
       " 71,\n",
       " 72,\n",
       " 73,\n",
       " 74,\n",
       " 77,\n",
       " 79,\n",
       " 81,\n",
       " 83,\n",
       " 86,\n",
       " 87,\n",
       " 88,\n",
       " 90,\n",
       " 92,\n",
       " 94,\n",
       " 95,\n",
       " 96,\n",
       " 97,\n",
       " 100,\n",
       " 103,\n",
       " 104,\n",
       " 105,\n",
       " 106,\n",
       " 107,\n",
       " 108,\n",
       " 109,\n",
       " 111,\n",
       " 113,\n",
       " 114,\n",
       " 115,\n",
       " 116,\n",
       " 117,\n",
       " 119,\n",
       " 121,\n",
       " 122,\n",
       " 123,\n",
       " 124,\n",
       " 125,\n",
       " 126,\n",
       " 127,\n",
       " 129,\n",
       " 131,\n",
       " 132,\n",
       " 133,\n",
       " 134,\n",
       " 135,\n",
       " 136,\n",
       " 137,\n",
       " 138,\n",
       " 139,\n",
       " 140,\n",
       " 141,\n",
       " 142,\n",
       " 143,\n",
       " 144,\n",
       " 145,\n",
       " 146,\n",
       " 148,\n",
       " 149,\n",
       " 154,\n",
       " 157,\n",
       " 158,\n",
       " 161,\n",
       " 162,\n",
       " 163,\n",
       " 164,\n",
       " 166,\n",
       " 167,\n",
       " 168,\n",
       " 169,\n",
       " 170,\n",
       " 171,\n",
       " 172,\n",
       " 173,\n",
       " 174,\n",
       " 175,\n",
       " 176,\n",
       " 177,\n",
       " 178,\n",
       " 180,\n",
       " 182,\n",
       " 183,\n",
       " 184,\n",
       " 185,\n",
       " 186,\n",
       " 189,\n",
       " 190,\n",
       " 191,\n",
       " 192,\n",
       " 196,\n",
       " 197,\n",
       " 199,\n",
       " 200,\n",
       " 201,\n",
       " 202,\n",
       " 203,\n",
       " 204,\n",
       " 206,\n",
       " 207,\n",
       " 208,\n",
       " 209,\n",
       " 210,\n",
       " 211,\n",
       " 213,\n",
       " 215,\n",
       " 216,\n",
       " 217,\n",
       " 218,\n",
       " 219,\n",
       " 220,\n",
       " 258,\n",
       " 259,\n",
       " 260,\n",
       " 261,\n",
       " 264,\n",
       " 265,\n",
       " 267,\n",
       " 271,\n",
       " 272,\n",
       " 275,\n",
       " 276,\n",
       " 277,\n",
       " 278,\n",
       " 279,\n",
       " 281,\n",
       " 283,\n",
       " 285,\n",
       " 286,\n",
       " 287,\n",
       " 288,\n",
       " 289,\n",
       " 290,\n",
       " 291,\n",
       " 292,\n",
       " 293,\n",
       " 294,\n",
       " 295,\n",
       " 296,\n",
       " 297,\n",
       " 299,\n",
       " 303,\n",
       " 305,\n",
       " 306,\n",
       " 308,\n",
       " 309,\n",
       " 310,\n",
       " 311,\n",
       " 312,\n",
       " 314,\n",
       " 316,\n",
       " 318,\n",
       " 320,\n",
       " 321,\n",
       " 322,\n",
       " 324,\n",
       " 325,\n",
       " 327,\n",
       " 328,\n",
       " 329,\n",
       " 330,\n",
       " 332,\n",
       " 334,\n",
       " 335,\n",
       " 336,\n",
       " 337,\n",
       " 338,\n",
       " 340,\n",
       " 341,\n",
       " 342,\n",
       " 343,\n",
       " 344,\n",
       " 345,\n",
       " 346,\n",
       " 347,\n",
       " 350,\n",
       " 351,\n",
       " 352,\n",
       " 354,\n",
       " 355,\n",
       " 356,\n",
       " 357,\n",
       " 358,\n",
       " 359,\n",
       " 360,\n",
       " 361,\n",
       " 362,\n",
       " 363,\n",
       " 366,\n",
       " 369,\n",
       " 371,\n",
       " 372,\n",
       " 373,\n",
       " 374,\n",
       " 375,\n",
       " 376,\n",
       " 377,\n",
       " 378,\n",
       " 379,\n",
       " 380,\n",
       " 382,\n",
       " 383,\n",
       " 384,\n",
       " 385,\n",
       " 386,\n",
       " 388,\n",
       " 389,\n",
       " 390,\n",
       " 391,\n",
       " 396,\n",
       " 398,\n",
       " 399,\n",
       " 400,\n",
       " 402,\n",
       " 403,\n",
       " 404,\n",
       " 408,\n",
       " 409,\n",
       " 410,\n",
       " 412,\n",
       " 413,\n",
       " 414,\n",
       " 415,\n",
       " 416,\n",
       " 417,\n",
       " 420,\n",
       " 422,\n",
       " 423,\n",
       " 426,\n",
       " 427,\n",
       " 428,\n",
       " 431,\n",
       " 432,\n",
       " 434,\n",
       " 438,\n",
       " 440,\n",
       " 441,\n",
       " 442,\n",
       " 443,\n",
       " 446,\n",
       " 447,\n",
       " 449,\n",
       " 450,\n",
       " 451,\n",
       " 452,\n",
       " 453,\n",
       " 454,\n",
       " 455,\n",
       " 456,\n",
       " 457,\n",
       " 458,\n",
       " 459,\n",
       " 461,\n",
       " 464,\n",
       " 465,\n",
       " 466,\n",
       " 467,\n",
       " 469,\n",
       " 473,\n",
       " 474,\n",
       " 475,\n",
       " 476,\n",
       " 477,\n",
       " 478,\n",
       " 480,\n",
       " 481,\n",
       " 482,\n",
       " 483,\n",
       " 484,\n",
       " 485,\n",
       " 486,\n",
       " 487,\n",
       " 488,\n",
       " 490,\n",
       " 491,\n",
       " 492,\n",
       " 493,\n",
       " 494,\n",
       " 495,\n",
       " 500,\n",
       " 502,\n",
       " 506,\n",
       " 508,\n",
       " 510,\n",
       " 511,\n",
       " 513,\n",
       " 514,\n",
       " 518,\n",
       " 519,\n",
       " 520,\n",
       " 521,\n",
       " 522,\n",
       " 524,\n",
       " 525,\n",
       " 526,\n",
       " 527,\n",
       " 528,\n",
       " 531,\n",
       " 533,\n",
       " 537,\n",
       " 538,\n",
       " 539,\n",
       " 540,\n",
       " 542,\n",
       " 543,\n",
       " 545,\n",
       " 546,\n",
       " 548,\n",
       " 550,\n",
       " 551,\n",
       " 552,\n",
       " 553,\n",
       " 555,\n",
       " 558,\n",
       " 559,\n",
       " 562,\n",
       " 563,\n",
       " 564,\n",
       " 565,\n",
       " 566,\n",
       " 567,\n",
       " 568,\n",
       " 569,\n",
       " 572,\n",
       " 573,\n",
       " 574,\n",
       " 577,\n",
       " 580,\n",
       " 581,\n",
       " 582,\n",
       " 583,\n",
       " 584,\n",
       " 585,\n",
       " 586,\n",
       " 587,\n",
       " 589,\n",
       " 591,\n",
       " 592,\n",
       " 593,\n",
       " 594,\n",
       " 596,\n",
       " 599,\n",
       " 600,\n",
       " 602,\n",
       " 604,\n",
       " 605,\n",
       " 606,\n",
       " 608,\n",
       " 609,\n",
       " 610,\n",
       " 611,\n",
       " 612,\n",
       " 613,\n",
       " 614,\n",
       " 615,\n",
       " 616,\n",
       " 618,\n",
       " 620,\n",
       " 622,\n",
       " 623,\n",
       " 625,\n",
       " 627,\n",
       " 628,\n",
       " 630,\n",
       " 631,\n",
       " 632,\n",
       " 633,\n",
       " 634,\n",
       " 638,\n",
       " 641,\n",
       " 647,\n",
       " 649,\n",
       " 650,\n",
       " 651,\n",
       " 652,\n",
       " 653,\n",
       " 655,\n",
       " 656,\n",
       " 657,\n",
       " 658,\n",
       " 659,\n",
       " 660,\n",
       " 661,\n",
       " 662,\n",
       " 663,\n",
       " 664,\n",
       " 665,\n",
       " 667,\n",
       " 669,\n",
       " 670,\n",
       " 672,\n",
       " 677,\n",
       " 678,\n",
       " 679,\n",
       " 680,\n",
       " 681,\n",
       " 682,\n",
       " 683,\n",
       " 684,\n",
       " 686,\n",
       " 688,\n",
       " 689,\n",
       " 691,\n",
       " 692,\n",
       " 693,\n",
       " 694,\n",
       " 695,\n",
       " 696,\n",
       " 697,\n",
       " 699,\n",
       " 700,\n",
       " 701,\n",
       " 704,\n",
       " 705,\n",
       " 706,\n",
       " 708,\n",
       " 711,\n",
       " 712,\n",
       " 713,\n",
       " 714,\n",
       " 716,\n",
       " 718,\n",
       " 720,\n",
       " 721,\n",
       " 722,\n",
       " 723,\n",
       " 724,\n",
       " 725,\n",
       " 728,\n",
       " 732,\n",
       " 733,\n",
       " 734,\n",
       " 736,\n",
       " 737,\n",
       " 738,\n",
       " 739,\n",
       " 740,\n",
       " 741,\n",
       " 744,\n",
       " 745,\n",
       " 748,\n",
       " 749,\n",
       " 750,\n",
       " 751,\n",
       " 752,\n",
       " 754,\n",
       " 755,\n",
       " 756,\n",
       " 759,\n",
       " 760,\n",
       " 761,\n",
       " 764,\n",
       " 765,\n",
       " 766,\n",
       " 767,\n",
       " 768,\n",
       " 769,\n",
       " 770,\n",
       " 771,\n",
       " 772,\n",
       " 773,\n",
       " 774,\n",
       " 775,\n",
       " 776,\n",
       " 777,\n",
       " 778,\n",
       " 779,\n",
       " 781,\n",
       " 783,\n",
       " 784,\n",
       " 786,\n",
       " 789,\n",
       " 791,\n",
       " 792,\n",
       " 796,\n",
       " 797,\n",
       " 798,\n",
       " 800,\n",
       " 802,\n",
       " 803,\n",
       " 805,\n",
       " 806,\n",
       " 807,\n",
       " 809,\n",
       " 810,\n",
       " 811,\n",
       " 812,\n",
       " 813,\n",
       " 815,\n",
       " 816,\n",
       " 817,\n",
       " 818,\n",
       " 819,\n",
       " 820,\n",
       " 821,\n",
       " 822,\n",
       " 823,\n",
       " 826,\n",
       " 829,\n",
       " 830,\n",
       " 831,\n",
       " 833,\n",
       " 836,\n",
       " 837,\n",
       " 838,\n",
       " 839,\n",
       " 840,\n",
       " 841,\n",
       " 842,\n",
       " 843,\n",
       " 844,\n",
       " 845,\n",
       " 846,\n",
       " 847,\n",
       " 848,\n",
       " 851,\n",
       " 855,\n",
       " 856,\n",
       " 857,\n",
       " 859,\n",
       " 860,\n",
       " 864,\n",
       " 866,\n",
       " 869,\n",
       " 870,\n",
       " 871,\n",
       " 872,\n",
       " 874,\n",
       " 875,\n",
       " 877,\n",
       " 879,\n",
       " 883,\n",
       " 884,\n",
       " 885,\n",
       " 886,\n",
       " 887,\n",
       " 888,\n",
       " 890,\n",
       " 892,\n",
       " 893,\n",
       " 894,\n",
       " 895,\n",
       " 896,\n",
       " 899,\n",
       " 900,\n",
       " 901,\n",
       " 902,\n",
       " 903,\n",
       " 904,\n",
       " 905,\n",
       " 906,\n",
       " 907,\n",
       " 908,\n",
       " 909,\n",
       " 910,\n",
       " 911,\n",
       " 912,\n",
       " 913,\n",
       " 914,\n",
       " 915,\n",
       " 916,\n",
       " 918,\n",
       " 919,\n",
       " 920,\n",
       " 921,\n",
       " 922,\n",
       " 923,\n",
       " 925,\n",
       " 926,\n",
       " 927,\n",
       " 928,\n",
       " 929,\n",
       " 930,\n",
       " 931,\n",
       " 932,\n",
       " 933,\n",
       " 934,\n",
       " 935,\n",
       " 936,\n",
       " 937,\n",
       " 938,\n",
       " 939,\n",
       " 941,\n",
       " 942,\n",
       " 943,\n",
       " 945,\n",
       " 946,\n",
       " 947,\n",
       " 948,\n",
       " 949,\n",
       " 950,\n",
       " 951,\n",
       " 952,\n",
       " 953,\n",
       " 954,\n",
       " 955,\n",
       " 956,\n",
       " 958,\n",
       " 959,\n",
       " 960,\n",
       " 962,\n",
       " 963,\n",
       " 964,\n",
       " 965,\n",
       " 966,\n",
       " 968,\n",
       " 969,\n",
       " 970,\n",
       " 972,\n",
       " 973,\n",
       " 974,\n",
       " 977,\n",
       " 978,\n",
       " 979,\n",
       " 980,\n",
       " 982,\n",
       " 983,\n",
       " 984,\n",
       " 986,\n",
       " 987,\n",
       " 988,\n",
       " 989,\n",
       " 990,\n",
       " 991,\n",
       " 992,\n",
       " 995,\n",
       " 996,\n",
       " 997,\n",
       " 999,\n",
       " 1000,\n",
       " 1001,\n",
       " 1002,\n",
       " 1003,\n",
       " 1004,\n",
       " 1006,\n",
       " 1008,\n",
       " 1010,\n",
       " 1011,\n",
       " 1013,\n",
       " 1014,\n",
       " 1015,\n",
       " 1017,\n",
       " 1018,\n",
       " 1019,\n",
       " 1021,\n",
       " 1022,\n",
       " 1023,\n",
       " 1024,\n",
       " 1026,\n",
       " 1027,\n",
       " 1028,\n",
       " 1029,\n",
       " 1031,\n",
       " 1032,\n",
       " 1033,\n",
       " 1034,\n",
       " 1035,\n",
       " 1036,\n",
       " 1037,\n",
       " 1038,\n",
       " 1039,\n",
       " 1040,\n",
       " 1041,\n",
       " 1042,\n",
       " 1043,\n",
       " 1044,\n",
       " 1045,\n",
       " 1046,\n",
       " 1047,\n",
       " 1048,\n",
       " 1049,\n",
       " 1050,\n",
       " 1051,\n",
       " 1052,\n",
       " 1053,\n",
       " 1054,\n",
       " 1055,\n",
       " 1056,\n",
       " 1057,\n",
       " 1058,\n",
       " 1059,\n",
       " 1060,\n",
       " 1062,\n",
       " 1063,\n",
       " 1064,\n",
       " 1065,\n",
       " 1066,\n",
       " 1067,\n",
       " 1069,\n",
       " 1070,\n",
       " 1071,\n",
       " 1073,\n",
       " 1074,\n",
       " 1075,\n",
       " 1076,\n",
       " 1077,\n",
       " 1078,\n",
       " 1081,\n",
       " 1082,\n",
       " 1083,\n",
       " 1084,\n",
       " 1085,\n",
       " 1086,\n",
       " 1087,\n",
       " 1092,\n",
       " 1093,\n",
       " 1094,\n",
       " 1098,\n",
       " 1100,\n",
       " 1101,\n",
       " 1102,\n",
       " 1103,\n",
       " 1104,\n",
       " 1106,\n",
       " 1107,\n",
       " 1109,\n",
       " 1110,\n",
       " 1111,\n",
       " 1112,\n",
       " 1113,\n",
       " 1115,\n",
       " 1116,\n",
       " 1118,\n",
       " 1119,\n",
       " 1120,\n",
       " 1121,\n",
       " 1122,\n",
       " 1123,\n",
       " 1124,\n",
       " 1125,\n",
       " 1126,\n",
       " 1127,\n",
       " 1128,\n",
       " 1129,\n",
       " 1130,\n",
       " 1131,\n",
       " 1133,\n",
       " 1134,\n",
       " 1135,\n",
       " 1136,\n",
       " 1137,\n",
       " 1138,\n",
       " 1141,\n",
       " 1143,\n",
       " 1144,\n",
       " 1145,\n",
       " 1147,\n",
       " 1148,\n",
       " 1150,\n",
       " 1152,\n",
       " 1158,\n",
       " 1159,\n",
       " 1160,\n",
       " 1162,\n",
       " 1163,\n",
       " 1164,\n",
       " 1166,\n",
       " 1167,\n",
       " 1168,\n",
       " 1169,\n",
       " 1171,\n",
       " 1172,\n",
       " 1174,\n",
       " 1176,\n",
       " 1177,\n",
       " 1178,\n",
       " 1179,\n",
       " 1180,\n",
       " 1182,\n",
       " 1183,\n",
       " 1184,\n",
       " 1185,\n",
       " 1187,\n",
       " 1189,\n",
       " 1190,\n",
       " 1191,\n",
       " 1192,\n",
       " 1193,\n",
       " 1194,\n",
       " 1195,\n",
       " 1196,\n",
       " 1197,\n",
       " 1198,\n",
       " 1201,\n",
       " 1203,\n",
       " 1204,\n",
       " 1205,\n",
       " 1206,\n",
       " 1207,\n",
       " 1208,\n",
       " 1209,\n",
       " 1210,\n",
       " 1211,\n",
       " 1212,\n",
       " 1213,\n",
       " 1216,\n",
       " 1220,\n",
       " 1221,\n",
       " 1222,\n",
       " 1223,\n",
       " 1225,\n",
       " 1227,\n",
       " 1229,\n",
       " 1231,\n",
       " 1232,\n",
       " 1233,\n",
       " 1235,\n",
       " 1236,\n",
       " 1237,\n",
       " 1238,\n",
       " 1239,\n",
       " 1240,\n",
       " 1242,\n",
       " 1244,\n",
       " 1245,\n",
       " 1246,\n",
       " 1247,\n",
       " 1248,\n",
       " 1250,\n",
       " 1252,\n",
       " 1253,\n",
       " 1254,\n",
       " 1255,\n",
       " 1256,\n",
       " 1257,\n",
       " 1258,\n",
       " 1264,\n",
       " 1266,\n",
       " 1269,\n",
       " 1270,\n",
       " 1271,\n",
       " 1272,\n",
       " 1273,\n",
       " 1274,\n",
       " 1275,\n",
       " 1276,\n",
       " 1277,\n",
       " 1278,\n",
       " 1280,\n",
       " 1281,\n",
       " 1283,\n",
       " 1284,\n",
       " 1285,\n",
       " 1288,\n",
       " 1289,\n",
       " 1290,\n",
       " 1292,\n",
       " 1293,\n",
       " 1294,\n",
       " 1295,\n",
       " 1298,\n",
       " 1299,\n",
       " 1300,\n",
       " 1301,\n",
       " 1302,\n",
       " 1304,\n",
       " 1306,\n",
       " 1307,\n",
       " 1308,\n",
       " 1309,\n",
       " 1310,\n",
       " 1311,\n",
       " 1312,\n",
       " 1313,\n",
       " 1314,\n",
       " 1315,\n",
       " 1317,\n",
       " 1319,\n",
       " 1321,\n",
       " 1322,\n",
       " 1323,\n",
       " 1324,\n",
       " 1325,\n",
       " 1326,\n",
       " 1327,\n",
       " 1328,\n",
       " 1329,\n",
       " 1330,\n",
       " 1333,\n",
       " 1334,\n",
       " 1335,\n",
       " 1336,\n",
       " 1337,\n",
       " 1338,\n",
       " 1339,\n",
       " 1340,\n",
       " 1341,\n",
       " 1342,\n",
       " 1344,\n",
       " 1345,\n",
       " 1346,\n",
       " 1348,\n",
       " 1349,\n",
       " 1350,\n",
       " 1351,\n",
       " 1353,\n",
       " 1354,\n",
       " 1355,\n",
       " 1356,\n",
       " 1357,\n",
       " 1360,\n",
       " 1362,\n",
       " 1363,\n",
       " 1364,\n",
       " 1365,\n",
       " 1367,\n",
       " 1368,\n",
       " 1369,\n",
       " 1372,\n",
       " 1373,\n",
       " 1374,\n",
       " 1375,\n",
       " 1376,\n",
       " 1378,\n",
       " 1379,\n",
       " 1380,\n",
       " 1381,\n",
       " 1383,\n",
       " 1385,\n",
       " 1386,\n",
       " 1387,\n",
       " 1389,\n",
       " 1390,\n",
       " 1391,\n",
       " 1393,\n",
       " 1395,\n",
       " 1396,\n",
       " 1397,\n",
       " 1398,\n",
       " 1399,\n",
       " 1400,\n",
       " 1402,\n",
       " 1403,\n",
       " 1404,\n",
       " 1405,\n",
       " 1407,\n",
       " 1409,\n",
       " 1410,\n",
       " 1411,\n",
       " 1412,\n",
       " 1419,\n",
       " 1421,\n",
       " 1423,\n",
       " 1426,\n",
       " 1427,\n",
       " 1429,\n",
       " 1430,\n",
       " 1431,\n",
       " 1432,\n",
       " 1433,\n",
       " 1434,\n",
       " 1435,\n",
       " 1436,\n",
       " 1437,\n",
       " 1438,\n",
       " 1439,\n",
       " 1440,\n",
       " 1441,\n",
       " 1442,\n",
       " 1443,\n",
       " 1444,\n",
       " 1445,\n",
       " 1448,\n",
       " 1449,\n",
       " 1451,\n",
       " 1452,\n",
       " 1453,\n",
       " 1454,\n",
       " 1455,\n",
       " 1456,\n",
       " 1457,\n",
       " 1458,\n",
       " 1459,\n",
       " 1460,\n",
       " 1461,\n",
       " 1462,\n",
       " 1465,\n",
       " 1467,\n",
       " ...]"
      ]
     },
     "execution_count": 89,
     "metadata": {},
     "output_type": "execute_result"
    }
   ],
   "source": [
    "b"
   ]
  },
  {
   "cell_type": "code",
   "execution_count": 97,
   "metadata": {},
   "outputs": [],
   "source": [
    "data2=pd.read_csv('cardio_train.csv')"
   ]
  },
  {
   "cell_type": "code",
   "execution_count": 91,
   "metadata": {},
   "outputs": [
    {
     "ename": "AttributeError",
     "evalue": "'DataFrame' object has no attribute 'alco'",
     "output_type": "error",
     "traceback": [
      "\u001b[0;31m---------------------------------------------------------------------------\u001b[0m",
      "\u001b[0;31mAttributeError\u001b[0m                            Traceback (most recent call last)",
      "\u001b[0;32m<ipython-input-91-420e31567ae4>\u001b[0m in \u001b[0;36m<module>\u001b[0;34m\u001b[0m\n\u001b[0;32m----> 1\u001b[0;31m \u001b[0;34m(\u001b[0m\u001b[0mdata2\u001b[0m\u001b[0;34m.\u001b[0m\u001b[0malco\u001b[0m\u001b[0;34m[\u001b[0m\u001b[0mdata2\u001b[0m\u001b[0;34m.\u001b[0m\u001b[0mage\u001b[0m\u001b[0;34m>\u001b[0m\u001b[0;36m365\u001b[0m\u001b[0;34m*\u001b[0m\u001b[0;36m50\u001b[0m\u001b[0;34m]\u001b[0m\u001b[0;34m)\u001b[0m\u001b[0;34m.\u001b[0m\u001b[0mmean\u001b[0m\u001b[0;34m(\u001b[0m\u001b[0;34m)\u001b[0m\u001b[0;34m\u001b[0m\u001b[0;34m\u001b[0m\u001b[0m\n\u001b[0m",
      "\u001b[0;32m/Library/Frameworks/Python.framework/Versions/3.7/lib/python3.7/site-packages/pandas/core/generic.py\u001b[0m in \u001b[0;36m__getattr__\u001b[0;34m(self, name)\u001b[0m\n\u001b[1;32m   5463\u001b[0m             \u001b[0;32mif\u001b[0m \u001b[0mself\u001b[0m\u001b[0;34m.\u001b[0m\u001b[0m_info_axis\u001b[0m\u001b[0;34m.\u001b[0m\u001b[0m_can_hold_identifiers_and_holds_name\u001b[0m\u001b[0;34m(\u001b[0m\u001b[0mname\u001b[0m\u001b[0;34m)\u001b[0m\u001b[0;34m:\u001b[0m\u001b[0;34m\u001b[0m\u001b[0;34m\u001b[0m\u001b[0m\n\u001b[1;32m   5464\u001b[0m                 \u001b[0;32mreturn\u001b[0m \u001b[0mself\u001b[0m\u001b[0;34m[\u001b[0m\u001b[0mname\u001b[0m\u001b[0;34m]\u001b[0m\u001b[0;34m\u001b[0m\u001b[0;34m\u001b[0m\u001b[0m\n\u001b[0;32m-> 5465\u001b[0;31m             \u001b[0;32mreturn\u001b[0m \u001b[0mobject\u001b[0m\u001b[0;34m.\u001b[0m\u001b[0m__getattribute__\u001b[0m\u001b[0;34m(\u001b[0m\u001b[0mself\u001b[0m\u001b[0;34m,\u001b[0m \u001b[0mname\u001b[0m\u001b[0;34m)\u001b[0m\u001b[0;34m\u001b[0m\u001b[0;34m\u001b[0m\u001b[0m\n\u001b[0m\u001b[1;32m   5466\u001b[0m \u001b[0;34m\u001b[0m\u001b[0m\n\u001b[1;32m   5467\u001b[0m     \u001b[0;32mdef\u001b[0m \u001b[0m__setattr__\u001b[0m\u001b[0;34m(\u001b[0m\u001b[0mself\u001b[0m\u001b[0;34m,\u001b[0m \u001b[0mname\u001b[0m\u001b[0;34m:\u001b[0m \u001b[0mstr\u001b[0m\u001b[0;34m,\u001b[0m \u001b[0mvalue\u001b[0m\u001b[0;34m)\u001b[0m \u001b[0;34m->\u001b[0m \u001b[0;32mNone\u001b[0m\u001b[0;34m:\u001b[0m\u001b[0;34m\u001b[0m\u001b[0;34m\u001b[0m\u001b[0m\n",
      "\u001b[0;31mAttributeError\u001b[0m: 'DataFrame' object has no attribute 'alco'"
     ]
    }
   ],
   "source": [
    "(data2.alco[data2.age>365*50]).mean()"
   ]
  },
  {
   "cell_type": "code",
   "execution_count": 100,
   "metadata": {},
   "outputs": [
    {
     "data": {
      "text/html": [
       "<div>\n",
       "<style scoped>\n",
       "    .dataframe tbody tr th:only-of-type {\n",
       "        vertical-align: middle;\n",
       "    }\n",
       "\n",
       "    .dataframe tbody tr th {\n",
       "        vertical-align: top;\n",
       "    }\n",
       "\n",
       "    .dataframe thead th {\n",
       "        text-align: right;\n",
       "    }\n",
       "</style>\n",
       "<table border=\"1\" class=\"dataframe\">\n",
       "  <thead>\n",
       "    <tr style=\"text-align: right;\">\n",
       "      <th></th>\n",
       "      <th>id;age;gender;height;weight;ap_hi;ap_lo;cholesterol;gluc;smoke;alco;active;cardio</th>\n",
       "    </tr>\n",
       "  </thead>\n",
       "  <tbody>\n",
       "    <tr>\n",
       "      <th>0</th>\n",
       "      <td>0;18393;2;168;62.0;110;80;1;1;0;0;1;0</td>\n",
       "    </tr>\n",
       "    <tr>\n",
       "      <th>1</th>\n",
       "      <td>1;20228;1;156;85.0;140;90;3;1;0;0;1;1</td>\n",
       "    </tr>\n",
       "    <tr>\n",
       "      <th>2</th>\n",
       "      <td>2;18857;1;165;64.0;130;70;3;1;0;0;0;1</td>\n",
       "    </tr>\n",
       "    <tr>\n",
       "      <th>3</th>\n",
       "      <td>3;17623;2;169;82.0;150;100;1;1;0;0;1;1</td>\n",
       "    </tr>\n",
       "    <tr>\n",
       "      <th>4</th>\n",
       "      <td>4;17474;1;156;56.0;100;60;1;1;0;0;0;0</td>\n",
       "    </tr>\n",
       "    <tr>\n",
       "      <th>...</th>\n",
       "      <td>...</td>\n",
       "    </tr>\n",
       "    <tr>\n",
       "      <th>69995</th>\n",
       "      <td>99993;19240;2;168;76.0;120;80;1;1;1;0;1;0</td>\n",
       "    </tr>\n",
       "    <tr>\n",
       "      <th>69996</th>\n",
       "      <td>99995;22601;1;158;126.0;140;90;2;2;0;0;1;1</td>\n",
       "    </tr>\n",
       "    <tr>\n",
       "      <th>69997</th>\n",
       "      <td>99996;19066;2;183;105.0;180;90;3;1;0;1;0;1</td>\n",
       "    </tr>\n",
       "    <tr>\n",
       "      <th>69998</th>\n",
       "      <td>99998;22431;1;163;72.0;135;80;1;2;0;0;0;1</td>\n",
       "    </tr>\n",
       "    <tr>\n",
       "      <th>69999</th>\n",
       "      <td>99999;20540;1;170;72.0;120;80;2;1;0;0;1;0</td>\n",
       "    </tr>\n",
       "  </tbody>\n",
       "</table>\n",
       "<p>70000 rows × 1 columns</p>\n",
       "</div>"
      ],
      "text/plain": [
       "      id;age;gender;height;weight;ap_hi;ap_lo;cholesterol;gluc;smoke;alco;active;cardio\n",
       "0                  0;18393;2;168;62.0;110;80;1;1;0;0;1;0                               \n",
       "1                  1;20228;1;156;85.0;140;90;3;1;0;0;1;1                               \n",
       "2                  2;18857;1;165;64.0;130;70;3;1;0;0;0;1                               \n",
       "3                 3;17623;2;169;82.0;150;100;1;1;0;0;1;1                               \n",
       "4                  4;17474;1;156;56.0;100;60;1;1;0;0;0;0                               \n",
       "...                                                  ...                               \n",
       "69995          99993;19240;2;168;76.0;120;80;1;1;1;0;1;0                               \n",
       "69996         99995;22601;1;158;126.0;140;90;2;2;0;0;1;1                               \n",
       "69997         99996;19066;2;183;105.0;180;90;3;1;0;1;0;1                               \n",
       "69998          99998;22431;1;163;72.0;135;80;1;2;0;0;0;1                               \n",
       "69999          99999;20540;1;170;72.0;120;80;2;1;0;0;1;0                               \n",
       "\n",
       "[70000 rows x 1 columns]"
      ]
     },
     "execution_count": 100,
     "metadata": {},
     "output_type": "execute_result"
    }
   ],
   "source": [
    "data2"
   ]
  },
  {
   "cell_type": "code",
   "execution_count": 101,
   "metadata": {},
   "outputs": [],
   "source": [
    "df=pd.DataFrame(data2, columns = ['id', 'age', 'gender', 'height', 'weight','ap_hi','ap_lo','cholesterol','gluc','smoke','alco','active','cardio'])"
   ]
  },
  {
   "cell_type": "code",
   "execution_count": 102,
   "metadata": {},
   "outputs": [
    {
     "data": {
      "text/html": [
       "<div>\n",
       "<style scoped>\n",
       "    .dataframe tbody tr th:only-of-type {\n",
       "        vertical-align: middle;\n",
       "    }\n",
       "\n",
       "    .dataframe tbody tr th {\n",
       "        vertical-align: top;\n",
       "    }\n",
       "\n",
       "    .dataframe thead th {\n",
       "        text-align: right;\n",
       "    }\n",
       "</style>\n",
       "<table border=\"1\" class=\"dataframe\">\n",
       "  <thead>\n",
       "    <tr style=\"text-align: right;\">\n",
       "      <th></th>\n",
       "      <th>id</th>\n",
       "      <th>age</th>\n",
       "      <th>gender</th>\n",
       "      <th>height</th>\n",
       "      <th>weight</th>\n",
       "      <th>ap_hi</th>\n",
       "      <th>ap_lo</th>\n",
       "      <th>cholesterol</th>\n",
       "      <th>gluc</th>\n",
       "      <th>smoke</th>\n",
       "      <th>alco</th>\n",
       "      <th>active</th>\n",
       "      <th>cardio</th>\n",
       "    </tr>\n",
       "  </thead>\n",
       "  <tbody>\n",
       "    <tr>\n",
       "      <th>0</th>\n",
       "      <td>NaN</td>\n",
       "      <td>NaN</td>\n",
       "      <td>NaN</td>\n",
       "      <td>NaN</td>\n",
       "      <td>NaN</td>\n",
       "      <td>NaN</td>\n",
       "      <td>NaN</td>\n",
       "      <td>NaN</td>\n",
       "      <td>NaN</td>\n",
       "      <td>NaN</td>\n",
       "      <td>NaN</td>\n",
       "      <td>NaN</td>\n",
       "      <td>NaN</td>\n",
       "    </tr>\n",
       "    <tr>\n",
       "      <th>1</th>\n",
       "      <td>NaN</td>\n",
       "      <td>NaN</td>\n",
       "      <td>NaN</td>\n",
       "      <td>NaN</td>\n",
       "      <td>NaN</td>\n",
       "      <td>NaN</td>\n",
       "      <td>NaN</td>\n",
       "      <td>NaN</td>\n",
       "      <td>NaN</td>\n",
       "      <td>NaN</td>\n",
       "      <td>NaN</td>\n",
       "      <td>NaN</td>\n",
       "      <td>NaN</td>\n",
       "    </tr>\n",
       "    <tr>\n",
       "      <th>2</th>\n",
       "      <td>NaN</td>\n",
       "      <td>NaN</td>\n",
       "      <td>NaN</td>\n",
       "      <td>NaN</td>\n",
       "      <td>NaN</td>\n",
       "      <td>NaN</td>\n",
       "      <td>NaN</td>\n",
       "      <td>NaN</td>\n",
       "      <td>NaN</td>\n",
       "      <td>NaN</td>\n",
       "      <td>NaN</td>\n",
       "      <td>NaN</td>\n",
       "      <td>NaN</td>\n",
       "    </tr>\n",
       "    <tr>\n",
       "      <th>3</th>\n",
       "      <td>NaN</td>\n",
       "      <td>NaN</td>\n",
       "      <td>NaN</td>\n",
       "      <td>NaN</td>\n",
       "      <td>NaN</td>\n",
       "      <td>NaN</td>\n",
       "      <td>NaN</td>\n",
       "      <td>NaN</td>\n",
       "      <td>NaN</td>\n",
       "      <td>NaN</td>\n",
       "      <td>NaN</td>\n",
       "      <td>NaN</td>\n",
       "      <td>NaN</td>\n",
       "    </tr>\n",
       "    <tr>\n",
       "      <th>4</th>\n",
       "      <td>NaN</td>\n",
       "      <td>NaN</td>\n",
       "      <td>NaN</td>\n",
       "      <td>NaN</td>\n",
       "      <td>NaN</td>\n",
       "      <td>NaN</td>\n",
       "      <td>NaN</td>\n",
       "      <td>NaN</td>\n",
       "      <td>NaN</td>\n",
       "      <td>NaN</td>\n",
       "      <td>NaN</td>\n",
       "      <td>NaN</td>\n",
       "      <td>NaN</td>\n",
       "    </tr>\n",
       "    <tr>\n",
       "      <th>...</th>\n",
       "      <td>...</td>\n",
       "      <td>...</td>\n",
       "      <td>...</td>\n",
       "      <td>...</td>\n",
       "      <td>...</td>\n",
       "      <td>...</td>\n",
       "      <td>...</td>\n",
       "      <td>...</td>\n",
       "      <td>...</td>\n",
       "      <td>...</td>\n",
       "      <td>...</td>\n",
       "      <td>...</td>\n",
       "      <td>...</td>\n",
       "    </tr>\n",
       "    <tr>\n",
       "      <th>69995</th>\n",
       "      <td>NaN</td>\n",
       "      <td>NaN</td>\n",
       "      <td>NaN</td>\n",
       "      <td>NaN</td>\n",
       "      <td>NaN</td>\n",
       "      <td>NaN</td>\n",
       "      <td>NaN</td>\n",
       "      <td>NaN</td>\n",
       "      <td>NaN</td>\n",
       "      <td>NaN</td>\n",
       "      <td>NaN</td>\n",
       "      <td>NaN</td>\n",
       "      <td>NaN</td>\n",
       "    </tr>\n",
       "    <tr>\n",
       "      <th>69996</th>\n",
       "      <td>NaN</td>\n",
       "      <td>NaN</td>\n",
       "      <td>NaN</td>\n",
       "      <td>NaN</td>\n",
       "      <td>NaN</td>\n",
       "      <td>NaN</td>\n",
       "      <td>NaN</td>\n",
       "      <td>NaN</td>\n",
       "      <td>NaN</td>\n",
       "      <td>NaN</td>\n",
       "      <td>NaN</td>\n",
       "      <td>NaN</td>\n",
       "      <td>NaN</td>\n",
       "    </tr>\n",
       "    <tr>\n",
       "      <th>69997</th>\n",
       "      <td>NaN</td>\n",
       "      <td>NaN</td>\n",
       "      <td>NaN</td>\n",
       "      <td>NaN</td>\n",
       "      <td>NaN</td>\n",
       "      <td>NaN</td>\n",
       "      <td>NaN</td>\n",
       "      <td>NaN</td>\n",
       "      <td>NaN</td>\n",
       "      <td>NaN</td>\n",
       "      <td>NaN</td>\n",
       "      <td>NaN</td>\n",
       "      <td>NaN</td>\n",
       "    </tr>\n",
       "    <tr>\n",
       "      <th>69998</th>\n",
       "      <td>NaN</td>\n",
       "      <td>NaN</td>\n",
       "      <td>NaN</td>\n",
       "      <td>NaN</td>\n",
       "      <td>NaN</td>\n",
       "      <td>NaN</td>\n",
       "      <td>NaN</td>\n",
       "      <td>NaN</td>\n",
       "      <td>NaN</td>\n",
       "      <td>NaN</td>\n",
       "      <td>NaN</td>\n",
       "      <td>NaN</td>\n",
       "      <td>NaN</td>\n",
       "    </tr>\n",
       "    <tr>\n",
       "      <th>69999</th>\n",
       "      <td>NaN</td>\n",
       "      <td>NaN</td>\n",
       "      <td>NaN</td>\n",
       "      <td>NaN</td>\n",
       "      <td>NaN</td>\n",
       "      <td>NaN</td>\n",
       "      <td>NaN</td>\n",
       "      <td>NaN</td>\n",
       "      <td>NaN</td>\n",
       "      <td>NaN</td>\n",
       "      <td>NaN</td>\n",
       "      <td>NaN</td>\n",
       "      <td>NaN</td>\n",
       "    </tr>\n",
       "  </tbody>\n",
       "</table>\n",
       "<p>70000 rows × 13 columns</p>\n",
       "</div>"
      ],
      "text/plain": [
       "       id  age  gender  height  weight  ap_hi  ap_lo  cholesterol  gluc  \\\n",
       "0     NaN  NaN     NaN     NaN     NaN    NaN    NaN          NaN   NaN   \n",
       "1     NaN  NaN     NaN     NaN     NaN    NaN    NaN          NaN   NaN   \n",
       "2     NaN  NaN     NaN     NaN     NaN    NaN    NaN          NaN   NaN   \n",
       "3     NaN  NaN     NaN     NaN     NaN    NaN    NaN          NaN   NaN   \n",
       "4     NaN  NaN     NaN     NaN     NaN    NaN    NaN          NaN   NaN   \n",
       "...    ..  ...     ...     ...     ...    ...    ...          ...   ...   \n",
       "69995 NaN  NaN     NaN     NaN     NaN    NaN    NaN          NaN   NaN   \n",
       "69996 NaN  NaN     NaN     NaN     NaN    NaN    NaN          NaN   NaN   \n",
       "69997 NaN  NaN     NaN     NaN     NaN    NaN    NaN          NaN   NaN   \n",
       "69998 NaN  NaN     NaN     NaN     NaN    NaN    NaN          NaN   NaN   \n",
       "69999 NaN  NaN     NaN     NaN     NaN    NaN    NaN          NaN   NaN   \n",
       "\n",
       "       smoke  alco  active  cardio  \n",
       "0        NaN   NaN     NaN     NaN  \n",
       "1        NaN   NaN     NaN     NaN  \n",
       "2        NaN   NaN     NaN     NaN  \n",
       "3        NaN   NaN     NaN     NaN  \n",
       "4        NaN   NaN     NaN     NaN  \n",
       "...      ...   ...     ...     ...  \n",
       "69995    NaN   NaN     NaN     NaN  \n",
       "69996    NaN   NaN     NaN     NaN  \n",
       "69997    NaN   NaN     NaN     NaN  \n",
       "69998    NaN   NaN     NaN     NaN  \n",
       "69999    NaN   NaN     NaN     NaN  \n",
       "\n",
       "[70000 rows x 13 columns]"
      ]
     },
     "execution_count": 102,
     "metadata": {},
     "output_type": "execute_result"
    }
   ],
   "source": [
    "df"
   ]
  },
  {
   "cell_type": "code",
   "execution_count": 104,
   "metadata": {},
   "outputs": [
    {
     "ename": "KeyError",
     "evalue": "'smoke'",
     "output_type": "error",
     "traceback": [
      "\u001b[0;31m---------------------------------------------------------------------------\u001b[0m",
      "\u001b[0;31mKeyError\u001b[0m                                  Traceback (most recent call last)",
      "\u001b[0;32m<ipython-input-104-c4b03546b72f>\u001b[0m in \u001b[0;36m<module>\u001b[0;34m\u001b[0m\n\u001b[0;32m----> 1\u001b[0;31m \u001b[0mdata\u001b[0m\u001b[0;34m.\u001b[0m\u001b[0map_hi\u001b[0m\u001b[0;34m[\u001b[0m\u001b[0;34m'smoke'\u001b[0m\u001b[0;34m]\u001b[0m\u001b[0;34m\u001b[0m\u001b[0;34m\u001b[0m\u001b[0m\n\u001b[0m",
      "\u001b[0;32m/Library/Frameworks/Python.framework/Versions/3.7/lib/python3.7/site-packages/pandas/core/series.py\u001b[0m in \u001b[0;36m__getitem__\u001b[0;34m(self, key)\u001b[0m\n\u001b[1;32m    851\u001b[0m \u001b[0;34m\u001b[0m\u001b[0m\n\u001b[1;32m    852\u001b[0m         \u001b[0;32melif\u001b[0m \u001b[0mkey_is_scalar\u001b[0m\u001b[0;34m:\u001b[0m\u001b[0;34m\u001b[0m\u001b[0;34m\u001b[0m\u001b[0m\n\u001b[0;32m--> 853\u001b[0;31m             \u001b[0;32mreturn\u001b[0m \u001b[0mself\u001b[0m\u001b[0;34m.\u001b[0m\u001b[0m_get_value\u001b[0m\u001b[0;34m(\u001b[0m\u001b[0mkey\u001b[0m\u001b[0;34m)\u001b[0m\u001b[0;34m\u001b[0m\u001b[0;34m\u001b[0m\u001b[0m\n\u001b[0m\u001b[1;32m    854\u001b[0m \u001b[0;34m\u001b[0m\u001b[0m\n\u001b[1;32m    855\u001b[0m         \u001b[0;32mif\u001b[0m \u001b[0mis_hashable\u001b[0m\u001b[0;34m(\u001b[0m\u001b[0mkey\u001b[0m\u001b[0;34m)\u001b[0m\u001b[0;34m:\u001b[0m\u001b[0;34m\u001b[0m\u001b[0;34m\u001b[0m\u001b[0m\n",
      "\u001b[0;32m/Library/Frameworks/Python.framework/Versions/3.7/lib/python3.7/site-packages/pandas/core/series.py\u001b[0m in \u001b[0;36m_get_value\u001b[0;34m(self, label, takeable)\u001b[0m\n\u001b[1;32m    959\u001b[0m \u001b[0;34m\u001b[0m\u001b[0m\n\u001b[1;32m    960\u001b[0m         \u001b[0;31m# Similar to Index.get_value, but we do not fall back to positional\u001b[0m\u001b[0;34m\u001b[0m\u001b[0;34m\u001b[0m\u001b[0;34m\u001b[0m\u001b[0m\n\u001b[0;32m--> 961\u001b[0;31m         \u001b[0mloc\u001b[0m \u001b[0;34m=\u001b[0m \u001b[0mself\u001b[0m\u001b[0;34m.\u001b[0m\u001b[0mindex\u001b[0m\u001b[0;34m.\u001b[0m\u001b[0mget_loc\u001b[0m\u001b[0;34m(\u001b[0m\u001b[0mlabel\u001b[0m\u001b[0;34m)\u001b[0m\u001b[0;34m\u001b[0m\u001b[0;34m\u001b[0m\u001b[0m\n\u001b[0m\u001b[1;32m    962\u001b[0m         \u001b[0;32mreturn\u001b[0m \u001b[0mself\u001b[0m\u001b[0;34m.\u001b[0m\u001b[0mindex\u001b[0m\u001b[0;34m.\u001b[0m\u001b[0m_get_values_for_loc\u001b[0m\u001b[0;34m(\u001b[0m\u001b[0mself\u001b[0m\u001b[0;34m,\u001b[0m \u001b[0mloc\u001b[0m\u001b[0;34m,\u001b[0m \u001b[0mlabel\u001b[0m\u001b[0;34m)\u001b[0m\u001b[0;34m\u001b[0m\u001b[0;34m\u001b[0m\u001b[0m\n\u001b[1;32m    963\u001b[0m \u001b[0;34m\u001b[0m\u001b[0m\n",
      "\u001b[0;32m/Library/Frameworks/Python.framework/Versions/3.7/lib/python3.7/site-packages/pandas/core/indexes/range.py\u001b[0m in \u001b[0;36mget_loc\u001b[0;34m(self, key, method, tolerance)\u001b[0m\n\u001b[1;32m    352\u001b[0m                 \u001b[0;32mexcept\u001b[0m \u001b[0mValueError\u001b[0m \u001b[0;32mas\u001b[0m \u001b[0merr\u001b[0m\u001b[0;34m:\u001b[0m\u001b[0;34m\u001b[0m\u001b[0;34m\u001b[0m\u001b[0m\n\u001b[1;32m    353\u001b[0m                     \u001b[0;32mraise\u001b[0m \u001b[0mKeyError\u001b[0m\u001b[0;34m(\u001b[0m\u001b[0mkey\u001b[0m\u001b[0;34m)\u001b[0m \u001b[0;32mfrom\u001b[0m \u001b[0merr\u001b[0m\u001b[0;34m\u001b[0m\u001b[0;34m\u001b[0m\u001b[0m\n\u001b[0;32m--> 354\u001b[0;31m             \u001b[0;32mraise\u001b[0m \u001b[0mKeyError\u001b[0m\u001b[0;34m(\u001b[0m\u001b[0mkey\u001b[0m\u001b[0;34m)\u001b[0m\u001b[0;34m\u001b[0m\u001b[0;34m\u001b[0m\u001b[0m\n\u001b[0m\u001b[1;32m    355\u001b[0m         \u001b[0;32mreturn\u001b[0m \u001b[0msuper\u001b[0m\u001b[0;34m(\u001b[0m\u001b[0;34m)\u001b[0m\u001b[0;34m.\u001b[0m\u001b[0mget_loc\u001b[0m\u001b[0;34m(\u001b[0m\u001b[0mkey\u001b[0m\u001b[0;34m,\u001b[0m \u001b[0mmethod\u001b[0m\u001b[0;34m=\u001b[0m\u001b[0mmethod\u001b[0m\u001b[0;34m,\u001b[0m \u001b[0mtolerance\u001b[0m\u001b[0;34m=\u001b[0m\u001b[0mtolerance\u001b[0m\u001b[0;34m)\u001b[0m\u001b[0;34m\u001b[0m\u001b[0;34m\u001b[0m\u001b[0m\n\u001b[1;32m    356\u001b[0m \u001b[0;34m\u001b[0m\u001b[0m\n",
      "\u001b[0;31mKeyError\u001b[0m: 'smoke'"
     ]
    }
   ],
   "source": [
    "data.ap_hi['smoke']"
   ]
  },
  {
   "cell_type": "code",
   "execution_count": 106,
   "metadata": {},
   "outputs": [
    {
     "name": "stderr",
     "output_type": "stream",
     "text": [
      "/Library/Frameworks/Python.framework/Versions/3.7/lib/python3.7/site-packages/ipykernel_launcher.py:1: FutureWarning: Indexing with multiple keys (implicitly converted to a tuple of keys) will be deprecated, use a list instead.\n",
      "  \"\"\"Entry point for launching an IPython kernel.\n"
     ]
    },
    {
     "data": {
      "text/html": [
       "<div>\n",
       "<style scoped>\n",
       "    .dataframe tbody tr th:only-of-type {\n",
       "        vertical-align: middle;\n",
       "    }\n",
       "\n",
       "    .dataframe tbody tr th {\n",
       "        vertical-align: top;\n",
       "    }\n",
       "\n",
       "    .dataframe thead tr th {\n",
       "        text-align: left;\n",
       "    }\n",
       "\n",
       "    .dataframe thead tr:last-of-type th {\n",
       "        text-align: right;\n",
       "    }\n",
       "</style>\n",
       "<table border=\"1\" class=\"dataframe\">\n",
       "  <thead>\n",
       "    <tr>\n",
       "      <th></th>\n",
       "      <th colspan=\"8\" halign=\"left\">ap_hi</th>\n",
       "      <th colspan=\"8\" halign=\"left\">ap_lo</th>\n",
       "    </tr>\n",
       "    <tr>\n",
       "      <th></th>\n",
       "      <th>count</th>\n",
       "      <th>mean</th>\n",
       "      <th>std</th>\n",
       "      <th>min</th>\n",
       "      <th>25%</th>\n",
       "      <th>50%</th>\n",
       "      <th>75%</th>\n",
       "      <th>max</th>\n",
       "      <th>count</th>\n",
       "      <th>mean</th>\n",
       "      <th>std</th>\n",
       "      <th>min</th>\n",
       "      <th>25%</th>\n",
       "      <th>50%</th>\n",
       "      <th>75%</th>\n",
       "      <th>max</th>\n",
       "    </tr>\n",
       "    <tr>\n",
       "      <th>smoke</th>\n",
       "      <th></th>\n",
       "      <th></th>\n",
       "      <th></th>\n",
       "      <th></th>\n",
       "      <th></th>\n",
       "      <th></th>\n",
       "      <th></th>\n",
       "      <th></th>\n",
       "      <th></th>\n",
       "      <th></th>\n",
       "      <th></th>\n",
       "      <th></th>\n",
       "      <th></th>\n",
       "      <th></th>\n",
       "      <th></th>\n",
       "      <th></th>\n",
       "    </tr>\n",
       "  </thead>\n",
       "  <tbody>\n",
       "    <tr>\n",
       "      <th>0</th>\n",
       "      <td>63831.0</td>\n",
       "      <td>128.861431</td>\n",
       "      <td>161.180069</td>\n",
       "      <td>-150.0</td>\n",
       "      <td>120.0</td>\n",
       "      <td>120.0</td>\n",
       "      <td>140.0</td>\n",
       "      <td>16020.0</td>\n",
       "      <td>63831.0</td>\n",
       "      <td>96.326550</td>\n",
       "      <td>190.247559</td>\n",
       "      <td>-70.0</td>\n",
       "      <td>80.0</td>\n",
       "      <td>80.0</td>\n",
       "      <td>90.0</td>\n",
       "      <td>11000.0</td>\n",
       "    </tr>\n",
       "    <tr>\n",
       "      <th>1</th>\n",
       "      <td>6169.0</td>\n",
       "      <td>128.360512</td>\n",
       "      <td>18.454321</td>\n",
       "      <td>1.0</td>\n",
       "      <td>120.0</td>\n",
       "      <td>120.0</td>\n",
       "      <td>140.0</td>\n",
       "      <td>240.0</td>\n",
       "      <td>6169.0</td>\n",
       "      <td>99.774518</td>\n",
       "      <td>168.997322</td>\n",
       "      <td>0.0</td>\n",
       "      <td>80.0</td>\n",
       "      <td>80.0</td>\n",
       "      <td>90.0</td>\n",
       "      <td>9011.0</td>\n",
       "    </tr>\n",
       "  </tbody>\n",
       "</table>\n",
       "</div>"
      ],
      "text/plain": [
       "         ap_hi                                                               \\\n",
       "         count        mean         std    min    25%    50%    75%      max   \n",
       "smoke                                                                         \n",
       "0      63831.0  128.861431  161.180069 -150.0  120.0  120.0  140.0  16020.0   \n",
       "1       6169.0  128.360512   18.454321    1.0  120.0  120.0  140.0    240.0   \n",
       "\n",
       "         ap_lo                                                          \n",
       "         count       mean         std   min   25%   50%   75%      max  \n",
       "smoke                                                                   \n",
       "0      63831.0  96.326550  190.247559 -70.0  80.0  80.0  90.0  11000.0  \n",
       "1       6169.0  99.774518  168.997322   0.0  80.0  80.0  90.0   9011.0  "
      ]
     },
     "execution_count": 106,
     "metadata": {},
     "output_type": "execute_result"
    }
   ],
   "source": [
    "data.groupby('smoke')['ap_hi', 'ap_lo'].describe()"
   ]
  },
  {
   "cell_type": "code",
   "execution_count": 108,
   "metadata": {},
   "outputs": [
    {
     "data": {
      "text/html": [
       "<div>\n",
       "<style scoped>\n",
       "    .dataframe tbody tr th:only-of-type {\n",
       "        vertical-align: middle;\n",
       "    }\n",
       "\n",
       "    .dataframe tbody tr th {\n",
       "        vertical-align: top;\n",
       "    }\n",
       "\n",
       "    .dataframe thead th {\n",
       "        text-align: right;\n",
       "    }\n",
       "</style>\n",
       "<table border=\"1\" class=\"dataframe\">\n",
       "  <thead>\n",
       "    <tr style=\"text-align: right;\">\n",
       "      <th></th>\n",
       "      <th>count</th>\n",
       "      <th>mean</th>\n",
       "      <th>std</th>\n",
       "      <th>min</th>\n",
       "      <th>25%</th>\n",
       "      <th>50%</th>\n",
       "      <th>75%</th>\n",
       "      <th>max</th>\n",
       "    </tr>\n",
       "    <tr>\n",
       "      <th>smoke</th>\n",
       "      <th></th>\n",
       "      <th></th>\n",
       "      <th></th>\n",
       "      <th></th>\n",
       "      <th></th>\n",
       "      <th></th>\n",
       "      <th></th>\n",
       "      <th></th>\n",
       "    </tr>\n",
       "  </thead>\n",
       "  <tbody>\n",
       "    <tr>\n",
       "      <th>0</th>\n",
       "      <td>63831.0</td>\n",
       "      <td>1.364682</td>\n",
       "      <td>0.680138</td>\n",
       "      <td>1.0</td>\n",
       "      <td>1.0</td>\n",
       "      <td>1.0</td>\n",
       "      <td>1.0</td>\n",
       "      <td>3.0</td>\n",
       "    </tr>\n",
       "    <tr>\n",
       "      <th>1</th>\n",
       "      <td>6169.0</td>\n",
       "      <td>1.389528</td>\n",
       "      <td>0.681058</td>\n",
       "      <td>1.0</td>\n",
       "      <td>1.0</td>\n",
       "      <td>1.0</td>\n",
       "      <td>2.0</td>\n",
       "      <td>3.0</td>\n",
       "    </tr>\n",
       "  </tbody>\n",
       "</table>\n",
       "</div>"
      ],
      "text/plain": [
       "         count      mean       std  min  25%  50%  75%  max\n",
       "smoke                                                      \n",
       "0      63831.0  1.364682  0.680138  1.0  1.0  1.0  1.0  3.0\n",
       "1       6169.0  1.389528  0.681058  1.0  1.0  1.0  2.0  3.0"
      ]
     },
     "execution_count": 108,
     "metadata": {},
     "output_type": "execute_result"
    }
   ],
   "source": [
    "data.groupby('smoke')['cholesterol'].describe()"
   ]
  },
  {
   "cell_type": "code",
   "execution_count": 109,
   "metadata": {},
   "outputs": [
    {
     "data": {
      "text/html": [
       "<div>\n",
       "<style scoped>\n",
       "    .dataframe tbody tr th:only-of-type {\n",
       "        vertical-align: middle;\n",
       "    }\n",
       "\n",
       "    .dataframe tbody tr th {\n",
       "        vertical-align: top;\n",
       "    }\n",
       "\n",
       "    .dataframe thead th {\n",
       "        text-align: right;\n",
       "    }\n",
       "</style>\n",
       "<table border=\"1\" class=\"dataframe\">\n",
       "  <thead>\n",
       "    <tr style=\"text-align: right;\">\n",
       "      <th></th>\n",
       "      <th>count</th>\n",
       "      <th>mean</th>\n",
       "      <th>std</th>\n",
       "      <th>min</th>\n",
       "      <th>25%</th>\n",
       "      <th>50%</th>\n",
       "      <th>75%</th>\n",
       "      <th>max</th>\n",
       "    </tr>\n",
       "    <tr>\n",
       "      <th>smoke</th>\n",
       "      <th></th>\n",
       "      <th></th>\n",
       "      <th></th>\n",
       "      <th></th>\n",
       "      <th></th>\n",
       "      <th></th>\n",
       "      <th></th>\n",
       "      <th></th>\n",
       "    </tr>\n",
       "  </thead>\n",
       "  <tbody>\n",
       "    <tr>\n",
       "      <th>0</th>\n",
       "      <td>63831.0</td>\n",
       "      <td>73.902352</td>\n",
       "      <td>14.298315</td>\n",
       "      <td>10.0</td>\n",
       "      <td>65.0</td>\n",
       "      <td>72.0</td>\n",
       "      <td>82.0</td>\n",
       "      <td>200.0</td>\n",
       "    </tr>\n",
       "    <tr>\n",
       "      <th>1</th>\n",
       "      <td>6169.0</td>\n",
       "      <td>77.344351</td>\n",
       "      <td>15.013357</td>\n",
       "      <td>22.0</td>\n",
       "      <td>68.0</td>\n",
       "      <td>75.0</td>\n",
       "      <td>85.0</td>\n",
       "      <td>178.0</td>\n",
       "    </tr>\n",
       "  </tbody>\n",
       "</table>\n",
       "</div>"
      ],
      "text/plain": [
       "         count       mean        std   min   25%   50%   75%    max\n",
       "smoke                                                              \n",
       "0      63831.0  73.902352  14.298315  10.0  65.0  72.0  82.0  200.0\n",
       "1       6169.0  77.344351  15.013357  22.0  68.0  75.0  85.0  178.0"
      ]
     },
     "execution_count": 109,
     "metadata": {},
     "output_type": "execute_result"
    }
   ],
   "source": [
    "data.groupby('smoke')['weight'].describe()"
   ]
  },
  {
   "cell_type": "code",
   "execution_count": 110,
   "metadata": {},
   "outputs": [
    {
     "name": "stderr",
     "output_type": "stream",
     "text": [
      "/Library/Frameworks/Python.framework/Versions/3.7/lib/python3.7/site-packages/ipykernel_launcher.py:1: FutureWarning: Indexing with multiple keys (implicitly converted to a tuple of keys) will be deprecated, use a list instead.\n",
      "  \"\"\"Entry point for launching an IPython kernel.\n"
     ]
    },
    {
     "data": {
      "text/html": [
       "<div>\n",
       "<style scoped>\n",
       "    .dataframe tbody tr th:only-of-type {\n",
       "        vertical-align: middle;\n",
       "    }\n",
       "\n",
       "    .dataframe tbody tr th {\n",
       "        vertical-align: top;\n",
       "    }\n",
       "\n",
       "    .dataframe thead tr th {\n",
       "        text-align: left;\n",
       "    }\n",
       "\n",
       "    .dataframe thead tr:last-of-type th {\n",
       "        text-align: right;\n",
       "    }\n",
       "</style>\n",
       "<table border=\"1\" class=\"dataframe\">\n",
       "  <thead>\n",
       "    <tr>\n",
       "      <th></th>\n",
       "      <th colspan=\"8\" halign=\"left\">ap_hi</th>\n",
       "      <th colspan=\"8\" halign=\"left\">ap_lo</th>\n",
       "    </tr>\n",
       "    <tr>\n",
       "      <th></th>\n",
       "      <th>count</th>\n",
       "      <th>mean</th>\n",
       "      <th>std</th>\n",
       "      <th>min</th>\n",
       "      <th>25%</th>\n",
       "      <th>50%</th>\n",
       "      <th>75%</th>\n",
       "      <th>max</th>\n",
       "      <th>count</th>\n",
       "      <th>mean</th>\n",
       "      <th>std</th>\n",
       "      <th>min</th>\n",
       "      <th>25%</th>\n",
       "      <th>50%</th>\n",
       "      <th>75%</th>\n",
       "      <th>max</th>\n",
       "    </tr>\n",
       "    <tr>\n",
       "      <th>gender</th>\n",
       "      <th></th>\n",
       "      <th></th>\n",
       "      <th></th>\n",
       "      <th></th>\n",
       "      <th></th>\n",
       "      <th></th>\n",
       "      <th></th>\n",
       "      <th></th>\n",
       "      <th></th>\n",
       "      <th></th>\n",
       "      <th></th>\n",
       "      <th></th>\n",
       "      <th></th>\n",
       "      <th></th>\n",
       "      <th></th>\n",
       "      <th></th>\n",
       "    </tr>\n",
       "  </thead>\n",
       "  <tbody>\n",
       "    <tr>\n",
       "      <th>1</th>\n",
       "      <td>45530.0</td>\n",
       "      <td>128.139249</td>\n",
       "      <td>158.054522</td>\n",
       "      <td>-140.0</td>\n",
       "      <td>120.0</td>\n",
       "      <td>120.0</td>\n",
       "      <td>140.0</td>\n",
       "      <td>16020.0</td>\n",
       "      <td>45530.0</td>\n",
       "      <td>94.522776</td>\n",
       "      <td>174.776855</td>\n",
       "      <td>-70.0</td>\n",
       "      <td>80.0</td>\n",
       "      <td>80.0</td>\n",
       "      <td>90.0</td>\n",
       "      <td>11000.0</td>\n",
       "    </tr>\n",
       "    <tr>\n",
       "      <th>2</th>\n",
       "      <td>24470.0</td>\n",
       "      <td>130.078872</td>\n",
       "      <td>146.186152</td>\n",
       "      <td>-150.0</td>\n",
       "      <td>120.0</td>\n",
       "      <td>120.0</td>\n",
       "      <td>140.0</td>\n",
       "      <td>14020.0</td>\n",
       "      <td>24470.0</td>\n",
       "      <td>100.551982</td>\n",
       "      <td>211.557292</td>\n",
       "      <td>0.0</td>\n",
       "      <td>80.0</td>\n",
       "      <td>80.0</td>\n",
       "      <td>90.0</td>\n",
       "      <td>10000.0</td>\n",
       "    </tr>\n",
       "  </tbody>\n",
       "</table>\n",
       "</div>"
      ],
      "text/plain": [
       "          ap_hi                                                               \\\n",
       "          count        mean         std    min    25%    50%    75%      max   \n",
       "gender                                                                         \n",
       "1       45530.0  128.139249  158.054522 -140.0  120.0  120.0  140.0  16020.0   \n",
       "2       24470.0  130.078872  146.186152 -150.0  120.0  120.0  140.0  14020.0   \n",
       "\n",
       "          ap_lo                                                           \n",
       "          count        mean         std   min   25%   50%   75%      max  \n",
       "gender                                                                    \n",
       "1       45530.0   94.522776  174.776855 -70.0  80.0  80.0  90.0  11000.0  \n",
       "2       24470.0  100.551982  211.557292   0.0  80.0  80.0  90.0  10000.0  "
      ]
     },
     "execution_count": 110,
     "metadata": {},
     "output_type": "execute_result"
    }
   ],
   "source": [
    "data.groupby('gender')['ap_hi','ap_lo'].describe()"
   ]
  },
  {
   "cell_type": "code",
   "execution_count": 112,
   "metadata": {},
   "outputs": [],
   "source": [
    "data=pd.read_csv('covid_data.csv')"
   ]
  },
  {
   "cell_type": "code",
   "execution_count": 113,
   "metadata": {},
   "outputs": [
    {
     "data": {
      "text/html": [
       "<div>\n",
       "<style scoped>\n",
       "    .dataframe tbody tr th:only-of-type {\n",
       "        vertical-align: middle;\n",
       "    }\n",
       "\n",
       "    .dataframe tbody tr th {\n",
       "        vertical-align: top;\n",
       "    }\n",
       "\n",
       "    .dataframe thead th {\n",
       "        text-align: right;\n",
       "    }\n",
       "</style>\n",
       "<table border=\"1\" class=\"dataframe\">\n",
       "  <thead>\n",
       "    <tr style=\"text-align: right;\">\n",
       "      <th></th>\n",
       "      <th>location</th>\n",
       "      <th>date</th>\n",
       "      <th>new_cases</th>\n",
       "      <th>new_deaths</th>\n",
       "      <th>population</th>\n",
       "      <th>aged_65_older_percent</th>\n",
       "      <th>gdp_per_capita</th>\n",
       "      <th>hospital_beds_per_thousand</th>\n",
       "    </tr>\n",
       "  </thead>\n",
       "  <tbody>\n",
       "    <tr>\n",
       "      <th>0</th>\n",
       "      <td>Afghanistan</td>\n",
       "      <td>2019-12-31</td>\n",
       "      <td>0</td>\n",
       "      <td>0</td>\n",
       "      <td>38928341.0</td>\n",
       "      <td>2.581</td>\n",
       "      <td>1803.987</td>\n",
       "      <td>0.5</td>\n",
       "    </tr>\n",
       "    <tr>\n",
       "      <th>1</th>\n",
       "      <td>Afghanistan</td>\n",
       "      <td>2020-01-01</td>\n",
       "      <td>0</td>\n",
       "      <td>0</td>\n",
       "      <td>38928341.0</td>\n",
       "      <td>2.581</td>\n",
       "      <td>1803.987</td>\n",
       "      <td>0.5</td>\n",
       "    </tr>\n",
       "    <tr>\n",
       "      <th>2</th>\n",
       "      <td>Afghanistan</td>\n",
       "      <td>2020-01-02</td>\n",
       "      <td>0</td>\n",
       "      <td>0</td>\n",
       "      <td>38928341.0</td>\n",
       "      <td>2.581</td>\n",
       "      <td>1803.987</td>\n",
       "      <td>0.5</td>\n",
       "    </tr>\n",
       "    <tr>\n",
       "      <th>3</th>\n",
       "      <td>Afghanistan</td>\n",
       "      <td>2020-01-03</td>\n",
       "      <td>0</td>\n",
       "      <td>0</td>\n",
       "      <td>38928341.0</td>\n",
       "      <td>2.581</td>\n",
       "      <td>1803.987</td>\n",
       "      <td>0.5</td>\n",
       "    </tr>\n",
       "    <tr>\n",
       "      <th>4</th>\n",
       "      <td>Afghanistan</td>\n",
       "      <td>2020-01-04</td>\n",
       "      <td>0</td>\n",
       "      <td>0</td>\n",
       "      <td>38928341.0</td>\n",
       "      <td>2.581</td>\n",
       "      <td>1803.987</td>\n",
       "      <td>0.5</td>\n",
       "    </tr>\n",
       "  </tbody>\n",
       "</table>\n",
       "</div>"
      ],
      "text/plain": [
       "      location        date  new_cases  new_deaths  population  \\\n",
       "0  Afghanistan  2019-12-31          0           0  38928341.0   \n",
       "1  Afghanistan  2020-01-01          0           0  38928341.0   \n",
       "2  Afghanistan  2020-01-02          0           0  38928341.0   \n",
       "3  Afghanistan  2020-01-03          0           0  38928341.0   \n",
       "4  Afghanistan  2020-01-04          0           0  38928341.0   \n",
       "\n",
       "   aged_65_older_percent  gdp_per_capita  hospital_beds_per_thousand  \n",
       "0                  2.581        1803.987                         0.5  \n",
       "1                  2.581        1803.987                         0.5  \n",
       "2                  2.581        1803.987                         0.5  \n",
       "3                  2.581        1803.987                         0.5  \n",
       "4                  2.581        1803.987                         0.5  "
      ]
     },
     "execution_count": 113,
     "metadata": {},
     "output_type": "execute_result"
    }
   ],
   "source": [
    "data.head()"
   ]
  },
  {
   "cell_type": "code",
   "execution_count": 114,
   "metadata": {},
   "outputs": [
    {
     "data": {
      "text/html": [
       "<div>\n",
       "<style scoped>\n",
       "    .dataframe tbody tr th:only-of-type {\n",
       "        vertical-align: middle;\n",
       "    }\n",
       "\n",
       "    .dataframe tbody tr th {\n",
       "        vertical-align: top;\n",
       "    }\n",
       "\n",
       "    .dataframe thead th {\n",
       "        text-align: right;\n",
       "    }\n",
       "</style>\n",
       "<table border=\"1\" class=\"dataframe\">\n",
       "  <thead>\n",
       "    <tr style=\"text-align: right;\">\n",
       "      <th></th>\n",
       "      <th>location</th>\n",
       "      <th>date</th>\n",
       "      <th>new_cases</th>\n",
       "      <th>new_deaths</th>\n",
       "      <th>population</th>\n",
       "      <th>aged_65_older_percent</th>\n",
       "      <th>gdp_per_capita</th>\n",
       "      <th>hospital_beds_per_thousand</th>\n",
       "    </tr>\n",
       "  </thead>\n",
       "  <tbody>\n",
       "    <tr>\n",
       "      <th>10688</th>\n",
       "      <td>Italy</td>\n",
       "      <td>2019-12-31</td>\n",
       "      <td>0</td>\n",
       "      <td>0</td>\n",
       "      <td>60461828.0</td>\n",
       "      <td>23.021</td>\n",
       "      <td>35220.084</td>\n",
       "      <td>3.18</td>\n",
       "    </tr>\n",
       "    <tr>\n",
       "      <th>10689</th>\n",
       "      <td>Italy</td>\n",
       "      <td>2020-01-01</td>\n",
       "      <td>0</td>\n",
       "      <td>0</td>\n",
       "      <td>60461828.0</td>\n",
       "      <td>23.021</td>\n",
       "      <td>35220.084</td>\n",
       "      <td>3.18</td>\n",
       "    </tr>\n",
       "    <tr>\n",
       "      <th>10690</th>\n",
       "      <td>Italy</td>\n",
       "      <td>2020-01-02</td>\n",
       "      <td>0</td>\n",
       "      <td>0</td>\n",
       "      <td>60461828.0</td>\n",
       "      <td>23.021</td>\n",
       "      <td>35220.084</td>\n",
       "      <td>3.18</td>\n",
       "    </tr>\n",
       "    <tr>\n",
       "      <th>10691</th>\n",
       "      <td>Italy</td>\n",
       "      <td>2020-01-03</td>\n",
       "      <td>0</td>\n",
       "      <td>0</td>\n",
       "      <td>60461828.0</td>\n",
       "      <td>23.021</td>\n",
       "      <td>35220.084</td>\n",
       "      <td>3.18</td>\n",
       "    </tr>\n",
       "    <tr>\n",
       "      <th>10692</th>\n",
       "      <td>Italy</td>\n",
       "      <td>2020-01-04</td>\n",
       "      <td>0</td>\n",
       "      <td>0</td>\n",
       "      <td>60461828.0</td>\n",
       "      <td>23.021</td>\n",
       "      <td>35220.084</td>\n",
       "      <td>3.18</td>\n",
       "    </tr>\n",
       "    <tr>\n",
       "      <th>...</th>\n",
       "      <td>...</td>\n",
       "      <td>...</td>\n",
       "      <td>...</td>\n",
       "      <td>...</td>\n",
       "      <td>...</td>\n",
       "      <td>...</td>\n",
       "      <td>...</td>\n",
       "      <td>...</td>\n",
       "    </tr>\n",
       "    <tr>\n",
       "      <th>10846</th>\n",
       "      <td>Italy</td>\n",
       "      <td>2020-06-06</td>\n",
       "      <td>518</td>\n",
       "      <td>85</td>\n",
       "      <td>60461828.0</td>\n",
       "      <td>23.021</td>\n",
       "      <td>35220.084</td>\n",
       "      <td>3.18</td>\n",
       "    </tr>\n",
       "    <tr>\n",
       "      <th>10847</th>\n",
       "      <td>Italy</td>\n",
       "      <td>2020-06-07</td>\n",
       "      <td>270</td>\n",
       "      <td>72</td>\n",
       "      <td>60461828.0</td>\n",
       "      <td>23.021</td>\n",
       "      <td>35220.084</td>\n",
       "      <td>3.18</td>\n",
       "    </tr>\n",
       "    <tr>\n",
       "      <th>10848</th>\n",
       "      <td>Italy</td>\n",
       "      <td>2020-06-08</td>\n",
       "      <td>197</td>\n",
       "      <td>53</td>\n",
       "      <td>60461828.0</td>\n",
       "      <td>23.021</td>\n",
       "      <td>35220.084</td>\n",
       "      <td>3.18</td>\n",
       "    </tr>\n",
       "    <tr>\n",
       "      <th>10849</th>\n",
       "      <td>Italy</td>\n",
       "      <td>2020-06-09</td>\n",
       "      <td>280</td>\n",
       "      <td>65</td>\n",
       "      <td>60461828.0</td>\n",
       "      <td>23.021</td>\n",
       "      <td>35220.084</td>\n",
       "      <td>3.18</td>\n",
       "    </tr>\n",
       "    <tr>\n",
       "      <th>10850</th>\n",
       "      <td>Italy</td>\n",
       "      <td>2020-06-10</td>\n",
       "      <td>283</td>\n",
       "      <td>79</td>\n",
       "      <td>60461828.0</td>\n",
       "      <td>23.021</td>\n",
       "      <td>35220.084</td>\n",
       "      <td>3.18</td>\n",
       "    </tr>\n",
       "  </tbody>\n",
       "</table>\n",
       "<p>163 rows × 8 columns</p>\n",
       "</div>"
      ],
      "text/plain": [
       "      location        date  new_cases  new_deaths  population  \\\n",
       "10688    Italy  2019-12-31          0           0  60461828.0   \n",
       "10689    Italy  2020-01-01          0           0  60461828.0   \n",
       "10690    Italy  2020-01-02          0           0  60461828.0   \n",
       "10691    Italy  2020-01-03          0           0  60461828.0   \n",
       "10692    Italy  2020-01-04          0           0  60461828.0   \n",
       "...        ...         ...        ...         ...         ...   \n",
       "10846    Italy  2020-06-06        518          85  60461828.0   \n",
       "10847    Italy  2020-06-07        270          72  60461828.0   \n",
       "10848    Italy  2020-06-08        197          53  60461828.0   \n",
       "10849    Italy  2020-06-09        280          65  60461828.0   \n",
       "10850    Italy  2020-06-10        283          79  60461828.0   \n",
       "\n",
       "       aged_65_older_percent  gdp_per_capita  hospital_beds_per_thousand  \n",
       "10688                 23.021       35220.084                        3.18  \n",
       "10689                 23.021       35220.084                        3.18  \n",
       "10690                 23.021       35220.084                        3.18  \n",
       "10691                 23.021       35220.084                        3.18  \n",
       "10692                 23.021       35220.084                        3.18  \n",
       "...                      ...             ...                         ...  \n",
       "10846                 23.021       35220.084                        3.18  \n",
       "10847                 23.021       35220.084                        3.18  \n",
       "10848                 23.021       35220.084                        3.18  \n",
       "10849                 23.021       35220.084                        3.18  \n",
       "10850                 23.021       35220.084                        3.18  \n",
       "\n",
       "[163 rows x 8 columns]"
      ]
     },
     "execution_count": 114,
     "metadata": {},
     "output_type": "execute_result"
    }
   ],
   "source": [
    "data[data.location=='Italy']"
   ]
  },
  {
   "cell_type": "code",
   "execution_count": 115,
   "metadata": {},
   "outputs": [
    {
     "data": {
      "text/html": [
       "<div>\n",
       "<style scoped>\n",
       "    .dataframe tbody tr th:only-of-type {\n",
       "        vertical-align: middle;\n",
       "    }\n",
       "\n",
       "    .dataframe tbody tr th {\n",
       "        vertical-align: top;\n",
       "    }\n",
       "\n",
       "    .dataframe thead th {\n",
       "        text-align: right;\n",
       "    }\n",
       "</style>\n",
       "<table border=\"1\" class=\"dataframe\">\n",
       "  <thead>\n",
       "    <tr style=\"text-align: right;\">\n",
       "      <th></th>\n",
       "      <th>location</th>\n",
       "      <th>date</th>\n",
       "      <th>new_cases</th>\n",
       "      <th>new_deaths</th>\n",
       "      <th>population</th>\n",
       "      <th>aged_65_older_percent</th>\n",
       "      <th>gdp_per_capita</th>\n",
       "      <th>hospital_beds_per_thousand</th>\n",
       "    </tr>\n",
       "  </thead>\n",
       "  <tbody>\n",
       "    <tr>\n",
       "      <th>7914</th>\n",
       "      <td>Germany</td>\n",
       "      <td>2019-12-31</td>\n",
       "      <td>0</td>\n",
       "      <td>0</td>\n",
       "      <td>83783945.0</td>\n",
       "      <td>21.453</td>\n",
       "      <td>45229.245</td>\n",
       "      <td>8.0</td>\n",
       "    </tr>\n",
       "    <tr>\n",
       "      <th>7915</th>\n",
       "      <td>Germany</td>\n",
       "      <td>2020-01-01</td>\n",
       "      <td>0</td>\n",
       "      <td>0</td>\n",
       "      <td>83783945.0</td>\n",
       "      <td>21.453</td>\n",
       "      <td>45229.245</td>\n",
       "      <td>8.0</td>\n",
       "    </tr>\n",
       "    <tr>\n",
       "      <th>7916</th>\n",
       "      <td>Germany</td>\n",
       "      <td>2020-01-02</td>\n",
       "      <td>0</td>\n",
       "      <td>0</td>\n",
       "      <td>83783945.0</td>\n",
       "      <td>21.453</td>\n",
       "      <td>45229.245</td>\n",
       "      <td>8.0</td>\n",
       "    </tr>\n",
       "    <tr>\n",
       "      <th>7917</th>\n",
       "      <td>Germany</td>\n",
       "      <td>2020-01-03</td>\n",
       "      <td>0</td>\n",
       "      <td>0</td>\n",
       "      <td>83783945.0</td>\n",
       "      <td>21.453</td>\n",
       "      <td>45229.245</td>\n",
       "      <td>8.0</td>\n",
       "    </tr>\n",
       "    <tr>\n",
       "      <th>7918</th>\n",
       "      <td>Germany</td>\n",
       "      <td>2020-01-04</td>\n",
       "      <td>0</td>\n",
       "      <td>0</td>\n",
       "      <td>83783945.0</td>\n",
       "      <td>21.453</td>\n",
       "      <td>45229.245</td>\n",
       "      <td>8.0</td>\n",
       "    </tr>\n",
       "    <tr>\n",
       "      <th>...</th>\n",
       "      <td>...</td>\n",
       "      <td>...</td>\n",
       "      <td>...</td>\n",
       "      <td>...</td>\n",
       "      <td>...</td>\n",
       "      <td>...</td>\n",
       "      <td>...</td>\n",
       "      <td>...</td>\n",
       "    </tr>\n",
       "    <tr>\n",
       "      <th>8072</th>\n",
       "      <td>Germany</td>\n",
       "      <td>2020-06-06</td>\n",
       "      <td>407</td>\n",
       "      <td>33</td>\n",
       "      <td>83783945.0</td>\n",
       "      <td>21.453</td>\n",
       "      <td>45229.245</td>\n",
       "      <td>8.0</td>\n",
       "    </tr>\n",
       "    <tr>\n",
       "      <th>8073</th>\n",
       "      <td>Germany</td>\n",
       "      <td>2020-06-07</td>\n",
       "      <td>301</td>\n",
       "      <td>22</td>\n",
       "      <td>83783945.0</td>\n",
       "      <td>21.453</td>\n",
       "      <td>45229.245</td>\n",
       "      <td>8.0</td>\n",
       "    </tr>\n",
       "    <tr>\n",
       "      <th>8074</th>\n",
       "      <td>Germany</td>\n",
       "      <td>2020-06-08</td>\n",
       "      <td>214</td>\n",
       "      <td>6</td>\n",
       "      <td>83783945.0</td>\n",
       "      <td>21.453</td>\n",
       "      <td>45229.245</td>\n",
       "      <td>8.0</td>\n",
       "    </tr>\n",
       "    <tr>\n",
       "      <th>8075</th>\n",
       "      <td>Germany</td>\n",
       "      <td>2020-06-09</td>\n",
       "      <td>350</td>\n",
       "      <td>37</td>\n",
       "      <td>83783945.0</td>\n",
       "      <td>21.453</td>\n",
       "      <td>45229.245</td>\n",
       "      <td>8.0</td>\n",
       "    </tr>\n",
       "    <tr>\n",
       "      <th>8076</th>\n",
       "      <td>Germany</td>\n",
       "      <td>2020-06-10</td>\n",
       "      <td>318</td>\n",
       "      <td>18</td>\n",
       "      <td>83783945.0</td>\n",
       "      <td>21.453</td>\n",
       "      <td>45229.245</td>\n",
       "      <td>8.0</td>\n",
       "    </tr>\n",
       "  </tbody>\n",
       "</table>\n",
       "<p>163 rows × 8 columns</p>\n",
       "</div>"
      ],
      "text/plain": [
       "     location        date  new_cases  new_deaths  population  \\\n",
       "7914  Germany  2019-12-31          0           0  83783945.0   \n",
       "7915  Germany  2020-01-01          0           0  83783945.0   \n",
       "7916  Germany  2020-01-02          0           0  83783945.0   \n",
       "7917  Germany  2020-01-03          0           0  83783945.0   \n",
       "7918  Germany  2020-01-04          0           0  83783945.0   \n",
       "...       ...         ...        ...         ...         ...   \n",
       "8072  Germany  2020-06-06        407          33  83783945.0   \n",
       "8073  Germany  2020-06-07        301          22  83783945.0   \n",
       "8074  Germany  2020-06-08        214           6  83783945.0   \n",
       "8075  Germany  2020-06-09        350          37  83783945.0   \n",
       "8076  Germany  2020-06-10        318          18  83783945.0   \n",
       "\n",
       "      aged_65_older_percent  gdp_per_capita  hospital_beds_per_thousand  \n",
       "7914                 21.453       45229.245                         8.0  \n",
       "7915                 21.453       45229.245                         8.0  \n",
       "7916                 21.453       45229.245                         8.0  \n",
       "7917                 21.453       45229.245                         8.0  \n",
       "7918                 21.453       45229.245                         8.0  \n",
       "...                     ...             ...                         ...  \n",
       "8072                 21.453       45229.245                         8.0  \n",
       "8073                 21.453       45229.245                         8.0  \n",
       "8074                 21.453       45229.245                         8.0  \n",
       "8075                 21.453       45229.245                         8.0  \n",
       "8076                 21.453       45229.245                         8.0  \n",
       "\n",
       "[163 rows x 8 columns]"
      ]
     },
     "execution_count": 115,
     "metadata": {},
     "output_type": "execute_result"
    }
   ],
   "source": [
    "data[data.location=='Germany']"
   ]
  },
  {
   "cell_type": "code",
   "execution_count": 116,
   "metadata": {},
   "outputs": [
    {
     "data": {
      "text/plain": [
       "Index(['location', 'date', 'new_cases', 'new_deaths', 'population',\n",
       "       'aged_65_older_percent', 'gdp_per_capita',\n",
       "       'hospital_beds_per_thousand'],\n",
       "      dtype='object')"
      ]
     },
     "execution_count": 116,
     "metadata": {},
     "output_type": "execute_result"
    }
   ],
   "source": [
    "data.columns"
   ]
  },
  {
   "cell_type": "code",
   "execution_count": 117,
   "metadata": {},
   "outputs": [],
   "source": [
    "it=list(data.new_cases[data.location=='Italy'])"
   ]
  },
  {
   "cell_type": "code",
   "execution_count": 118,
   "metadata": {},
   "outputs": [],
   "source": [
    "ger=list(data.new_cases[data.location=='Germany'])"
   ]
  },
  {
   "cell_type": "code",
   "execution_count": 119,
   "metadata": {},
   "outputs": [],
   "source": [
    "itSum=[]\n",
    "s=0\n",
    "for a in it:\n",
    "    s=s+a\n",
    "    itSum.append(s)"
   ]
  },
  {
   "cell_type": "code",
   "execution_count": 120,
   "metadata": {},
   "outputs": [],
   "source": [
    "GerSum=[]\n",
    "s=0\n",
    "for a in ger:\n",
    "    s=s+a\n",
    "    GerSum.append(s)"
   ]
  },
  {
   "cell_type": "code",
   "execution_count": 123,
   "metadata": {},
   "outputs": [],
   "source": [
    "for a in range(len(itSum)):\n",
    "    if(itSum[a]-GerSum[a]>10000):\n",
    "        break"
   ]
  },
  {
   "cell_type": "code",
   "execution_count": 124,
   "metadata": {},
   "outputs": [
    {
     "data": {
      "text/plain": [
       "72"
      ]
     },
     "execution_count": 124,
     "metadata": {},
     "output_type": "execute_result"
    }
   ],
   "source": [
    "a"
   ]
  },
  {
   "cell_type": "code",
   "execution_count": 129,
   "metadata": {},
   "outputs": [
    {
     "data": {
      "text/plain": [
       "location                         Germany\n",
       "date                          2020-03-12\n",
       "new_cases                            271\n",
       "new_deaths                             1\n",
       "population                    83783945.0\n",
       "aged_65_older_percent             21.453\n",
       "gdp_per_capita                 45229.245\n",
       "hospital_beds_per_thousand           8.0\n",
       "Name: 7986, dtype: object"
      ]
     },
     "execution_count": 129,
     "metadata": {},
     "output_type": "execute_result"
    }
   ],
   "source": [
    "data.loc[7986]"
   ]
  },
  {
   "cell_type": "code",
   "execution_count": 130,
   "metadata": {},
   "outputs": [],
   "source": [
    "import numpy"
   ]
  },
  {
   "cell_type": "code",
   "execution_count": 131,
   "metadata": {},
   "outputs": [
    {
     "data": {
      "text/html": [
       "<div>\n",
       "<style scoped>\n",
       "    .dataframe tbody tr th:only-of-type {\n",
       "        vertical-align: middle;\n",
       "    }\n",
       "\n",
       "    .dataframe tbody tr th {\n",
       "        vertical-align: top;\n",
       "    }\n",
       "\n",
       "    .dataframe thead th {\n",
       "        text-align: right;\n",
       "    }\n",
       "</style>\n",
       "<table border=\"1\" class=\"dataframe\">\n",
       "  <thead>\n",
       "    <tr style=\"text-align: right;\">\n",
       "      <th></th>\n",
       "      <th>location</th>\n",
       "      <th>date</th>\n",
       "      <th>new_cases</th>\n",
       "      <th>new_deaths</th>\n",
       "      <th>population</th>\n",
       "      <th>aged_65_older_percent</th>\n",
       "      <th>gdp_per_capita</th>\n",
       "      <th>hospital_beds_per_thousand</th>\n",
       "    </tr>\n",
       "  </thead>\n",
       "  <tbody>\n",
       "    <tr>\n",
       "      <th>10688</th>\n",
       "      <td>Italy</td>\n",
       "      <td>2019-12-31</td>\n",
       "      <td>0</td>\n",
       "      <td>0</td>\n",
       "      <td>60461828.0</td>\n",
       "      <td>23.021</td>\n",
       "      <td>35220.084</td>\n",
       "      <td>3.18</td>\n",
       "    </tr>\n",
       "    <tr>\n",
       "      <th>10689</th>\n",
       "      <td>Italy</td>\n",
       "      <td>2020-01-01</td>\n",
       "      <td>0</td>\n",
       "      <td>0</td>\n",
       "      <td>60461828.0</td>\n",
       "      <td>23.021</td>\n",
       "      <td>35220.084</td>\n",
       "      <td>3.18</td>\n",
       "    </tr>\n",
       "    <tr>\n",
       "      <th>10690</th>\n",
       "      <td>Italy</td>\n",
       "      <td>2020-01-02</td>\n",
       "      <td>0</td>\n",
       "      <td>0</td>\n",
       "      <td>60461828.0</td>\n",
       "      <td>23.021</td>\n",
       "      <td>35220.084</td>\n",
       "      <td>3.18</td>\n",
       "    </tr>\n",
       "    <tr>\n",
       "      <th>10691</th>\n",
       "      <td>Italy</td>\n",
       "      <td>2020-01-03</td>\n",
       "      <td>0</td>\n",
       "      <td>0</td>\n",
       "      <td>60461828.0</td>\n",
       "      <td>23.021</td>\n",
       "      <td>35220.084</td>\n",
       "      <td>3.18</td>\n",
       "    </tr>\n",
       "    <tr>\n",
       "      <th>10692</th>\n",
       "      <td>Italy</td>\n",
       "      <td>2020-01-04</td>\n",
       "      <td>0</td>\n",
       "      <td>0</td>\n",
       "      <td>60461828.0</td>\n",
       "      <td>23.021</td>\n",
       "      <td>35220.084</td>\n",
       "      <td>3.18</td>\n",
       "    </tr>\n",
       "    <tr>\n",
       "      <th>...</th>\n",
       "      <td>...</td>\n",
       "      <td>...</td>\n",
       "      <td>...</td>\n",
       "      <td>...</td>\n",
       "      <td>...</td>\n",
       "      <td>...</td>\n",
       "      <td>...</td>\n",
       "      <td>...</td>\n",
       "    </tr>\n",
       "    <tr>\n",
       "      <th>10846</th>\n",
       "      <td>Italy</td>\n",
       "      <td>2020-06-06</td>\n",
       "      <td>518</td>\n",
       "      <td>85</td>\n",
       "      <td>60461828.0</td>\n",
       "      <td>23.021</td>\n",
       "      <td>35220.084</td>\n",
       "      <td>3.18</td>\n",
       "    </tr>\n",
       "    <tr>\n",
       "      <th>10847</th>\n",
       "      <td>Italy</td>\n",
       "      <td>2020-06-07</td>\n",
       "      <td>270</td>\n",
       "      <td>72</td>\n",
       "      <td>60461828.0</td>\n",
       "      <td>23.021</td>\n",
       "      <td>35220.084</td>\n",
       "      <td>3.18</td>\n",
       "    </tr>\n",
       "    <tr>\n",
       "      <th>10848</th>\n",
       "      <td>Italy</td>\n",
       "      <td>2020-06-08</td>\n",
       "      <td>197</td>\n",
       "      <td>53</td>\n",
       "      <td>60461828.0</td>\n",
       "      <td>23.021</td>\n",
       "      <td>35220.084</td>\n",
       "      <td>3.18</td>\n",
       "    </tr>\n",
       "    <tr>\n",
       "      <th>10849</th>\n",
       "      <td>Italy</td>\n",
       "      <td>2020-06-09</td>\n",
       "      <td>280</td>\n",
       "      <td>65</td>\n",
       "      <td>60461828.0</td>\n",
       "      <td>23.021</td>\n",
       "      <td>35220.084</td>\n",
       "      <td>3.18</td>\n",
       "    </tr>\n",
       "    <tr>\n",
       "      <th>10850</th>\n",
       "      <td>Italy</td>\n",
       "      <td>2020-06-10</td>\n",
       "      <td>283</td>\n",
       "      <td>79</td>\n",
       "      <td>60461828.0</td>\n",
       "      <td>23.021</td>\n",
       "      <td>35220.084</td>\n",
       "      <td>3.18</td>\n",
       "    </tr>\n",
       "  </tbody>\n",
       "</table>\n",
       "<p>163 rows × 8 columns</p>\n",
       "</div>"
      ],
      "text/plain": [
       "      location        date  new_cases  new_deaths  population  \\\n",
       "10688    Italy  2019-12-31          0           0  60461828.0   \n",
       "10689    Italy  2020-01-01          0           0  60461828.0   \n",
       "10690    Italy  2020-01-02          0           0  60461828.0   \n",
       "10691    Italy  2020-01-03          0           0  60461828.0   \n",
       "10692    Italy  2020-01-04          0           0  60461828.0   \n",
       "...        ...         ...        ...         ...         ...   \n",
       "10846    Italy  2020-06-06        518          85  60461828.0   \n",
       "10847    Italy  2020-06-07        270          72  60461828.0   \n",
       "10848    Italy  2020-06-08        197          53  60461828.0   \n",
       "10849    Italy  2020-06-09        280          65  60461828.0   \n",
       "10850    Italy  2020-06-10        283          79  60461828.0   \n",
       "\n",
       "       aged_65_older_percent  gdp_per_capita  hospital_beds_per_thousand  \n",
       "10688                 23.021       35220.084                        3.18  \n",
       "10689                 23.021       35220.084                        3.18  \n",
       "10690                 23.021       35220.084                        3.18  \n",
       "10691                 23.021       35220.084                        3.18  \n",
       "10692                 23.021       35220.084                        3.18  \n",
       "...                      ...             ...                         ...  \n",
       "10846                 23.021       35220.084                        3.18  \n",
       "10847                 23.021       35220.084                        3.18  \n",
       "10848                 23.021       35220.084                        3.18  \n",
       "10849                 23.021       35220.084                        3.18  \n",
       "10850                 23.021       35220.084                        3.18  \n",
       "\n",
       "[163 rows x 8 columns]"
      ]
     },
     "execution_count": 131,
     "metadata": {},
     "output_type": "execute_result"
    }
   ],
   "source": [
    "data[data.location=='Italy']"
   ]
  },
  {
   "cell_type": "code",
   "execution_count": 134,
   "metadata": {},
   "outputs": [
    {
     "data": {
      "text/plain": [
       "location                           Italy\n",
       "date                          2020-02-28\n",
       "new_cases                            250\n",
       "new_deaths                             5\n",
       "population                    60461828.0\n",
       "aged_65_older_percent             23.021\n",
       "gdp_per_capita                 35220.084\n",
       "hospital_beds_per_thousand          3.18\n",
       "Name: 10747, dtype: object"
      ]
     },
     "execution_count": 134,
     "metadata": {},
     "output_type": "execute_result"
    }
   ],
   "source": [
    "data.loc[10747]"
   ]
  },
  {
   "cell_type": "code",
   "execution_count": 136,
   "metadata": {},
   "outputs": [
    {
     "data": {
      "text/plain": [
       "250"
      ]
     },
     "execution_count": 136,
     "metadata": {},
     "output_type": "execute_result"
    }
   ],
   "source": [
    "data.loc[10747]['new_cases']"
   ]
  },
  {
   "cell_type": "code",
   "execution_count": 138,
   "metadata": {},
   "outputs": [
    {
     "data": {
      "text/plain": [
       "location                           Italy\n",
       "date                          2020-03-20\n",
       "new_cases                           5322\n",
       "new_deaths                           429\n",
       "population                    60461828.0\n",
       "aged_65_older_percent             23.021\n",
       "gdp_per_capita                 35220.084\n",
       "hospital_beds_per_thousand          3.18\n",
       "Name: 10768, dtype: object"
      ]
     },
     "execution_count": 138,
     "metadata": {},
     "output_type": "execute_result"
    }
   ],
   "source": [
    "data.loc[10768]"
   ]
  },
  {
   "cell_type": "code",
   "execution_count": 139,
   "metadata": {},
   "outputs": [],
   "source": [
    "itSum=[]\n",
    "s=0\n",
    "for i in range(10747,10769):\n",
    "    a=data.loc[i]['new_cases']\n",
    "    s=s+a\n",
    "    itSum.append(s)"
   ]
  },
  {
   "cell_type": "code",
   "execution_count": 140,
   "metadata": {},
   "outputs": [],
   "source": [
    "import numpy"
   ]
  },
  {
   "cell_type": "code",
   "execution_count": 149,
   "metadata": {},
   "outputs": [],
   "source": [
    "ind=[]\n",
    "s=60\n",
    "for i in range(10747,10769):\n",
    "    s=s+1\n",
    "    ind.append(s)"
   ]
  },
  {
   "cell_type": "code",
   "execution_count": 150,
   "metadata": {},
   "outputs": [
    {
     "data": {
      "text/plain": [
       "array([ 0.22133005, -7.14107693])"
      ]
     },
     "execution_count": 150,
     "metadata": {},
     "output_type": "execute_result"
    }
   ],
   "source": [
    "numpy.polyfit(ind,numpy.log(itSum),1)"
   ]
  },
  {
   "cell_type": "code",
   "execution_count": 144,
   "metadata": {},
   "outputs": [
    {
     "data": {
      "text/plain": [
       "5.60262174170029e+58"
      ]
     },
     "execution_count": 144,
     "metadata": {},
     "output_type": "execute_result"
    }
   ],
   "source": [
    "numpy.exp(0.22133005)*numpy.exp(6.13872*ind[-1])"
   ]
  },
  {
   "cell_type": "code",
   "execution_count": 145,
   "metadata": {},
   "outputs": [
    {
     "data": {
      "text/plain": [
       "40635"
      ]
     },
     "execution_count": 145,
     "metadata": {},
     "output_type": "execute_result"
    }
   ],
   "source": [
    "itSum[-1]"
   ]
  },
  {
   "cell_type": "code",
   "execution_count": 146,
   "metadata": {},
   "outputs": [
    {
     "data": {
      "text/plain": [
       "array([  4.34263728, -26.21155478])"
      ]
     },
     "execution_count": 146,
     "metadata": {},
     "output_type": "execute_result"
    }
   ],
   "source": [
    "numpy.polyfit(numpy.log(itSum),ind,1)"
   ]
  },
  {
   "cell_type": "code",
   "execution_count": 147,
   "metadata": {},
   "outputs": [
    {
     "data": {
      "text/plain": [
       "[1, 2, 3, 4, 5, 6, 7, 8, 9, 10, 11, 12, 13, 14, 15, 16, 17, 18, 19, 20, 21, 22]"
      ]
     },
     "execution_count": 147,
     "metadata": {},
     "output_type": "execute_result"
    }
   ],
   "source": [
    "ind"
   ]
  },
  {
   "cell_type": "code",
   "execution_count": 151,
   "metadata": {},
   "outputs": [
    {
     "data": {
      "text/plain": [
       "60354.28159054906"
      ]
     },
     "execution_count": 151,
     "metadata": {},
     "output_type": "execute_result"
    }
   ],
   "source": [
    "numpy.exp(-7.14107693)*numpy.exp(0.22133005*ind[-1])"
   ]
  },
  {
   "cell_type": "code",
   "execution_count": 152,
   "metadata": {},
   "outputs": [
    {
     "data": {
      "text/html": [
       "<div>\n",
       "<style scoped>\n",
       "    .dataframe tbody tr th:only-of-type {\n",
       "        vertical-align: middle;\n",
       "    }\n",
       "\n",
       "    .dataframe tbody tr th {\n",
       "        vertical-align: top;\n",
       "    }\n",
       "\n",
       "    .dataframe thead th {\n",
       "        text-align: right;\n",
       "    }\n",
       "</style>\n",
       "<table border=\"1\" class=\"dataframe\">\n",
       "  <thead>\n",
       "    <tr style=\"text-align: right;\">\n",
       "      <th></th>\n",
       "      <th>location</th>\n",
       "      <th>date</th>\n",
       "      <th>new_cases</th>\n",
       "      <th>new_deaths</th>\n",
       "      <th>population</th>\n",
       "      <th>aged_65_older_percent</th>\n",
       "      <th>gdp_per_capita</th>\n",
       "      <th>hospital_beds_per_thousand</th>\n",
       "    </tr>\n",
       "  </thead>\n",
       "  <tbody>\n",
       "    <tr>\n",
       "      <th>0</th>\n",
       "      <td>Afghanistan</td>\n",
       "      <td>2019-12-31</td>\n",
       "      <td>0</td>\n",
       "      <td>0</td>\n",
       "      <td>38928341.0</td>\n",
       "      <td>2.581</td>\n",
       "      <td>1803.987</td>\n",
       "      <td>0.5</td>\n",
       "    </tr>\n",
       "    <tr>\n",
       "      <th>1</th>\n",
       "      <td>Afghanistan</td>\n",
       "      <td>2020-01-01</td>\n",
       "      <td>0</td>\n",
       "      <td>0</td>\n",
       "      <td>38928341.0</td>\n",
       "      <td>2.581</td>\n",
       "      <td>1803.987</td>\n",
       "      <td>0.5</td>\n",
       "    </tr>\n",
       "    <tr>\n",
       "      <th>2</th>\n",
       "      <td>Afghanistan</td>\n",
       "      <td>2020-01-02</td>\n",
       "      <td>0</td>\n",
       "      <td>0</td>\n",
       "      <td>38928341.0</td>\n",
       "      <td>2.581</td>\n",
       "      <td>1803.987</td>\n",
       "      <td>0.5</td>\n",
       "    </tr>\n",
       "    <tr>\n",
       "      <th>3</th>\n",
       "      <td>Afghanistan</td>\n",
       "      <td>2020-01-03</td>\n",
       "      <td>0</td>\n",
       "      <td>0</td>\n",
       "      <td>38928341.0</td>\n",
       "      <td>2.581</td>\n",
       "      <td>1803.987</td>\n",
       "      <td>0.5</td>\n",
       "    </tr>\n",
       "    <tr>\n",
       "      <th>4</th>\n",
       "      <td>Afghanistan</td>\n",
       "      <td>2020-01-04</td>\n",
       "      <td>0</td>\n",
       "      <td>0</td>\n",
       "      <td>38928341.0</td>\n",
       "      <td>2.581</td>\n",
       "      <td>1803.987</td>\n",
       "      <td>0.5</td>\n",
       "    </tr>\n",
       "    <tr>\n",
       "      <th>...</th>\n",
       "      <td>...</td>\n",
       "      <td>...</td>\n",
       "      <td>...</td>\n",
       "      <td>...</td>\n",
       "      <td>...</td>\n",
       "      <td>...</td>\n",
       "      <td>...</td>\n",
       "      <td>...</td>\n",
       "    </tr>\n",
       "    <tr>\n",
       "      <th>23077</th>\n",
       "      <td>International</td>\n",
       "      <td>2020-02-28</td>\n",
       "      <td>0</td>\n",
       "      <td>0</td>\n",
       "      <td>NaN</td>\n",
       "      <td>NaN</td>\n",
       "      <td>NaN</td>\n",
       "      <td>NaN</td>\n",
       "    </tr>\n",
       "    <tr>\n",
       "      <th>23078</th>\n",
       "      <td>International</td>\n",
       "      <td>2020-02-29</td>\n",
       "      <td>0</td>\n",
       "      <td>2</td>\n",
       "      <td>NaN</td>\n",
       "      <td>NaN</td>\n",
       "      <td>NaN</td>\n",
       "      <td>NaN</td>\n",
       "    </tr>\n",
       "    <tr>\n",
       "      <th>23079</th>\n",
       "      <td>International</td>\n",
       "      <td>2020-03-01</td>\n",
       "      <td>0</td>\n",
       "      <td>0</td>\n",
       "      <td>NaN</td>\n",
       "      <td>NaN</td>\n",
       "      <td>NaN</td>\n",
       "      <td>NaN</td>\n",
       "    </tr>\n",
       "    <tr>\n",
       "      <th>23080</th>\n",
       "      <td>International</td>\n",
       "      <td>2020-03-02</td>\n",
       "      <td>0</td>\n",
       "      <td>0</td>\n",
       "      <td>NaN</td>\n",
       "      <td>NaN</td>\n",
       "      <td>NaN</td>\n",
       "      <td>NaN</td>\n",
       "    </tr>\n",
       "    <tr>\n",
       "      <th>23081</th>\n",
       "      <td>International</td>\n",
       "      <td>2020-03-10</td>\n",
       "      <td>-9</td>\n",
       "      <td>1</td>\n",
       "      <td>NaN</td>\n",
       "      <td>NaN</td>\n",
       "      <td>NaN</td>\n",
       "      <td>NaN</td>\n",
       "    </tr>\n",
       "  </tbody>\n",
       "</table>\n",
       "<p>23082 rows × 8 columns</p>\n",
       "</div>"
      ],
      "text/plain": [
       "            location        date  new_cases  new_deaths  population  \\\n",
       "0        Afghanistan  2019-12-31          0           0  38928341.0   \n",
       "1        Afghanistan  2020-01-01          0           0  38928341.0   \n",
       "2        Afghanistan  2020-01-02          0           0  38928341.0   \n",
       "3        Afghanistan  2020-01-03          0           0  38928341.0   \n",
       "4        Afghanistan  2020-01-04          0           0  38928341.0   \n",
       "...              ...         ...        ...         ...         ...   \n",
       "23077  International  2020-02-28          0           0         NaN   \n",
       "23078  International  2020-02-29          0           2         NaN   \n",
       "23079  International  2020-03-01          0           0         NaN   \n",
       "23080  International  2020-03-02          0           0         NaN   \n",
       "23081  International  2020-03-10         -9           1         NaN   \n",
       "\n",
       "       aged_65_older_percent  gdp_per_capita  hospital_beds_per_thousand  \n",
       "0                      2.581        1803.987                         0.5  \n",
       "1                      2.581        1803.987                         0.5  \n",
       "2                      2.581        1803.987                         0.5  \n",
       "3                      2.581        1803.987                         0.5  \n",
       "4                      2.581        1803.987                         0.5  \n",
       "...                      ...             ...                         ...  \n",
       "23077                    NaN             NaN                         NaN  \n",
       "23078                    NaN             NaN                         NaN  \n",
       "23079                    NaN             NaN                         NaN  \n",
       "23080                    NaN             NaN                         NaN  \n",
       "23081                    NaN             NaN                         NaN  \n",
       "\n",
       "[23082 rows x 8 columns]"
      ]
     },
     "execution_count": 152,
     "metadata": {},
     "output_type": "execute_result"
    }
   ],
   "source": [
    "data"
   ]
  },
  {
   "cell_type": "code",
   "execution_count": 153,
   "metadata": {},
   "outputs": [],
   "source": [
    "it=list(data.new_cases[data.location=='Italy'])"
   ]
  },
  {
   "cell_type": "code",
   "execution_count": 154,
   "metadata": {},
   "outputs": [],
   "source": [
    "itSum=[]\n",
    "s=0\n",
    "for a in it:\n",
    "    s=s+a\n",
    "    itSum.append(s)"
   ]
  },
  {
   "cell_type": "code",
   "execution_count": 155,
   "metadata": {},
   "outputs": [
    {
     "data": {
      "text/plain": [
       "235561"
      ]
     },
     "execution_count": 155,
     "metadata": {},
     "output_type": "execute_result"
    }
   ],
   "source": [
    "itSum[-1]"
   ]
  },
  {
   "cell_type": "code",
   "execution_count": 163,
   "metadata": {},
   "outputs": [
    {
     "data": {
      "text/plain": [
       "60461828.0"
      ]
     },
     "execution_count": 163,
     "metadata": {},
     "output_type": "execute_result"
    }
   ],
   "source": [
    "data.population[data.location=='Italy'].mean()"
   ]
  },
  {
   "cell_type": "code",
   "execution_count": 157,
   "metadata": {},
   "outputs": [
    {
     "data": {
      "text/plain": [
       "0.0038960284164746063"
      ]
     },
     "execution_count": 157,
     "metadata": {},
     "output_type": "execute_result"
    }
   ],
   "source": [
    "235561/60461828.0"
   ]
  },
  {
   "cell_type": "code",
   "execution_count": 158,
   "metadata": {},
   "outputs": [
    {
     "data": {
      "text/plain": [
       "0          Afghanistan\n",
       "1          Afghanistan\n",
       "2          Afghanistan\n",
       "3          Afghanistan\n",
       "4          Afghanistan\n",
       "             ...      \n",
       "23077    International\n",
       "23078    International\n",
       "23079    International\n",
       "23080    International\n",
       "23081    International\n",
       "Name: location, Length: 23082, dtype: object"
      ]
     },
     "execution_count": 158,
     "metadata": {},
     "output_type": "execute_result"
    }
   ],
   "source": [
    "data.location"
   ]
  },
  {
   "cell_type": "code",
   "execution_count": 187,
   "metadata": {},
   "outputs": [],
   "source": [
    "countries=set(list(data.location))"
   ]
  },
  {
   "cell_type": "code",
   "execution_count": 188,
   "metadata": {},
   "outputs": [
    {
     "data": {
      "text/plain": [
       "{'Afghanistan',\n",
       " 'Albania',\n",
       " 'Algeria',\n",
       " 'Andorra',\n",
       " 'Angola',\n",
       " 'Anguilla',\n",
       " 'Antigua and Barbuda',\n",
       " 'Argentina',\n",
       " 'Armenia',\n",
       " 'Aruba',\n",
       " 'Australia',\n",
       " 'Austria',\n",
       " 'Azerbaijan',\n",
       " 'Bahamas',\n",
       " 'Bahrain',\n",
       " 'Bangladesh',\n",
       " 'Barbados',\n",
       " 'Belarus',\n",
       " 'Belgium',\n",
       " 'Belize',\n",
       " 'Benin',\n",
       " 'Bermuda',\n",
       " 'Bhutan',\n",
       " 'Bolivia',\n",
       " 'Bonaire Sint Eustatius and Saba',\n",
       " 'Bosnia and Herzegovina',\n",
       " 'Botswana',\n",
       " 'Brazil',\n",
       " 'British Virgin Islands',\n",
       " 'Brunei',\n",
       " 'Bulgaria',\n",
       " 'Burkina Faso',\n",
       " 'Burundi',\n",
       " 'Cambodia',\n",
       " 'Cameroon',\n",
       " 'Canada',\n",
       " 'Cape Verde',\n",
       " 'Cayman Islands',\n",
       " 'Central African Republic',\n",
       " 'Chad',\n",
       " 'Chile',\n",
       " 'China',\n",
       " 'Colombia',\n",
       " 'Comoros',\n",
       " 'Congo',\n",
       " 'Costa Rica',\n",
       " \"Cote d'Ivoire\",\n",
       " 'Croatia',\n",
       " 'Cuba',\n",
       " 'Curacao',\n",
       " 'Cyprus',\n",
       " 'Czech Republic',\n",
       " 'Democratic Republic of Congo',\n",
       " 'Denmark',\n",
       " 'Djibouti',\n",
       " 'Dominica',\n",
       " 'Dominican Republic',\n",
       " 'Ecuador',\n",
       " 'Egypt',\n",
       " 'El Salvador',\n",
       " 'Equatorial Guinea',\n",
       " 'Eritrea',\n",
       " 'Estonia',\n",
       " 'Ethiopia',\n",
       " 'Faeroe Islands',\n",
       " 'Falkland Islands',\n",
       " 'Fiji',\n",
       " 'Finland',\n",
       " 'France',\n",
       " 'French Polynesia',\n",
       " 'Gabon',\n",
       " 'Gambia',\n",
       " 'Georgia',\n",
       " 'Germany',\n",
       " 'Ghana',\n",
       " 'Gibraltar',\n",
       " 'Greece',\n",
       " 'Greenland',\n",
       " 'Grenada',\n",
       " 'Guam',\n",
       " 'Guatemala',\n",
       " 'Guernsey',\n",
       " 'Guinea',\n",
       " 'Guinea-Bissau',\n",
       " 'Guyana',\n",
       " 'Haiti',\n",
       " 'Honduras',\n",
       " 'Hong Kong',\n",
       " 'Hungary',\n",
       " 'Iceland',\n",
       " 'India',\n",
       " 'Indonesia',\n",
       " 'International',\n",
       " 'Iran',\n",
       " 'Iraq',\n",
       " 'Ireland',\n",
       " 'Isle of Man',\n",
       " 'Israel',\n",
       " 'Italy',\n",
       " 'Jamaica',\n",
       " 'Japan',\n",
       " 'Jersey',\n",
       " 'Jordan',\n",
       " 'Kazakhstan',\n",
       " 'Kenya',\n",
       " 'Kosovo',\n",
       " 'Kuwait',\n",
       " 'Kyrgyzstan',\n",
       " 'Laos',\n",
       " 'Latvia',\n",
       " 'Lebanon',\n",
       " 'Lesotho',\n",
       " 'Liberia',\n",
       " 'Libya',\n",
       " 'Liechtenstein',\n",
       " 'Lithuania',\n",
       " 'Luxembourg',\n",
       " 'Macedonia',\n",
       " 'Madagascar',\n",
       " 'Malawi',\n",
       " 'Malaysia',\n",
       " 'Maldives',\n",
       " 'Mali',\n",
       " 'Malta',\n",
       " 'Mauritania',\n",
       " 'Mauritius',\n",
       " 'Mexico',\n",
       " 'Moldova',\n",
       " 'Monaco',\n",
       " 'Mongolia',\n",
       " 'Montenegro',\n",
       " 'Montserrat',\n",
       " 'Morocco',\n",
       " 'Mozambique',\n",
       " 'Myanmar',\n",
       " 'Namibia',\n",
       " 'Nepal',\n",
       " 'Netherlands',\n",
       " 'New Caledonia',\n",
       " 'New Zealand',\n",
       " 'Nicaragua',\n",
       " 'Niger',\n",
       " 'Nigeria',\n",
       " 'Northern Mariana Islands',\n",
       " 'Norway',\n",
       " 'Oman',\n",
       " 'Pakistan',\n",
       " 'Palestine',\n",
       " 'Panama',\n",
       " 'Papua New Guinea',\n",
       " 'Paraguay',\n",
       " 'Peru',\n",
       " 'Philippines',\n",
       " 'Poland',\n",
       " 'Portugal',\n",
       " 'Puerto Rico',\n",
       " 'Qatar',\n",
       " 'Romania',\n",
       " 'Russia',\n",
       " 'Rwanda',\n",
       " 'Saint Kitts and Nevis',\n",
       " 'Saint Lucia',\n",
       " 'Saint Vincent and the Grenadines',\n",
       " 'San Marino',\n",
       " 'Sao Tome and Principe',\n",
       " 'Saudi Arabia',\n",
       " 'Senegal',\n",
       " 'Serbia',\n",
       " 'Seychelles',\n",
       " 'Sierra Leone',\n",
       " 'Singapore',\n",
       " 'Sint Maarten (Dutch part)',\n",
       " 'Slovakia',\n",
       " 'Slovenia',\n",
       " 'Somalia',\n",
       " 'South Africa',\n",
       " 'South Korea',\n",
       " 'South Sudan',\n",
       " 'Spain',\n",
       " 'Sri Lanka',\n",
       " 'Sudan',\n",
       " 'Suriname',\n",
       " 'Swaziland',\n",
       " 'Sweden',\n",
       " 'Switzerland',\n",
       " 'Syria',\n",
       " 'Taiwan',\n",
       " 'Tajikistan',\n",
       " 'Tanzania',\n",
       " 'Thailand',\n",
       " 'Timor',\n",
       " 'Togo',\n",
       " 'Trinidad and Tobago',\n",
       " 'Tunisia',\n",
       " 'Turkey',\n",
       " 'Turks and Caicos Islands',\n",
       " 'Uganda',\n",
       " 'Ukraine',\n",
       " 'United Arab Emirates',\n",
       " 'United Kingdom',\n",
       " 'United States',\n",
       " 'United States Virgin Islands',\n",
       " 'Uruguay',\n",
       " 'Uzbekistan',\n",
       " 'Vatican',\n",
       " 'Venezuela',\n",
       " 'Vietnam',\n",
       " 'Western Sahara',\n",
       " 'World',\n",
       " 'Yemen',\n",
       " 'Zambia',\n",
       " 'Zimbabwe'}"
      ]
     },
     "execution_count": 188,
     "metadata": {},
     "output_type": "execute_result"
    }
   ],
   "source": [
    "countries"
   ]
  },
  {
   "cell_type": "code",
   "execution_count": 189,
   "metadata": {},
   "outputs": [],
   "source": [
    "death_rate=[]\n",
    "a=0\n",
    "b=0\n",
    "for cou in countries:\n",
    "    if(data.gdp_per_capita[data.location==cou].mean()<10000):\n",
    "        continue\n",
    "    a=a+1\n",
    "    cou_list=list(data.new_cases[data.location==cou])\n",
    "    s=0\n",
    "    for a in cou_list:\n",
    "        s=s+a\n",
    "    death_rate=s/(data.population[data.location==cou].mean())\n",
    "    if(data.gdp_per_capita[data.location==cou].mean()<10000):\n",
    "        b=b+1"
   ]
  },
  {
   "cell_type": "code",
   "execution_count": 196,
   "metadata": {},
   "outputs": [],
   "source": [
    "a=0\n",
    "b=0\n",
    "for cou in countries:\n",
    "    if(data.gdp_per_capita[data.location==cou].mean()<10000):\n",
    "        continue\n",
    "    a=a+1\n",
    "    if(data.hospital_beds_per_thousand[data.location==cou].mean()<5):\n",
    "        b=b+1"
   ]
  },
  {
   "cell_type": "code",
   "execution_count": 197,
   "metadata": {},
   "outputs": [
    {
     "data": {
      "text/plain": [
       "133"
      ]
     },
     "execution_count": 197,
     "metadata": {},
     "output_type": "execute_result"
    }
   ],
   "source": [
    "a"
   ]
  },
  {
   "cell_type": "code",
   "execution_count": 198,
   "metadata": {},
   "outputs": [
    {
     "data": {
      "text/plain": [
       "78"
      ]
     },
     "execution_count": 198,
     "metadata": {},
     "output_type": "execute_result"
    }
   ],
   "source": [
    "b"
   ]
  },
  {
   "cell_type": "code",
   "execution_count": 199,
   "metadata": {},
   "outputs": [
    {
     "data": {
      "text/plain": [
       "0.5864661654135338"
      ]
     },
     "execution_count": 199,
     "metadata": {},
     "output_type": "execute_result"
    }
   ],
   "source": [
    "78/133"
   ]
  },
  {
   "cell_type": "code",
   "execution_count": 192,
   "metadata": {},
   "outputs": [
    {
     "data": {
      "text/plain": [
       "0.3924050632911392"
      ]
     },
     "execution_count": 192,
     "metadata": {},
     "output_type": "execute_result"
    }
   ],
   "source": [
    "31/79"
   ]
  },
  {
   "cell_type": "code",
   "execution_count": 186,
   "metadata": {},
   "outputs": [
    {
     "data": {
      "text/plain": [
       "[0.01102698505144632]"
      ]
     },
     "execution_count": 186,
     "metadata": {},
     "output_type": "execute_result"
    }
   ],
   "source": [
    "death_rate"
   ]
  },
  {
   "cell_type": "code",
   "execution_count": 167,
   "metadata": {},
   "outputs": [],
   "source": [
    "death_rate.sort()"
   ]
  },
  {
   "cell_type": "code",
   "execution_count": 168,
   "metadata": {},
   "outputs": [
    {
     "data": {
      "text/plain": [
       "[0.0,\n",
       " 8.941517668383028e-07,\n",
       " 1.8671939622416037e-06,\n",
       " 2.61148426319583e-06,\n",
       " 2.920927925251507e-06,\n",
       " 3.4107749441965885e-06,\n",
       " 4.5212448332371924e-06,\n",
       " 6.98019751604205e-06,\n",
       " 7.536348977458003e-06,\n",
       " 8.342543939921798e-06,\n",
       " 8.52107987092757e-06,\n",
       " 1.1560931608066372e-05,\n",
       " 1.1586219681345855e-05,\n",
       " 1.2200324607346326e-05,\n",
       " 1.4363481340591591e-05,\n",
       " 1.4493479294081173e-05,\n",
       " 1.7568583188984848e-05,\n",
       " 1.7859990432147984e-05,\n",
       " 1.820330359621432e-05,\n",
       " 1.8600335267894164e-05,\n",
       " 2.0079335686334004e-05,\n",
       " 2.0319478038536778e-05,\n",
       " 2.1126390515138775e-05,\n",
       " 2.3784687418240137e-05,\n",
       " 2.5158378177111353e-05,\n",
       " 3.5746798094440876e-05,\n",
       " 3.8504679155575646e-05,\n",
       " 4.0236900327662215e-05,\n",
       " 4.109635690907583e-05,\n",
       " 4.262489356932439e-05,\n",
       " 4.477078775010502e-05,\n",
       " 4.754280091455467e-05,\n",
       " 4.7784196508735704e-05,\n",
       " 4.831700378691794e-05,\n",
       " 5.138239650054222e-05,\n",
       " 5.5587274252249804e-05,\n",
       " 5.849830421824187e-05,\n",
       " 5.917715688535371e-05,\n",
       " 6.051647733223075e-05,\n",
       " 6.527430766261625e-05,\n",
       " 6.531496543650299e-05,\n",
       " 7.3557485174664e-05,\n",
       " 7.572646493637296e-05,\n",
       " 7.646330020787649e-05,\n",
       " 7.831776212278467e-05,\n",
       " 8.281764241204178e-05,\n",
       " 8.681540634887278e-05,\n",
       " 9.197352854623104e-05,\n",
       " 9.25589139069522e-05,\n",
       " 0.00010346949555898033,\n",
       " 0.00011185682326621924,\n",
       " 0.00012092557081203601,\n",
       " 0.00012797074954296162,\n",
       " 0.00012849466308385938,\n",
       " 0.0001295718678892292,\n",
       " 0.00013192965974470887,\n",
       " 0.000135856253984447,\n",
       " 0.0001363969253471662,\n",
       " 0.00014020066988806735,\n",
       " 0.00014235128982423856,\n",
       " 0.0001432945178501284,\n",
       " 0.00015145038862473002,\n",
       " 0.0001520145163795956,\n",
       " 0.00016642061091926707,\n",
       " 0.00018629361944353406,\n",
       " 0.0001946742080776818,\n",
       " 0.00019759820812087877,\n",
       " 0.00019833222936868055,\n",
       " 0.0001999733368884149,\n",
       " 0.00020042182692049925,\n",
       " 0.00020042658043244673,\n",
       " 0.00020431175474754665,\n",
       " 0.00020440992187986028,\n",
       " 0.00020505492990405285,\n",
       " 0.000209817232599951,\n",
       " 0.00021359610400706292,\n",
       " 0.00022857958419376917,\n",
       " 0.00022898611991826958,\n",
       " 0.00023214725305843083,\n",
       " 0.00023353573096683791,\n",
       " 0.00023675605617864094,\n",
       " 0.00023930822090098094,\n",
       " 0.00024335944189567992,\n",
       " 0.000243542454545219,\n",
       " 0.00024991074616208497,\n",
       " 0.00025003125390673836,\n",
       " 0.00025755423948305254,\n",
       " 0.0002619212303686223,\n",
       " 0.0002645765122201277,\n",
       " 0.00026498564595558776,\n",
       " 0.0002655011845437464,\n",
       " 0.0002669615956675947,\n",
       " 0.0002697096798660768,\n",
       " 0.00026991936183603274,\n",
       " 0.0002804212656395299,\n",
       " 0.00028199729282598886,\n",
       " 0.00028498172207156575,\n",
       " 0.0002933880428158498,\n",
       " 0.0003099333643266698,\n",
       " 0.0003197823755951745,\n",
       " 0.00032014364706250807,\n",
       " 0.00032080605855959763,\n",
       " 0.00032115671140789506,\n",
       " 0.000322298237874386,\n",
       " 0.0003270189284477612,\n",
       " 0.00032829202381686064,\n",
       " 0.00035472680553967514,\n",
       " 0.00039090936948472016,\n",
       " 0.00041577647948569786,\n",
       " 0.00041582344324998577,\n",
       " 0.0004352132401880454,\n",
       " 0.0004390595061825283,\n",
       " 0.0004513864757801098,\n",
       " 0.0004917357980096129,\n",
       " 0.0005147394637254292,\n",
       " 0.0005212224403634657,\n",
       " 0.000547345508259144,\n",
       " 0.0005475732832295371,\n",
       " 0.0005512436299301837,\n",
       " 0.0005773506761205852,\n",
       " 0.0006343921351538098,\n",
       " 0.0006369450199787309,\n",
       " 0.0006534649162292125,\n",
       " 0.0006799268360418682,\n",
       " 0.0007057934001965449,\n",
       " 0.0007093363069466867,\n",
       " 0.0008078566550039821,\n",
       " 0.0008269578430342117,\n",
       " 0.0008934778360472976,\n",
       " 0.0009105440647859899,\n",
       " 0.0009250350458920746,\n",
       " 0.0009308723899400207,\n",
       " 0.0009459940430474121,\n",
       " 0.001066458114857539,\n",
       " 0.0010785602964016143,\n",
       " 0.0011097169879175567,\n",
       " 0.0012545158587372652,\n",
       " 0.001267886219800394,\n",
       " 0.001467729180973948,\n",
       " 0.0014799652068896109,\n",
       " 0.0015561251427968013,\n",
       " 0.001579527348161178,\n",
       " 0.0017583703720250254,\n",
       " 0.0018124047482557571,\n",
       " 0.0020407387243209603,\n",
       " 0.0020719232388781953,\n",
       " nan,\n",
       " 8.360182380594088e-05,\n",
       " 0.00032422656202885113,\n",
       " 0.0003598887463094889,\n",
       " 0.0004919674860523133,\n",
       " 0.0005158726367778977,\n",
       " 0.000700179148937545,\n",
       " 0.0007147900941444934,\n",
       " 0.0007282027014047891,\n",
       " 0.0008311959071145432,\n",
       " 0.0009640762111082821,\n",
       " 0.0010521809823233596,\n",
       " 0.001435886750660757,\n",
       " 0.0017956252040483187,\n",
       " 0.001876665482323681,\n",
       " 0.0018819303710652306,\n",
       " 0.002094544764963794,\n",
       " 0.0021105555389316507,\n",
       " 0.0021763641607887353,\n",
       " 0.0022004400880176033,\n",
       " 0.0022064012383279396,\n",
       " 0.002264223660334334,\n",
       " 0.0023453077874256824,\n",
       " 0.0023683573208072516,\n",
       " 0.002485149219266513,\n",
       " 0.002489194051372041,\n",
       " 0.002522678626032005,\n",
       " 0.002560584971335899,\n",
       " 0.002678027997565429,\n",
       " 0.0027956437144296313,\n",
       " 0.0030967716402995854,\n",
       " 0.0031186136260013863,\n",
       " 0.0033251433554487403,\n",
       " 0.0034624903902799207,\n",
       " 0.0034790414758821614,\n",
       " 0.003563608193439812,\n",
       " 0.003570925949591305,\n",
       " 0.0035926902997361907,\n",
       " 0.0037324145851277634,\n",
       " 0.003758277158026606,\n",
       " 0.0038268699478154096,\n",
       " 0.0038960284164746063,\n",
       " 0.003951453570420547,\n",
       " 0.003993957496671895,\n",
       " 0.004034619428941196,\n",
       " 0.004259198994832573,\n",
       " 0.004383594365193593,\n",
       " 0.004547259356369322,\n",
       " 0.004614890352904968,\n",
       " 0.00510652930983783,\n",
       " 0.00512847017537078,\n",
       " 0.005175213838549951,\n",
       " 0.005223947048173102,\n",
       " 0.005295238095238095,\n",
       " 0.005319429829931696,\n",
       " 0.005981372106670797,\n",
       " 0.0061790898817130225,\n",
       " 0.006463506588112004,\n",
       " 0.006583203754036301,\n",
       " 0.007467955597263035,\n",
       " 0.007760100951560719,\n",
       " 0.009520546455859044,\n",
       " 0.01102698505144632,\n",
       " 0.014833127317676144,\n",
       " 0.020272261182155697,\n",
       " 0.024948803565354418]"
      ]
     },
     "execution_count": 168,
     "metadata": {},
     "output_type": "execute_result"
    }
   ],
   "source": [
    "death_rate"
   ]
  },
  {
   "cell_type": "code",
   "execution_count": 200,
   "metadata": {},
   "outputs": [
    {
     "data": {
      "text/plain": [
       "[1, 2]"
      ]
     },
     "execution_count": 200,
     "metadata": {},
     "output_type": "execute_result"
    }
   ],
   "source": [
    "a=[1,2,4]\n",
    "a.pop(-1)\n",
    "a"
   ]
  },
  {
   "cell_type": "code",
   "execution_count": null,
   "metadata": {},
   "outputs": [],
   "source": []
  }
 ],
 "metadata": {
  "kernelspec": {
   "display_name": "Python 3",
   "language": "python",
   "name": "python3"
  },
  "language_info": {
   "codemirror_mode": {
    "name": "ipython",
    "version": 3
   },
   "file_extension": ".py",
   "mimetype": "text/x-python",
   "name": "python",
   "nbconvert_exporter": "python",
   "pygments_lexer": "ipython3",
   "version": "3.7.5"
  }
 },
 "nbformat": 4,
 "nbformat_minor": 4
}
